{
 "cells": [
  {
   "attachments": {},
   "cell_type": "markdown",
   "metadata": {},
   "source": [
    "P(y|X) = [P(x1|y) P(x2|y) ... P(y)]/P(X)  X is the feature vector X= (x1,x2,x3.....,xn) all x are IID , using the chain rule"
   ]
  },
  {
   "cell_type": "code",
   "execution_count": null,
   "metadata": {},
   "outputs": [],
   "source": [
    "import numpy as np\n",
    "from sklearn.model_selection import train_test_split\n",
    "from sklearn import datasets\n",
    "\n",
    "import pandas as pd                                         #Data scientist starter pack\n",
    "from matplotlib import pyplot as plt\n",
    "import math\n",
    "\n",
    "from collections import Counter                             #Some useful tools \n",
    "from functools import reduce\n",
    "\n",
    "import seaborn as sns                                       #More on plotting\n",
    "\n",
    "import torch as trc                                         #To set PyTorch framework\n",
    "from torch.autograd import Variable\n",
    "from torch.nn import Linear, ReLU, CrossEntropyLoss, Sequential, Conv1d, MaxPool1d, Module, Softmax, BatchNorm1d, Dropout\n",
    "from torch.optim import Adam, SGD\n",
    "\n",
    "from sklearn.model_selection import train_test_split        #Tool to fast build validation set\n",
    "\n",
    "from datetime import datetime                               #To deal with datetime objects\n",
    "\n",
    "import string                                               #Some useful string tools\n",
    "import nltk                                                 #Natural language processing libraries\n",
    "import spacy\n",
    "import re                                                   #Regex tools\n",
    "\n",
    "import random as rdm                                        #Simulation tools\n",
    "import time                                                 #Ticking away the moments that make up a dull day\n",
    "\n",
    "from tqdm import tqdm                                       #Te quiero desmasiado "
   ]
  },
  {
   "cell_type": "code",
   "execution_count": null,
   "metadata": {},
   "outputs": [],
   "source": [
    "dow_jones = pd.read_csv('datasets/upload_DJIA_table.csv', usecols=['Date','Open','Close'])"
   ]
  },
  {
   "cell_type": "code",
   "execution_count": null,
   "metadata": {},
   "outputs": [],
   "source": [
    "ground_truth = []\n",
    "for idx in dow_jones.index:\n",
    "    if dow_jones.iloc[idx].Close >= dow_jones.iloc[idx].Open:\n",
    "        ground_truth.append(1)\n",
    "    else:\n",
    "        ground_truth.append(0)"
   ]
  },
  {
   "cell_type": "code",
   "execution_count": null,
   "metadata": {},
   "outputs": [],
   "source": [
    "dow_jones['Label'] = ground_truth"
   ]
  },
  {
   "cell_type": "code",
   "execution_count": null,
   "metadata": {},
   "outputs": [],
   "source": [
    "news = pd.read_csv('datasets/RedditNews.csv')"
   ]
  },
  {
   "cell_type": "code",
   "execution_count": null,
   "metadata": {},
   "outputs": [],
   "source": [
    "def text_preprocesser(text:string)->list:\n",
    "    tokenized = nltk.word_tokenize(''.join([char \n",
    "                                       for char \n",
    "                                       in text.lower() \n",
    "                                       if char not in string.punctuation]))\n",
    "                                       \n",
    "    stop_words = nltk.corpus.stopwords.words('english')\n",
    "    no_stop_words = [word \n",
    "                     for word \n",
    "                     in tokenized \n",
    "                     if word not in stop_words]\n",
    "\n",
    "    stemmer = nltk.stem.porter.PorterStemmer()\n",
    "\n",
    "    return [stemmer.stem(word)\n",
    "            for word \n",
    "            in no_stop_words]"
   ]
  },
  {
   "cell_type": "code",
   "execution_count": null,
   "metadata": {},
   "outputs": [],
   "source": [
    "nltk.download('punkt')\n",
    "nltk.download('stopwords')\n",
    "documents = {}\n",
    "for date in tqdm(news.Date.unique()):\n",
    "    processed = []\n",
    "    for text in news.News[news.Date == date]:\n",
    "        processed += text_preprocesser(text)\n",
    "    documents[date] = processed"
   ]
  },
  {
   "cell_type": "code",
   "execution_count": null,
   "metadata": {},
   "outputs": [],
   "source": [
    "final_dataset = dow_jones.merge(newers)\n",
    "final_dataset = final_dataset.drop(labels=['Open','Close'], axis=1)"
   ]
  },
  {
   "attachments": {},
   "cell_type": "markdown",
   "metadata": {},
   "source": [
    "Naive Bayes classification based on Bayes Theorem\n",
    "P(y|X) = ( P(X|y) P(y) ) / P(X)\n",
    "X is the vector of features and all are mutually indipendent\n",
    "P(y|X) = ( P(x1|y) P(x2|y) P(x3|y) ... P(xn|y) P(y) ) / P(X)\n",
    "P(y|X) is the posterior probability\n",
    "P(y) is the prior probability\n",
    "The goal is to select the class with highest probability\n",
    "y = max(P(y|X)) \n",
    "since P(x1|y) P(x2|y) ... are bounded 0 to 1  and if are multiplied , will get very small number. so its suggest to use log\n",
    "log(P(x1|y)) + log(P(x2|y)) ....\n",
    "\n",
    "To calculate the conditional prob P(xn|y) is used the Bernoulli distribution\n",
    "P(X) = p if X =1 and q if X = 0\n",
    "where q = 1-p and 0 < p <1"
   ]
  },
  {
   "cell_type": "code",
   "execution_count": null,
   "metadata": {},
   "outputs": [],
   "source": [
    "def accuracy(y_t,y_p):\n",
    "    return np.sum(y_t == y_p) / len(y_t)"
   ]
  },
  {
   "cell_type": "code",
   "execution_count": 60,
   "metadata": {},
   "outputs": [],
   "source": [
    "class BernoulliNaiveBayes:\n",
    "    def fit(self, X, y):\n",
    "        self.classes = np.unique(y) # trova le classi uniche\n",
    "        self.parameters = []\n",
    "        for c in self.classes:\n",
    "            X_c = X[y == c]  # seleziona le osservazioni di classe c\n",
    "            parameters_c = {}\n",
    "            for i in range(X.shape[1]):\n",
    "                parameters_c[i] = (X_c[:, i].sum() + 1) / (X_c.shape[0] + 2) # calcola la probabilità di ogni caratteristica per la classe c\n",
    "            self.parameters.append(parameters_c)\n",
    "        \n",
    "    def predict_proba(self, X):\n",
    "        probas = []\n",
    "        for i, x in enumerate(X):\n",
    "            proba_c = []\n",
    "            for c, p in zip(self.classes, self.parameters):\n",
    "                proba = np.prod([p[i]**x * (1 - p[i])**(1 - x) for i, x in enumerate(x)]) \n",
    "                # calcola la probabilità della classe c per l'osservazione x\n",
    "                proba_c.append(proba)\n",
    "            probas.append(proba_c)\n",
    "        return probas\n",
    "    \n",
    "    def predict(self, X):\n",
    "        return np.argmax(self.predict_proba(X), axis=1)"
   ]
  },
  {
   "cell_type": "code",
   "execution_count": 76,
   "metadata": {},
   "outputs": [],
   "source": [
    "class BernoulliNBChat:\n",
    "       \n",
    "    def fit(self, X, y):\n",
    "        self.classes_ = np.unique(y) # Get the unique class labels\n",
    "        self.class_counts_ = np.zeros(len(self.classes_)) # Initialize a count for each class\n",
    "        self.feature_counts_ = np.zeros((len(self.classes_), X.shape[1])) # Initialize a count for each feature given each class\n",
    "        \n",
    "        # Count the number of occurrences of each class and each feature given each class\n",
    "        for i, c in enumerate(self.classes_):\n",
    "            X_c = X[y == c] # Get the training samples for class c\n",
    "            self.class_counts_[i] = X_c.shape[0] # Count the number of samples in class c\n",
    "            self.feature_counts_[i, :] = (X_c == 1).sum(axis=0) # Count the number of 1s for each feature given class c\n",
    "          \n",
    "        # Calculate the probability of each class\n",
    "        self.class_priors_ = self.class_counts_ / self.class_counts_.sum()\n",
    "        \n",
    "        # Calculate the probability of each feature given each class\n",
    "        self.feature_probs_ = self.feature_counts_ / self.class_counts_[:, np.newaxis]\n",
    "    \n",
    "    def predict(self, X):\n",
    "            # Initialize a matrix to store the log probability of each sample given each class\n",
    "        log_probs = np.zeros((X.shape[0], len(self.classes_)))\n",
    "        \n",
    "        # Calculate the log probability of each sample given each class\n",
    "        for i, c in enumerate(self.classes_):\n",
    "            # Calculate the log probability of each feature given class c\n",
    "            feature_log_probs = np.log(self.feature_probs_[i, :]) * X + np.log(1 - self.feature_probs_[i, :]) * (1 - X)\n",
    "            \n",
    "            # Sum the log probabilities of all features to get the log probability of the sample given class c\n",
    "            log_probs[:, i] = np.sum(feature_log_probs, axis=1)\n",
    "        \n",
    "        # Add the log probability of each class to the log probability of the sample given the class\n",
    "        log_probs += np.log(self.class_priors_)\n",
    "        \n",
    "        # Predict the class with the highest log probability for each sample\n",
    "        return self.classes_[np.argmax(log_probs, axis=1)]\n",
    "\n"
   ]
  },
  {
   "cell_type": "code",
   "execution_count": 86,
   "metadata": {},
   "outputs": [
    {
     "name": "stderr",
     "output_type": "stream",
     "text": [
      "C:\\Users\\andrea.messina\\AppData\\Local\\Temp\\ipykernel_6120\\821885837.py:19: RuntimeWarning: invalid value encountered in double_scalars\n",
      "  proba = np.prod([p[i]**x * (1 - p[i])**(1 - x) for i, x in enumerate(x)])\n"
     ]
    },
    {
     "name": "stdout",
     "output_type": "stream",
     "text": [
      "Accuracy  0.5165\n",
      "Accuracy BNB 0.9235\n",
      "Accuracy bernoulliNBChat 0.5165\n"
     ]
    },
    {
     "name": "stderr",
     "output_type": "stream",
     "text": [
      "C:\\Users\\andrea.messina\\AppData\\Local\\Temp\\ipykernel_6120\\3291593071.py:27: RuntimeWarning: divide by zero encountered in log\n",
      "  feature_log_probs = np.log(self.feature_probs_[i, :]) * X + np.log(1 - self.feature_probs_[i, :]) * (1 - X)\n",
      "C:\\Users\\andrea.messina\\AppData\\Local\\Packages\\PythonSoftwareFoundation.Python.3.9_qbz5n2kfra8p0\\LocalCache\\local-packages\\Python39\\site-packages\\numpy\\core\\fromnumeric.py:86: RuntimeWarning: invalid value encountered in reduce\n",
      "  return ufunc.reduce(obj, axis, dtype, out, **passkwargs)\n"
     ]
    }
   ],
   "source": [
    "\n",
    "from sklearn.naive_bayes import BernoulliNB\n",
    "\n",
    "X,y =datasets.make_classification(n_samples=10000,n_features=10,n_classes=2)\n",
    "X_train, X_test,y_train,y_test = train_test_split(X,y,test_size=0.2)\n",
    "\n",
    "classifier = BernoulliNaiveBayes()\n",
    "classifier.fit(X_train,y_train)\n",
    "preds = classifier.predict(X_test)\n",
    "\n",
    "print(\"Accuracy \",accuracy(y_test,preds))\n",
    "\n",
    "bnb = BernoulliNB()\n",
    "bnb.fit(X_train,y_train)\n",
    "predictions = bnb.predict(X_test)\n",
    "print(\"Accuracy BNB\",accuracy(y_test,predictions))\n",
    "\n",
    "bernoulliNBChat = BernoulliNBChat()\n",
    "bernoulliNBChat.fit(X_train,y_train)\n",
    "predictions = bernoulliNBChat.predict(X_test)\n",
    "print(\"Accuracy bernoulliNBChat\",accuracy(y_test,predictions))\n",
    "\n"
   ]
  }
 ],
 "metadata": {
  "kernelspec": {
   "display_name": "Python 3",
   "language": "python",
   "name": "python3"
  },
  "language_info": {
   "codemirror_mode": {
    "name": "ipython",
    "version": 3
   },
   "file_extension": ".py",
   "mimetype": "text/x-python",
   "name": "python",
   "nbconvert_exporter": "python",
   "pygments_lexer": "ipython3",
   "version": "3.9.13"
  },
  "orig_nbformat": 4,
  "vscode": {
   "interpreter": {
    "hash": "4d06c88ac2a049f79a30408ed2df2e29361bb0312875b398831af29b56d77110"
   }
  }
 },
 "nbformat": 4,
 "nbformat_minor": 2
}
