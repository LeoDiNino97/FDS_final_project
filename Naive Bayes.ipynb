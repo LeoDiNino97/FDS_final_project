{
 "cells": [
  {
   "attachments": {},
   "cell_type": "markdown",
   "metadata": {},
   "source": [
    "P(y|X) = [P(x1|y) P(x2|y) ... P(y)]/P(X)  X is the feature vector X= (x1,x2,x3.....,xn) all x are IID , using the chain rule"
   ]
  },
  {
   "cell_type": "code",
   "execution_count": 6,
   "metadata": {},
   "outputs": [],
   "source": [
    "import numpy as np\n",
    "from sklearn.model_selection import train_test_split\n",
    "from sklearn import datasets\n"
   ]
  },
  {
   "attachments": {},
   "cell_type": "markdown",
   "metadata": {},
   "source": [
    "Naive Bayes classification based on Bayes Theorem\n",
    "P(y|X) = ( P(X|y) P(y) ) / P(X)\n",
    "X is the vector of features and all are mutually indipendent\n",
    "P(y|X) = ( P(x1|y) P(x2|y) P(x3|y) ... P(xn|y) P(y) ) / P(X)\n",
    "P(y|X) is the posterior probability\n",
    "P(y) is the prior probability\n",
    "The goal is to select the class with highest probability\n",
    "y = max(P(y|X)) \n",
    "since P(x1|y) P(x2|y) ... are bounded 0 to 1  and if are multiplied , will get very small number. so its suggest to use log\n",
    "log(P(x1|y)) + log(P(x2|y)) ....\n",
    "\n",
    "To calculate the conditional prob P(xn|y) is used the Gaussian distribution\n",
    "numerator = exp(- (x - mean)^2 / (2 * variance))\n",
    "denominator = sqrt(2 * pi * variance)"
   ]
  },
  {
   "cell_type": "code",
   "execution_count": 32,
   "metadata": {},
   "outputs": [],
   "source": [
    "class NaiveBayes:\n",
    "    \n",
    "    def fit(self, X, y):\n",
    "        n_samples, n_features = X.shape\n",
    "        self._classes = np.unique(y) #get the unique element of the array , so the classes 0,1\n",
    "        n_classes = len(self._classes) # number of the classes\n",
    "\n",
    "        #initializing class variable\n",
    "        self._mean = np.zeros((n_classes, n_features), dtype=np.float64)\n",
    "        self._var = np.zeros((n_classes, n_features), dtype=np.float64)\n",
    "        self._priors =  np.zeros(n_classes, dtype=np.float64)\n",
    "\n",
    "        # calculate mean, var, and prior for each class\n",
    "        for idx, c in enumerate(self._classes):\n",
    "            samples_c = X[y==c] #samples thats have c as label\n",
    "            self._mean[idx, :] = samples_c.mean(axis=0)\n",
    "            self._var[idx, :] = samples_c.var(axis=0)\n",
    "            self._priors[idx] = samples_c.shape[0] / float(n_samples) #number of samples labeled c / total samples\n",
    "\n",
    "    def predict(self, X):\n",
    "        y_pred = []\n",
    "        for x in X:    \n",
    "            posteriorsProbs = [] \n",
    "            # calculate posterior probability for each class\n",
    "            for idx, c in enumerate(self._classes):\n",
    "                \n",
    "                prior = np.log(self._priors[idx])\n",
    "                mean = self._mean[idx]\n",
    "                var = self._var[idx]\n",
    "                \n",
    "                # calculate the prob with Gaussian proability dense function \n",
    "                numerator = np.exp(- (x-mean)**2 / (2 * var))\n",
    "                denominator = np.sqrt(2 * np.pi * var)\n",
    "                posterior_prob = np.sum(np.log(numerator/denominator))\n",
    "                \n",
    "                #update posterior_prob with prior\n",
    "                posterior_prob = prior + posterior_prob\n",
    "                posteriorsProbs.append(posterior_prob)\n",
    "                \n",
    "            y_pred.append(self._classes[np.argmax(posteriorsProbs)])   \n",
    "            \n",
    "        return np.array(y_pred)        "
   ]
  },
  {
   "cell_type": "code",
   "execution_count": 34,
   "metadata": {},
   "outputs": [],
   "source": [
    "def accuracy(y_t,y_p):\n",
    "    return np.sum(y_t == y_p) / len(y_t)"
   ]
  },
  {
   "cell_type": "code",
   "execution_count": 35,
   "metadata": {},
   "outputs": [
    {
     "name": "stdout",
     "output_type": "stream",
     "text": [
      "Accuracy  0.965\n"
     ]
    }
   ],
   "source": [
    "\n",
    "X,y =datasets.make_classification(n_samples=1000,n_features=10,n_classes=2, random_state=123)\n",
    "X_train, X_test,y_train,y_test = train_test_split(X,y,test_size=0.2,random_state=123)\n",
    "\n",
    "nb = NaiveBayes()\n",
    "nb.fit(X_train,y_train)\n",
    "preds = nb.predict(X_test)\n",
    "\n",
    "\n",
    "print(\"Accuracy \",accuracy(y_test,preds))"
   ]
  }
 ],
 "metadata": {
  "kernelspec": {
   "display_name": "Python 3",
   "language": "python",
   "name": "python3"
  },
  "language_info": {
   "codemirror_mode": {
    "name": "ipython",
    "version": 3
   },
   "file_extension": ".py",
   "mimetype": "text/x-python",
   "name": "python",
   "nbconvert_exporter": "python",
   "pygments_lexer": "ipython3",
   "version": "3.9.13"
  },
  "orig_nbformat": 4,
  "vscode": {
   "interpreter": {
    "hash": "4d06c88ac2a049f79a30408ed2df2e29361bb0312875b398831af29b56d77110"
   }
  }
 },
 "nbformat": 4,
 "nbformat_minor": 2
}
