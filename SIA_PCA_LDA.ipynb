{
 "cells": [
  {
   "cell_type": "code",
   "execution_count": 53,
   "metadata": {},
   "outputs": [],
   "source": [
    "import pandas as pd                                         #Data scientist starter pack\n",
    "import numpy as np\n",
    "from matplotlib import pyplot as plt\n",
    "import math\n",
    "\n",
    "from collections import Counter                             #Some useful tools \n",
    "from functools import reduce\n",
    "\n",
    "import seaborn as sns                                       #More on plotting\n",
    "\n",
    "#import torch as trc                                         #To set PyTorch framework\n",
    "#from torch.autograd import Variable\n",
    "#from torch.nn import Linear, ReLU, CrossEntropyLoss, Sequential, Conv1d, MaxPool1d, Module, Softmax, BatchNorm1d, Dropout\n",
    "#from torch.optim import Adam, SGD\n",
    "\n",
    "from sklearn.model_selection import train_test_split        #Tool to fast build validation set\n",
    "\n",
    "from datetime import datetime                               #To deal with datetime objects\n",
    "\n",
    "import string                                               #Some useful string tools\n",
    "import nltk                                                 #Natural language processing libraries\n",
    "import spacy\n",
    "import re                                                   #Regex tools\n",
    "\n",
    "import random as rdm                                        #Simulation tools\n",
    "import time                                                 #Ticking away the moments that make up a dull day\n",
    "\n",
    "from tqdm import tqdm                                       #Te quiero desmasiado "
   ]
  },
  {
   "cell_type": "markdown",
   "metadata": {},
   "source": [
    "### *Dow Jones dataset: explorative data analysis and first feature engineering*"
   ]
  },
  {
   "cell_type": "markdown",
   "metadata": {},
   "source": [
    "We don't need all the columns for our task, so we are going to load only the relevant columns, that are the opening value of the index and its closing value."
   ]
  },
  {
   "cell_type": "code",
   "execution_count": 54,
   "metadata": {},
   "outputs": [],
   "source": [
    "dow_jones = pd.read_csv('datasets/upload_DJIA_table.csv', usecols=['Date','Open','Close'])"
   ]
  },
  {
   "cell_type": "code",
   "execution_count": 55,
   "metadata": {},
   "outputs": [
    {
     "data": {
      "text/html": [
       "<div>\n",
       "<style scoped>\n",
       "    .dataframe tbody tr th:only-of-type {\n",
       "        vertical-align: middle;\n",
       "    }\n",
       "\n",
       "    .dataframe tbody tr th {\n",
       "        vertical-align: top;\n",
       "    }\n",
       "\n",
       "    .dataframe thead th {\n",
       "        text-align: right;\n",
       "    }\n",
       "</style>\n",
       "<table border=\"1\" class=\"dataframe\">\n",
       "  <thead>\n",
       "    <tr style=\"text-align: right;\">\n",
       "      <th></th>\n",
       "      <th>Date</th>\n",
       "      <th>Open</th>\n",
       "      <th>Close</th>\n",
       "    </tr>\n",
       "  </thead>\n",
       "  <tbody>\n",
       "    <tr>\n",
       "      <th>0</th>\n",
       "      <td>2016-07-01</td>\n",
       "      <td>17924.240234</td>\n",
       "      <td>17949.369141</td>\n",
       "    </tr>\n",
       "    <tr>\n",
       "      <th>1</th>\n",
       "      <td>2016-06-30</td>\n",
       "      <td>17712.759766</td>\n",
       "      <td>17929.990234</td>\n",
       "    </tr>\n",
       "    <tr>\n",
       "      <th>2</th>\n",
       "      <td>2016-06-29</td>\n",
       "      <td>17456.019531</td>\n",
       "      <td>17694.679688</td>\n",
       "    </tr>\n",
       "    <tr>\n",
       "      <th>3</th>\n",
       "      <td>2016-06-28</td>\n",
       "      <td>17190.509766</td>\n",
       "      <td>17409.720703</td>\n",
       "    </tr>\n",
       "    <tr>\n",
       "      <th>4</th>\n",
       "      <td>2016-06-27</td>\n",
       "      <td>17355.210938</td>\n",
       "      <td>17140.240234</td>\n",
       "    </tr>\n",
       "    <tr>\n",
       "      <th>5</th>\n",
       "      <td>2016-06-24</td>\n",
       "      <td>17946.630859</td>\n",
       "      <td>17400.750000</td>\n",
       "    </tr>\n",
       "    <tr>\n",
       "      <th>6</th>\n",
       "      <td>2016-06-23</td>\n",
       "      <td>17844.109375</td>\n",
       "      <td>18011.070312</td>\n",
       "    </tr>\n",
       "    <tr>\n",
       "      <th>7</th>\n",
       "      <td>2016-06-22</td>\n",
       "      <td>17832.669922</td>\n",
       "      <td>17780.830078</td>\n",
       "    </tr>\n",
       "    <tr>\n",
       "      <th>8</th>\n",
       "      <td>2016-06-21</td>\n",
       "      <td>17827.330078</td>\n",
       "      <td>17829.730469</td>\n",
       "    </tr>\n",
       "    <tr>\n",
       "      <th>9</th>\n",
       "      <td>2016-06-20</td>\n",
       "      <td>17736.869141</td>\n",
       "      <td>17804.869141</td>\n",
       "    </tr>\n",
       "  </tbody>\n",
       "</table>\n",
       "</div>"
      ],
      "text/plain": [
       "         Date          Open         Close\n",
       "0  2016-07-01  17924.240234  17949.369141\n",
       "1  2016-06-30  17712.759766  17929.990234\n",
       "2  2016-06-29  17456.019531  17694.679688\n",
       "3  2016-06-28  17190.509766  17409.720703\n",
       "4  2016-06-27  17355.210938  17140.240234\n",
       "5  2016-06-24  17946.630859  17400.750000\n",
       "6  2016-06-23  17844.109375  18011.070312\n",
       "7  2016-06-22  17832.669922  17780.830078\n",
       "8  2016-06-21  17827.330078  17829.730469\n",
       "9  2016-06-20  17736.869141  17804.869141"
      ]
     },
     "execution_count": 55,
     "metadata": {},
     "output_type": "execute_result"
    }
   ],
   "source": [
    "dow_jones.head(10)"
   ]
  },
  {
   "cell_type": "code",
   "execution_count": 56,
   "metadata": {},
   "outputs": [
    {
     "data": {
      "text/plain": [
       "Date     0\n",
       "Open     0\n",
       "Close    0\n",
       "dtype: int64"
      ]
     },
     "execution_count": 56,
     "metadata": {},
     "output_type": "execute_result"
    }
   ],
   "source": [
    "dow_jones.isna().sum()"
   ]
  },
  {
   "cell_type": "code",
   "execution_count": 57,
   "metadata": {},
   "outputs": [
    {
     "name": "stdout",
     "output_type": "stream",
     "text": [
      "<class 'pandas.core.frame.DataFrame'>\n",
      "RangeIndex: 1989 entries, 0 to 1988\n",
      "Data columns (total 3 columns):\n",
      " #   Column  Non-Null Count  Dtype  \n",
      "---  ------  --------------  -----  \n",
      " 0   Date    1989 non-null   object \n",
      " 1   Open    1989 non-null   float64\n",
      " 2   Close   1989 non-null   float64\n",
      "dtypes: float64(2), object(1)\n",
      "memory usage: 46.7+ KB\n"
     ]
    }
   ],
   "source": [
    "dow_jones.info()"
   ]
  },
  {
   "cell_type": "markdown",
   "metadata": {},
   "source": [
    "The Dow Jones dataset seems consistent. Now let's build a column with a label that express the ground thruth over which we are going to buil our model:\n",
    "- 1 express that the DJIA closed increasing over the opening value or at least remained the same;\n",
    "- 0 express that the DJIA closed decreasing over the opening value."
   ]
  },
  {
   "cell_type": "code",
   "execution_count": 58,
   "metadata": {},
   "outputs": [],
   "source": [
    "ground_truth = []\n",
    "for idx in dow_jones.index:\n",
    "    if dow_jones.iloc[idx].Close >= dow_jones.iloc[idx].Open:\n",
    "        ground_truth.append(1)\n",
    "    else:\n",
    "        ground_truth.append(0)"
   ]
  },
  {
   "cell_type": "code",
   "execution_count": 59,
   "metadata": {},
   "outputs": [],
   "source": [
    "dow_jones['Label'] = ground_truth"
   ]
  },
  {
   "cell_type": "markdown",
   "metadata": {},
   "source": [
    "Now let's plot some charts to have a glimpse at the data visualization. We can look at the distribution of our new feature to discover if it is well balanced and we can have a look to the general trend of the opening-closing pairs. "
   ]
  },
  {
   "cell_type": "code",
   "execution_count": 60,
   "metadata": {},
   "outputs": [
    {
     "data": {
      "image/png": "[encoded data removed]",
      "text/plain": [
       "<Figure size 432x288 with 1 Axes>"
      ]
     },
     "metadata": {
      "needs_background": "light"
     },
     "output_type": "display_data"
    }
   ],
   "source": [
    "ax = plt.subplot(111)\n",
    "ax.bar(dow_jones['Label'].unique(), dow_jones['Label'].value_counts(), width=0.1, color=['green','red'])\n",
    "plt.show()"
   ]
  },
  {
   "cell_type": "code",
   "execution_count": 61,
   "metadata": {},
   "outputs": [
    {
     "data": {
      "text/plain": [
       "<matplotlib.collections.PathCollection at 0x7f7cf99d8970>"
      ]
     },
     "execution_count": 61,
     "metadata": {},
     "output_type": "execute_result"
    },
    {
     "data": {
      "image/png": "[encoded data removed]",
      "text/plain": [
       "<Figure size 432x288 with 1 Axes>"
      ]
     },
     "metadata": {
      "needs_background": "light"
     },
     "output_type": "display_data"
    }
   ],
   "source": [
    "plt.scatter(dow_jones.Open, dow_jones.Close, s = 0.5)"
   ]
  },
  {
   "cell_type": "markdown",
   "metadata": {},
   "source": [
    "We can see that our labels are quiet well balanced and that there's an expected strong linear correlation between opening DJIA and closening DJIA."
   ]
  },
  {
   "cell_type": "markdown",
   "metadata": {},
   "source": [
    "### *Newstitle dataset: explorative data analysis and text preprocessing*"
   ]
  },
  {
   "cell_type": "code",
   "execution_count": 62,
   "metadata": {},
   "outputs": [],
   "source": [
    "news = pd.read_csv('datasets/RedditNews.csv')"
   ]
  },
  {
   "cell_type": "code",
   "execution_count": 63,
   "metadata": {},
   "outputs": [
    {
     "data": {
      "text/html": [
       "<div>\n",
       "<style scoped>\n",
       "    .dataframe tbody tr th:only-of-type {\n",
       "        vertical-align: middle;\n",
       "    }\n",
       "\n",
       "    .dataframe tbody tr th {\n",
       "        vertical-align: top;\n",
       "    }\n",
       "\n",
       "    .dataframe thead th {\n",
       "        text-align: right;\n",
       "    }\n",
       "</style>\n",
       "<table border=\"1\" class=\"dataframe\">\n",
       "  <thead>\n",
       "    <tr style=\"text-align: right;\">\n",
       "      <th></th>\n",
       "      <th>Date</th>\n",
       "      <th>News</th>\n",
       "    </tr>\n",
       "  </thead>\n",
       "  <tbody>\n",
       "    <tr>\n",
       "      <th>0</th>\n",
       "      <td>2016-07-01</td>\n",
       "      <td>A 117-year-old woman in Mexico City finally re...</td>\n",
       "    </tr>\n",
       "    <tr>\n",
       "      <th>1</th>\n",
       "      <td>2016-07-01</td>\n",
       "      <td>IMF chief backs Athens as permanent Olympic host</td>\n",
       "    </tr>\n",
       "    <tr>\n",
       "      <th>2</th>\n",
       "      <td>2016-07-01</td>\n",
       "      <td>The president of France says if Brexit won, so...</td>\n",
       "    </tr>\n",
       "    <tr>\n",
       "      <th>3</th>\n",
       "      <td>2016-07-01</td>\n",
       "      <td>British Man Who Must Give Police 24 Hours' Not...</td>\n",
       "    </tr>\n",
       "    <tr>\n",
       "      <th>4</th>\n",
       "      <td>2016-07-01</td>\n",
       "      <td>100+ Nobel laureates urge Greenpeace to stop o...</td>\n",
       "    </tr>\n",
       "    <tr>\n",
       "      <th>5</th>\n",
       "      <td>2016-07-01</td>\n",
       "      <td>Brazil: Huge spike in number of police killing...</td>\n",
       "    </tr>\n",
       "    <tr>\n",
       "      <th>6</th>\n",
       "      <td>2016-07-01</td>\n",
       "      <td>Austria's highest court annuls presidential el...</td>\n",
       "    </tr>\n",
       "    <tr>\n",
       "      <th>7</th>\n",
       "      <td>2016-07-01</td>\n",
       "      <td>Facebook wins privacy case, can track any Belg...</td>\n",
       "    </tr>\n",
       "    <tr>\n",
       "      <th>8</th>\n",
       "      <td>2016-07-01</td>\n",
       "      <td>Switzerland denies Muslim girls citizenship af...</td>\n",
       "    </tr>\n",
       "    <tr>\n",
       "      <th>9</th>\n",
       "      <td>2016-07-01</td>\n",
       "      <td>China kills millions of innocent meditators fo...</td>\n",
       "    </tr>\n",
       "  </tbody>\n",
       "</table>\n",
       "</div>"
      ],
      "text/plain": [
       "         Date                                               News\n",
       "0  2016-07-01  A 117-year-old woman in Mexico City finally re...\n",
       "1  2016-07-01   IMF chief backs Athens as permanent Olympic host\n",
       "2  2016-07-01  The president of France says if Brexit won, so...\n",
       "3  2016-07-01  British Man Who Must Give Police 24 Hours' Not...\n",
       "4  2016-07-01  100+ Nobel laureates urge Greenpeace to stop o...\n",
       "5  2016-07-01  Brazil: Huge spike in number of police killing...\n",
       "6  2016-07-01  Austria's highest court annuls presidential el...\n",
       "7  2016-07-01  Facebook wins privacy case, can track any Belg...\n",
       "8  2016-07-01  Switzerland denies Muslim girls citizenship af...\n",
       "9  2016-07-01  China kills millions of innocent meditators fo..."
      ]
     },
     "execution_count": 63,
     "metadata": {},
     "output_type": "execute_result"
    }
   ],
   "source": [
    "news.head(10)"
   ]
  },
  {
   "cell_type": "markdown",
   "metadata": {},
   "source": [
    "Now we are just going to check if the dataset is consistent."
   ]
  },
  {
   "cell_type": "code",
   "execution_count": 64,
   "metadata": {},
   "outputs": [
    {
     "data": {
      "text/plain": [
       "Date    0\n",
       "News    0\n",
       "dtype: int64"
      ]
     },
     "execution_count": 64,
     "metadata": {},
     "output_type": "execute_result"
    }
   ],
   "source": [
    "news.isna().sum()"
   ]
  },
  {
   "cell_type": "markdown",
   "metadata": {},
   "source": [
    "So we can proceed to build a view of the dataset where we group by the date and then build a new feature from joining all the preprocessed newstitles. This function leverages NLTK library and do the whole text-preprocessing: punctuation and stop-words removal, tokenization and stemming. "
   ]
  },
  {
   "cell_type": "code",
   "execution_count": 65,
   "metadata": {},
   "outputs": [],
   "source": [
    "def text_preprocesser(text:string)->list:\n",
    "    tokenized = nltk.word_tokenize(''.join([char \n",
    "                                       for char \n",
    "                                       in text.lower() \n",
    "                                       if char not in string.punctuation]))\n",
    "                                       \n",
    "    stop_words = nltk.corpus.stopwords.words('english')\n",
    "    no_stop_words = [word \n",
    "                     for word \n",
    "                     in tokenized \n",
    "                     if word not in stop_words]\n",
    "\n",
    "    stemmer = nltk.stem.porter.PorterStemmer()\n",
    "\n",
    "    return [stemmer.stem(word)\n",
    "            for word \n",
    "            in no_stop_words]"
   ]
  },
  {
   "cell_type": "code",
   "execution_count": 66,
   "metadata": {},
   "outputs": [
    {
     "name": "stderr",
     "output_type": "stream",
     "text": [
      "100%|██████████| 2943/2943 [00:38<00:00, 76.18it/s]\n"
     ]
    }
   ],
   "source": [
    "documents = {}\n",
    "for date in tqdm(news.Date.unique()):\n",
    "    processed = []\n",
    "    for text in news.News[news.Date == date]:\n",
    "        processed += text_preprocesser(text)\n",
    "    documents[date] = processed"
   ]
  },
  {
   "cell_type": "code",
   "execution_count": 67,
   "metadata": {},
   "outputs": [],
   "source": [
    "newers = pd.DataFrame({'Date':documents.keys(),\n",
    "                      'Preprocessed News':documents.values()})"
   ]
  },
  {
   "cell_type": "code",
   "execution_count": 68,
   "metadata": {},
   "outputs": [
    {
     "data": {
      "text/html": [
       "<div>\n",
       "<style scoped>\n",
       "    .dataframe tbody tr th:only-of-type {\n",
       "        vertical-align: middle;\n",
       "    }\n",
       "\n",
       "    .dataframe tbody tr th {\n",
       "        vertical-align: top;\n",
       "    }\n",
       "\n",
       "    .dataframe thead th {\n",
       "        text-align: right;\n",
       "    }\n",
       "</style>\n",
       "<table border=\"1\" class=\"dataframe\">\n",
       "  <thead>\n",
       "    <tr style=\"text-align: right;\">\n",
       "      <th></th>\n",
       "      <th>Date</th>\n",
       "      <th>Preprocessed News</th>\n",
       "    </tr>\n",
       "  </thead>\n",
       "  <tbody>\n",
       "    <tr>\n",
       "      <th>0</th>\n",
       "      <td>2016-07-01</td>\n",
       "      <td>[117yearold, woman, mexico, citi, final, recei...</td>\n",
       "    </tr>\n",
       "    <tr>\n",
       "      <th>1</th>\n",
       "      <td>2016-06-30</td>\n",
       "      <td>[jamaica, propos, marijuana, dispens, tourist,...</td>\n",
       "    </tr>\n",
       "    <tr>\n",
       "      <th>2</th>\n",
       "      <td>2016-06-29</td>\n",
       "      <td>[explos, airport, istanbul, yemeni, former, pr...</td>\n",
       "    </tr>\n",
       "    <tr>\n",
       "      <th>3</th>\n",
       "      <td>2016-06-28</td>\n",
       "      <td>[2500, scientist, australia, want, save, great...</td>\n",
       "    </tr>\n",
       "    <tr>\n",
       "      <th>4</th>\n",
       "      <td>2016-06-27</td>\n",
       "      <td>[barclay, rb, share, suspend, trade, tank, 8, ...</td>\n",
       "    </tr>\n",
       "    <tr>\n",
       "      <th>5</th>\n",
       "      <td>2016-06-26</td>\n",
       "      <td>[author, raid, 14, scientolog, offic, russia, ...</td>\n",
       "    </tr>\n",
       "    <tr>\n",
       "      <th>6</th>\n",
       "      <td>2016-06-25</td>\n",
       "      <td>[six, week, rio, olymp, lab, handl, drug, test...</td>\n",
       "    </tr>\n",
       "    <tr>\n",
       "      <th>7</th>\n",
       "      <td>2016-06-24</td>\n",
       "      <td>[david, cameron, resign, pm, eu, referendum, b...</td>\n",
       "    </tr>\n",
       "    <tr>\n",
       "      <th>8</th>\n",
       "      <td>2016-06-23</td>\n",
       "      <td>[today, unit, kingdom, decid, whether, remain,...</td>\n",
       "    </tr>\n",
       "    <tr>\n",
       "      <th>9</th>\n",
       "      <td>2016-06-22</td>\n",
       "      <td>[german, govern, agre, ban, frack, indefinit, ...</td>\n",
       "    </tr>\n",
       "  </tbody>\n",
       "</table>\n",
       "</div>"
      ],
      "text/plain": [
       "         Date                                  Preprocessed News\n",
       "0  2016-07-01  [117yearold, woman, mexico, citi, final, recei...\n",
       "1  2016-06-30  [jamaica, propos, marijuana, dispens, tourist,...\n",
       "2  2016-06-29  [explos, airport, istanbul, yemeni, former, pr...\n",
       "3  2016-06-28  [2500, scientist, australia, want, save, great...\n",
       "4  2016-06-27  [barclay, rb, share, suspend, trade, tank, 8, ...\n",
       "5  2016-06-26  [author, raid, 14, scientolog, offic, russia, ...\n",
       "6  2016-06-25  [six, week, rio, olymp, lab, handl, drug, test...\n",
       "7  2016-06-24  [david, cameron, resign, pm, eu, referendum, b...\n",
       "8  2016-06-23  [today, unit, kingdom, decid, whether, remain,...\n",
       "9  2016-06-22  [german, govern, agre, ban, frack, indefinit, ..."
      ]
     },
     "execution_count": 68,
     "metadata": {},
     "output_type": "execute_result"
    }
   ],
   "source": [
    "newers.head(10)"
   ]
  },
  {
   "cell_type": "markdown",
   "metadata": {},
   "source": [
    "### *Our dataset: joining the previous work into a projection of the data of interest*"
   ]
  },
  {
   "cell_type": "code",
   "execution_count": 69,
   "metadata": {},
   "outputs": [],
   "source": [
    "final_dataset = dow_jones.merge(newers)\n",
    "final_dataset = final_dataset.drop(labels=['Open','Close'], axis=1)"
   ]
  },
  {
   "cell_type": "code",
   "execution_count": 70,
   "metadata": {},
   "outputs": [
    {
     "data": {
      "text/html": [
       "<div>\n",
       "<style scoped>\n",
       "    .dataframe tbody tr th:only-of-type {\n",
       "        vertical-align: middle;\n",
       "    }\n",
       "\n",
       "    .dataframe tbody tr th {\n",
       "        vertical-align: top;\n",
       "    }\n",
       "\n",
       "    .dataframe thead th {\n",
       "        text-align: right;\n",
       "    }\n",
       "</style>\n",
       "<table border=\"1\" class=\"dataframe\">\n",
       "  <thead>\n",
       "    <tr style=\"text-align: right;\">\n",
       "      <th></th>\n",
       "      <th>Date</th>\n",
       "      <th>Label</th>\n",
       "      <th>Preprocessed News</th>\n",
       "    </tr>\n",
       "  </thead>\n",
       "  <tbody>\n",
       "    <tr>\n",
       "      <th>0</th>\n",
       "      <td>2016-07-01</td>\n",
       "      <td>1</td>\n",
       "      <td>[117yearold, woman, mexico, citi, final, recei...</td>\n",
       "    </tr>\n",
       "    <tr>\n",
       "      <th>1</th>\n",
       "      <td>2016-06-30</td>\n",
       "      <td>1</td>\n",
       "      <td>[jamaica, propos, marijuana, dispens, tourist,...</td>\n",
       "    </tr>\n",
       "    <tr>\n",
       "      <th>2</th>\n",
       "      <td>2016-06-29</td>\n",
       "      <td>1</td>\n",
       "      <td>[explos, airport, istanbul, yemeni, former, pr...</td>\n",
       "    </tr>\n",
       "    <tr>\n",
       "      <th>3</th>\n",
       "      <td>2016-06-28</td>\n",
       "      <td>1</td>\n",
       "      <td>[2500, scientist, australia, want, save, great...</td>\n",
       "    </tr>\n",
       "    <tr>\n",
       "      <th>4</th>\n",
       "      <td>2016-06-27</td>\n",
       "      <td>0</td>\n",
       "      <td>[barclay, rb, share, suspend, trade, tank, 8, ...</td>\n",
       "    </tr>\n",
       "    <tr>\n",
       "      <th>5</th>\n",
       "      <td>2016-06-24</td>\n",
       "      <td>0</td>\n",
       "      <td>[david, cameron, resign, pm, eu, referendum, b...</td>\n",
       "    </tr>\n",
       "    <tr>\n",
       "      <th>6</th>\n",
       "      <td>2016-06-23</td>\n",
       "      <td>1</td>\n",
       "      <td>[today, unit, kingdom, decid, whether, remain,...</td>\n",
       "    </tr>\n",
       "    <tr>\n",
       "      <th>7</th>\n",
       "      <td>2016-06-22</td>\n",
       "      <td>0</td>\n",
       "      <td>[german, govern, agre, ban, frack, indefinit, ...</td>\n",
       "    </tr>\n",
       "    <tr>\n",
       "      <th>8</th>\n",
       "      <td>2016-06-21</td>\n",
       "      <td>1</td>\n",
       "      <td>[australian, athlet, compet, six, paralymp, ga...</td>\n",
       "    </tr>\n",
       "    <tr>\n",
       "      <th>9</th>\n",
       "      <td>2016-06-20</td>\n",
       "      <td>1</td>\n",
       "      <td>[stagger, 87, percent, venezuelan, say, money,...</td>\n",
       "    </tr>\n",
       "  </tbody>\n",
       "</table>\n",
       "</div>"
      ],
      "text/plain": [
       "         Date  Label                                  Preprocessed News\n",
       "0  2016-07-01      1  [117yearold, woman, mexico, citi, final, recei...\n",
       "1  2016-06-30      1  [jamaica, propos, marijuana, dispens, tourist,...\n",
       "2  2016-06-29      1  [explos, airport, istanbul, yemeni, former, pr...\n",
       "3  2016-06-28      1  [2500, scientist, australia, want, save, great...\n",
       "4  2016-06-27      0  [barclay, rb, share, suspend, trade, tank, 8, ...\n",
       "5  2016-06-24      0  [david, cameron, resign, pm, eu, referendum, b...\n",
       "6  2016-06-23      1  [today, unit, kingdom, decid, whether, remain,...\n",
       "7  2016-06-22      0  [german, govern, agre, ban, frack, indefinit, ...\n",
       "8  2016-06-21      1  [australian, athlet, compet, six, paralymp, ga...\n",
       "9  2016-06-20      1  [stagger, 87, percent, venezuelan, say, money,..."
      ]
     },
     "execution_count": 70,
     "metadata": {},
     "output_type": "execute_result"
    }
   ],
   "source": [
    "final_dataset.head(10)"
   ]
  },
  {
   "cell_type": "markdown",
   "metadata": {},
   "source": [
    "### *Applying Sentiment Analysis to the dataset*"
   ]
  },
  {
   "cell_type": "markdown",
   "metadata": {},
   "source": [
    "A relationship between breaking news and the stock price has been demonstrated. When breaking news arrives, stock prices will react. This is called Price Discovery.\n",
    "The type of stock price reaction depends on whether the news is good, bad, or neutral. For investors it is important to have a model that helps them predict how much the market price varies depending on the type of news[1].\n",
    "\n",
    "Our motivation for conducting sentiment-based text analysis, or opinion mining as it is commonly known, is to determine how neutral the media are in reporting the news and how this neutrality or non-neutrality affects the stock price. \n",
    "\n",
    "Sentiment Analisys can help us to determine the mood or emotion in a text. This type of analysis is used to have a better understanding of the text and with this to analyze the impacts they cause.\n",
    "\n",
    "Firstly, we are going to use TextBlob that is a library for Natural Language Processing(NLP) which performs complex analysis on data. This library use NLTK.\n",
    "TextBlob will give us back a score of polarity and subjectivity of the text.\n",
    "\n",
    "\n",
    "\n",
    "- Polarity score will be between -1 and 1, where -1 is a text considered negative and 1 is a text considered positive. In this case -1 will be for bad news and 1 for good news. \n",
    "- Subjectivity takes into account the personal and objective opinion contained in the text. Subjectivity score will be between 0 and 1, the closer to 1 the subjectivity is, it implies that the text contains more personal opinion than factual information. [2].\n",
    "\n",
    "Secondly, we are going to use VADER (Valence Aware Dictionary and sEntiment Reasoner) to obtain the score that represents whether the news is qualified as negative, positive, or neutral. VADER is a rule-based model for sentiment analysys specialized in social media. Several studies have shown that VADER is more sensitive for social media text analysis compared to other models. VADER also takes into consideration word order and degree modifiers [3]. \n",
    "\n",
    "Using the scores obtained by VADER and the Polarity and Subjectivity obtained by TextBlob, the classification model will be made.\n",
    "\n",
    "[1] https://www.bmo.com/main/personal/investments/learning-centre/how-breaking-news-affects-markets/#:~:text=When%20breaking%20news%20comes%20in,price%20movements%20following%20the%20news.\n",
    "\n",
    "[2] https://towardsdatascience.com/my-absolute-go-to-for-sentiment-analysis-textblob-3ac3a11d524\n",
    "\n",
    "[3] https://www.iaeng.org/publication/IMECS2019/IMECS2019_pp12-16.pdf"
   ]
  },
  {
   "cell_type": "markdown",
   "metadata": {},
   "source": [
    "To analyze the text, we must convert the Preprocessed News into a string"
   ]
  },
  {
   "cell_type": "code",
   "execution_count": 71,
   "metadata": {},
   "outputs": [],
   "source": [
    "#converting the words into a list of lists\n",
    "preprocessed_news_text = final_dataset[\"Preprocessed News\"].values.tolist()\n",
    "\n",
    "#converting the lists into string to obtain the text\n",
    "preprocessed_news_text_ = [\" \".join(news) for news in preprocessed_news_text]\n",
    "\n",
    "#converting the final list into a DataFrame\n",
    "df_string_news = pd.DataFrame(preprocessed_news_text_, columns = ['Preprocessed News Text'])\n",
    "\n",
    "#Saving the index as a column to merge the two DataFrames\n",
    "final_dataset.reset_index(inplace=True)\n",
    "df_string_news.reset_index(inplace=True)\n",
    "\n",
    "#Merge to obtain the final DataFrame\n",
    "final_dataset_text = final_dataset.merge(df_string_news, left_on='index', right_on='index')\n",
    "\n",
    "#Getting just the useful columns\n",
    "final_dataset_text = final_dataset_text.drop(columns=['Preprocessed News','index'])"
   ]
  },
  {
   "cell_type": "code",
   "execution_count": 72,
   "metadata": {},
   "outputs": [
    {
     "data": {
      "text/html": [
       "<div>\n",
       "<style scoped>\n",
       "    .dataframe tbody tr th:only-of-type {\n",
       "        vertical-align: middle;\n",
       "    }\n",
       "\n",
       "    .dataframe tbody tr th {\n",
       "        vertical-align: top;\n",
       "    }\n",
       "\n",
       "    .dataframe thead th {\n",
       "        text-align: right;\n",
       "    }\n",
       "</style>\n",
       "<table border=\"1\" class=\"dataframe\">\n",
       "  <thead>\n",
       "    <tr style=\"text-align: right;\">\n",
       "      <th></th>\n",
       "      <th>Date</th>\n",
       "      <th>Label</th>\n",
       "      <th>Preprocessed News Text</th>\n",
       "    </tr>\n",
       "  </thead>\n",
       "  <tbody>\n",
       "    <tr>\n",
       "      <th>0</th>\n",
       "      <td>2016-07-01</td>\n",
       "      <td>1</td>\n",
       "      <td>117yearold woman mexico citi final receiv birt...</td>\n",
       "    </tr>\n",
       "    <tr>\n",
       "      <th>1</th>\n",
       "      <td>2016-06-30</td>\n",
       "      <td>1</td>\n",
       "      <td>jamaica propos marijuana dispens tourist airpo...</td>\n",
       "    </tr>\n",
       "    <tr>\n",
       "      <th>2</th>\n",
       "      <td>2016-06-29</td>\n",
       "      <td>1</td>\n",
       "      <td>explos airport istanbul yemeni former presid t...</td>\n",
       "    </tr>\n",
       "    <tr>\n",
       "      <th>3</th>\n",
       "      <td>2016-06-28</td>\n",
       "      <td>1</td>\n",
       "      <td>2500 scientist australia want save great barri...</td>\n",
       "    </tr>\n",
       "    <tr>\n",
       "      <th>4</th>\n",
       "      <td>2016-06-27</td>\n",
       "      <td>0</td>\n",
       "      <td>barclay rb share suspend trade tank 8 pope say...</td>\n",
       "    </tr>\n",
       "    <tr>\n",
       "      <th>5</th>\n",
       "      <td>2016-06-24</td>\n",
       "      <td>0</td>\n",
       "      <td>david cameron resign pm eu referendum bbc fore...</td>\n",
       "    </tr>\n",
       "    <tr>\n",
       "      <th>6</th>\n",
       "      <td>2016-06-23</td>\n",
       "      <td>1</td>\n",
       "      <td>today unit kingdom decid whether remain europe...</td>\n",
       "    </tr>\n",
       "    <tr>\n",
       "      <th>7</th>\n",
       "      <td>2016-06-22</td>\n",
       "      <td>0</td>\n",
       "      <td>german govern agre ban frack indefinit teenag ...</td>\n",
       "    </tr>\n",
       "    <tr>\n",
       "      <th>8</th>\n",
       "      <td>2016-06-21</td>\n",
       "      <td>1</td>\n",
       "      <td>australian athlet compet six paralymp game rob...</td>\n",
       "    </tr>\n",
       "    <tr>\n",
       "      <th>9</th>\n",
       "      <td>2016-06-20</td>\n",
       "      <td>1</td>\n",
       "      <td>stagger 87 percent venezuelan say money buy en...</td>\n",
       "    </tr>\n",
       "  </tbody>\n",
       "</table>\n",
       "</div>"
      ],
      "text/plain": [
       "         Date  Label                             Preprocessed News Text\n",
       "0  2016-07-01      1  117yearold woman mexico citi final receiv birt...\n",
       "1  2016-06-30      1  jamaica propos marijuana dispens tourist airpo...\n",
       "2  2016-06-29      1  explos airport istanbul yemeni former presid t...\n",
       "3  2016-06-28      1  2500 scientist australia want save great barri...\n",
       "4  2016-06-27      0  barclay rb share suspend trade tank 8 pope say...\n",
       "5  2016-06-24      0  david cameron resign pm eu referendum bbc fore...\n",
       "6  2016-06-23      1  today unit kingdom decid whether remain europe...\n",
       "7  2016-06-22      0  german govern agre ban frack indefinit teenag ...\n",
       "8  2016-06-21      1  australian athlet compet six paralymp game rob...\n",
       "9  2016-06-20      1  stagger 87 percent venezuelan say money buy en..."
      ]
     },
     "execution_count": 72,
     "metadata": {},
     "output_type": "execute_result"
    }
   ],
   "source": [
    "final_dataset_text.head(10)"
   ]
  },
  {
   "cell_type": "markdown",
   "metadata": {},
   "source": [
    "### *Subjectivity and Polarity*"
   ]
  },
  {
   "cell_type": "code",
   "execution_count": 73,
   "metadata": {},
   "outputs": [],
   "source": [
    "from textblob import TextBlob #TextBlob to do the subjectivity and polarily analysis"
   ]
  },
  {
   "cell_type": "markdown",
   "metadata": {},
   "source": [
    "Defining the functions"
   ]
  },
  {
   "cell_type": "code",
   "execution_count": 74,
   "metadata": {},
   "outputs": [],
   "source": [
    "def subjectivity_score(news):\n",
    "    return TextBlob(news).sentiment.subjectivity\n",
    "\n",
    "def polarity_score(news):\n",
    "    return TextBlob(news).sentiment.polarity"
   ]
  },
  {
   "cell_type": "markdown",
   "metadata": {},
   "source": [
    "Creating two new columns 'Subjectivity' and 'Polarity'"
   ]
  },
  {
   "cell_type": "code",
   "execution_count": 75,
   "metadata": {},
   "outputs": [],
   "source": [
    "final_dataset_text[\"Subjectivity\"] = final_dataset_text[\"Preprocessed News Text\"].apply(subjectivity_score)\n",
    "\n",
    "final_dataset_text[\"Polarity\"] = final_dataset_text[\"Preprocessed News Text\"].apply(polarity_score)"
   ]
  },
  {
   "cell_type": "code",
   "execution_count": 76,
   "metadata": {},
   "outputs": [
    {
     "data": {
      "text/html": [
       "<div>\n",
       "<style scoped>\n",
       "    .dataframe tbody tr th:only-of-type {\n",
       "        vertical-align: middle;\n",
       "    }\n",
       "\n",
       "    .dataframe tbody tr th {\n",
       "        vertical-align: top;\n",
       "    }\n",
       "\n",
       "    .dataframe thead th {\n",
       "        text-align: right;\n",
       "    }\n",
       "</style>\n",
       "<table border=\"1\" class=\"dataframe\">\n",
       "  <thead>\n",
       "    <tr style=\"text-align: right;\">\n",
       "      <th></th>\n",
       "      <th>Date</th>\n",
       "      <th>Label</th>\n",
       "      <th>Preprocessed News Text</th>\n",
       "      <th>Subjectivity</th>\n",
       "      <th>Polarity</th>\n",
       "    </tr>\n",
       "  </thead>\n",
       "  <tbody>\n",
       "    <tr>\n",
       "      <th>1924</th>\n",
       "      <td>2008-11-07</td>\n",
       "      <td>1</td>\n",
       "      <td>buk judg ask media whether releas guantanamo b...</td>\n",
       "      <td>0.645969</td>\n",
       "      <td>0.091316</td>\n",
       "    </tr>\n",
       "    <tr>\n",
       "      <th>1909</th>\n",
       "      <td>2008-12-01</td>\n",
       "      <td>0</td>\n",
       "      <td>bthe uk make offenc punish ten year imprison p...</td>\n",
       "      <td>0.635000</td>\n",
       "      <td>0.026667</td>\n",
       "    </tr>\n",
       "    <tr>\n",
       "      <th>1238</th>\n",
       "      <td>2011-08-01</td>\n",
       "      <td>0</td>\n",
       "      <td>murdoch news intern order tech firm massdelet ...</td>\n",
       "      <td>0.618660</td>\n",
       "      <td>-0.231639</td>\n",
       "    </tr>\n",
       "    <tr>\n",
       "      <th>1774</th>\n",
       "      <td>2009-06-16</td>\n",
       "      <td>0</td>\n",
       "      <td>byall wan na see femin patriot go iranian woma...</td>\n",
       "      <td>0.594391</td>\n",
       "      <td>-0.170455</td>\n",
       "    </tr>\n",
       "    <tr>\n",
       "      <th>1986</th>\n",
       "      <td>2008-08-12</td>\n",
       "      <td>0</td>\n",
       "      <td>brememb ador 9yearold sang open ceremoni fake ...</td>\n",
       "      <td>0.587207</td>\n",
       "      <td>-0.158049</td>\n",
       "    </tr>\n",
       "    <tr>\n",
       "      <th>1644</th>\n",
       "      <td>2009-12-18</td>\n",
       "      <td>1</td>\n",
       "      <td>bpragu tv tower world largest spheric rnpanora...</td>\n",
       "      <td>0.572311</td>\n",
       "      <td>-0.005114</td>\n",
       "    </tr>\n",
       "    <tr>\n",
       "      <th>1141</th>\n",
       "      <td>2011-12-16</td>\n",
       "      <td>0</td>\n",
       "      <td>christoph hitchen die 62 polic includ occupi m...</td>\n",
       "      <td>0.570412</td>\n",
       "      <td>-0.008460</td>\n",
       "    </tr>\n",
       "    <tr>\n",
       "      <th>1304</th>\n",
       "      <td>2011-04-27</td>\n",
       "      <td>1</td>\n",
       "      <td>fatah hama sign reconcili deal palestinian fac...</td>\n",
       "      <td>0.559903</td>\n",
       "      <td>0.144751</td>\n",
       "    </tr>\n",
       "    <tr>\n",
       "      <th>1933</th>\n",
       "      <td>2008-10-27</td>\n",
       "      <td>0</td>\n",
       "      <td>bbbc rampant evid georgia commit war crime con...</td>\n",
       "      <td>0.559167</td>\n",
       "      <td>-0.147917</td>\n",
       "    </tr>\n",
       "    <tr>\n",
       "      <th>738</th>\n",
       "      <td>2013-07-29</td>\n",
       "      <td>0</td>\n",
       "      <td>saudi princ defect royal famili regim saudi ar...</td>\n",
       "      <td>0.558219</td>\n",
       "      <td>-0.046373</td>\n",
       "    </tr>\n",
       "  </tbody>\n",
       "</table>\n",
       "</div>"
      ],
      "text/plain": [
       "            Date  Label                             Preprocessed News Text  \\\n",
       "1924  2008-11-07      1  buk judg ask media whether releas guantanamo b...   \n",
       "1909  2008-12-01      0  bthe uk make offenc punish ten year imprison p...   \n",
       "1238  2011-08-01      0  murdoch news intern order tech firm massdelet ...   \n",
       "1774  2009-06-16      0  byall wan na see femin patriot go iranian woma...   \n",
       "1986  2008-08-12      0  brememb ador 9yearold sang open ceremoni fake ...   \n",
       "1644  2009-12-18      1  bpragu tv tower world largest spheric rnpanora...   \n",
       "1141  2011-12-16      0  christoph hitchen die 62 polic includ occupi m...   \n",
       "1304  2011-04-27      1  fatah hama sign reconcili deal palestinian fac...   \n",
       "1933  2008-10-27      0  bbbc rampant evid georgia commit war crime con...   \n",
       "738   2013-07-29      0  saudi princ defect royal famili regim saudi ar...   \n",
       "\n",
       "      Subjectivity  Polarity  \n",
       "1924      0.645969  0.091316  \n",
       "1909      0.635000  0.026667  \n",
       "1238      0.618660 -0.231639  \n",
       "1774      0.594391 -0.170455  \n",
       "1986      0.587207 -0.158049  \n",
       "1644      0.572311 -0.005114  \n",
       "1141      0.570412 -0.008460  \n",
       "1304      0.559903  0.144751  \n",
       "1933      0.559167 -0.147917  \n",
       "738       0.558219 -0.046373  "
      ]
     },
     "execution_count": 76,
     "metadata": {},
     "output_type": "execute_result"
    }
   ],
   "source": [
    "final_dataset_text.sort_values(by=\"Subjectivity\", ascending=False).head(10)"
   ]
  },
  {
   "cell_type": "code",
   "execution_count": 77,
   "metadata": {},
   "outputs": [
    {
     "data": {
      "text/html": [
       "<div>\n",
       "<style scoped>\n",
       "    .dataframe tbody tr th:only-of-type {\n",
       "        vertical-align: middle;\n",
       "    }\n",
       "\n",
       "    .dataframe tbody tr th {\n",
       "        vertical-align: top;\n",
       "    }\n",
       "\n",
       "    .dataframe thead th {\n",
       "        text-align: right;\n",
       "    }\n",
       "</style>\n",
       "<table border=\"1\" class=\"dataframe\">\n",
       "  <thead>\n",
       "    <tr style=\"text-align: right;\">\n",
       "      <th></th>\n",
       "      <th>Date</th>\n",
       "      <th>Label</th>\n",
       "      <th>Preprocessed News Text</th>\n",
       "      <th>Subjectivity</th>\n",
       "      <th>Polarity</th>\n",
       "    </tr>\n",
       "  </thead>\n",
       "  <tbody>\n",
       "    <tr>\n",
       "      <th>1555</th>\n",
       "      <td>2010-04-29</td>\n",
       "      <td>1</td>\n",
       "      <td>bchina lost 2000 olymp bronz medal gymnast pro...</td>\n",
       "      <td>0.411111</td>\n",
       "      <td>-0.242222</td>\n",
       "    </tr>\n",
       "    <tr>\n",
       "      <th>1899</th>\n",
       "      <td>2008-12-15</td>\n",
       "      <td>0</td>\n",
       "      <td>bturk apolog armenian massacr bgreek youth bre...</td>\n",
       "      <td>0.538095</td>\n",
       "      <td>-0.233929</td>\n",
       "    </tr>\n",
       "    <tr>\n",
       "      <th>1238</th>\n",
       "      <td>2011-08-01</td>\n",
       "      <td>0</td>\n",
       "      <td>murdoch news intern order tech firm massdelet ...</td>\n",
       "      <td>0.618660</td>\n",
       "      <td>-0.231639</td>\n",
       "    </tr>\n",
       "    <tr>\n",
       "      <th>661</th>\n",
       "      <td>2013-11-14</td>\n",
       "      <td>1</td>\n",
       "      <td>indian train strike herd 40 eleph cross track ...</td>\n",
       "      <td>0.421649</td>\n",
       "      <td>-0.219435</td>\n",
       "    </tr>\n",
       "    <tr>\n",
       "      <th>1662</th>\n",
       "      <td>2009-11-23</td>\n",
       "      <td>1</td>\n",
       "      <td>bwow turn guy paralyz fulli awar 23 year isnt ...</td>\n",
       "      <td>0.326053</td>\n",
       "      <td>-0.198306</td>\n",
       "    </tr>\n",
       "    <tr>\n",
       "      <th>1877</th>\n",
       "      <td>2009-01-16</td>\n",
       "      <td>1</td>\n",
       "      <td>bisra farmer begin feel sting worldwid boycott...</td>\n",
       "      <td>0.250000</td>\n",
       "      <td>-0.196154</td>\n",
       "    </tr>\n",
       "    <tr>\n",
       "      <th>1957</th>\n",
       "      <td>2008-09-23</td>\n",
       "      <td>0</td>\n",
       "      <td>bu 13 billion money alloc reconstruct project ...</td>\n",
       "      <td>0.487500</td>\n",
       "      <td>-0.187500</td>\n",
       "    </tr>\n",
       "    <tr>\n",
       "      <th>1956</th>\n",
       "      <td>2008-09-24</td>\n",
       "      <td>0</td>\n",
       "      <td>biran leader say american empir near collaps b...</td>\n",
       "      <td>0.510623</td>\n",
       "      <td>-0.177656</td>\n",
       "    </tr>\n",
       "    <tr>\n",
       "      <th>1359</th>\n",
       "      <td>2011-02-07</td>\n",
       "      <td>1</td>\n",
       "      <td>einstein right honey bee collaps threaten glob...</td>\n",
       "      <td>0.329073</td>\n",
       "      <td>-0.176031</td>\n",
       "    </tr>\n",
       "    <tr>\n",
       "      <th>1774</th>\n",
       "      <td>2009-06-16</td>\n",
       "      <td>0</td>\n",
       "      <td>byall wan na see femin patriot go iranian woma...</td>\n",
       "      <td>0.594391</td>\n",
       "      <td>-0.170455</td>\n",
       "    </tr>\n",
       "  </tbody>\n",
       "</table>\n",
       "</div>"
      ],
      "text/plain": [
       "            Date  Label                             Preprocessed News Text  \\\n",
       "1555  2010-04-29      1  bchina lost 2000 olymp bronz medal gymnast pro...   \n",
       "1899  2008-12-15      0  bturk apolog armenian massacr bgreek youth bre...   \n",
       "1238  2011-08-01      0  murdoch news intern order tech firm massdelet ...   \n",
       "661   2013-11-14      1  indian train strike herd 40 eleph cross track ...   \n",
       "1662  2009-11-23      1  bwow turn guy paralyz fulli awar 23 year isnt ...   \n",
       "1877  2009-01-16      1  bisra farmer begin feel sting worldwid boycott...   \n",
       "1957  2008-09-23      0  bu 13 billion money alloc reconstruct project ...   \n",
       "1956  2008-09-24      0  biran leader say american empir near collaps b...   \n",
       "1359  2011-02-07      1  einstein right honey bee collaps threaten glob...   \n",
       "1774  2009-06-16      0  byall wan na see femin patriot go iranian woma...   \n",
       "\n",
       "      Subjectivity  Polarity  \n",
       "1555      0.411111 -0.242222  \n",
       "1899      0.538095 -0.233929  \n",
       "1238      0.618660 -0.231639  \n",
       "661       0.421649 -0.219435  \n",
       "1662      0.326053 -0.198306  \n",
       "1877      0.250000 -0.196154  \n",
       "1957      0.487500 -0.187500  \n",
       "1956      0.510623 -0.177656  \n",
       "1359      0.329073 -0.176031  \n",
       "1774      0.594391 -0.170455  "
      ]
     },
     "execution_count": 77,
     "metadata": {},
     "output_type": "execute_result"
    }
   ],
   "source": [
    "final_dataset_text.sort_values(by=\"Polarity\", ascending=True).head(10)"
   ]
  },
  {
   "cell_type": "markdown",
   "metadata": {},
   "source": [
    "By organizing the data in ascending order with respect to Polarity, it is possible to see in the first 10 data a relationship between Subjectivity, Polarity and the Label, which is our value of interest. \n",
    "\n",
    "As evidenced above, when the Polarity score is negative, that is, it tends to be negative news, and the Subjectivity value is close to 0.5 or higher, which means that the news tends to be subjective, the stock price had a decrease. This analysis is done a priori of the model to show that a logical relationship between the variables exists and therefore, we can have good results with the prediction model."
   ]
  },
  {
   "cell_type": "markdown",
   "metadata": {},
   "source": [
    "### *Sentiment Analysis using VADER*"
   ]
  },
  {
   "cell_type": "code",
   "execution_count": 78,
   "metadata": {},
   "outputs": [],
   "source": [
    "from vaderSentiment.vaderSentiment import SentimentIntensityAnalyzer #VADER to obtain the sentiment score"
   ]
  },
  {
   "cell_type": "markdown",
   "metadata": {},
   "source": [
    "Defining the function\n"
   ]
  },
  {
   "cell_type": "code",
   "execution_count": 79,
   "metadata": {},
   "outputs": [],
   "source": [
    "def sentiment_score(news):\n",
    "    sentiment_fun= SentimentIntensityAnalyzer()\n",
    "    sentiment_value = sentiment_fun.polarity_scores(news)\n",
    "    return sentiment_value "
   ]
  },
  {
   "cell_type": "markdown",
   "metadata": {},
   "source": [
    "SentimentIntensityAnalyzer() is an object and polarity_scores is a method that returns the following scores:\n",
    "- Positive\n",
    "- Negative\n",
    "- Neutral\n",
    "- Compound\n",
    "\n",
    "Compound score refers to the sum of positive, negative and neutral scores which is going to be between -1 and 1, -1 to extreme negative and 1 to extreme positive.\n",
    "\n",
    "Source:\n",
    "https://analyticsindiamag.com/sentiment-analysis-made-easy-using-vader/#:~:text=The%20compound%20score%20is%20the,the%20positivity%20of%20the%20text."
   ]
  },
  {
   "cell_type": "markdown",
   "metadata": {},
   "source": [
    "Getting the sentiment value for each news day and saving the scores previously defined"
   ]
  },
  {
   "cell_type": "code",
   "execution_count": 80,
   "metadata": {},
   "outputs": [],
   "source": [
    "#Creating lists to save each score\n",
    "positive = []\n",
    "negative = []\n",
    "neutral = []\n",
    "compound = []\n",
    "\n",
    "#Applying the funcion to the news.\n",
    "for news in range (0, len(final_dataset_text[\"Preprocessed News Text\"])):\n",
    "    sentiment_analysis = sentiment_score(final_dataset_text[\"Preprocessed News Text\"][news])\n",
    "    positive.append(sentiment_analysis['pos'])\n",
    "    negative.append(sentiment_analysis['neg'])\n",
    "    neutral.append(sentiment_analysis['neu'])\n",
    "    compound.append(sentiment_analysis['compound'])"
   ]
  },
  {
   "cell_type": "markdown",
   "metadata": {},
   "source": [
    "Assigning each list to a column in the DataFrame"
   ]
  },
  {
   "cell_type": "code",
   "execution_count": 81,
   "metadata": {},
   "outputs": [],
   "source": [
    "final_dataset_text['Positive'] = positive\n",
    "final_dataset_text['Negative'] = negative\n",
    "final_dataset_text['Neutral'] = neutral\n",
    "final_dataset_text['Compound'] = compound\n"
   ]
  },
  {
   "cell_type": "code",
   "execution_count": 82,
   "metadata": {},
   "outputs": [
    {
     "data": {
      "text/html": [
       "<div>\n",
       "<style scoped>\n",
       "    .dataframe tbody tr th:only-of-type {\n",
       "        vertical-align: middle;\n",
       "    }\n",
       "\n",
       "    .dataframe tbody tr th {\n",
       "        vertical-align: top;\n",
       "    }\n",
       "\n",
       "    .dataframe thead th {\n",
       "        text-align: right;\n",
       "    }\n",
       "</style>\n",
       "<table border=\"1\" class=\"dataframe\">\n",
       "  <thead>\n",
       "    <tr style=\"text-align: right;\">\n",
       "      <th></th>\n",
       "      <th>Date</th>\n",
       "      <th>Label</th>\n",
       "      <th>Preprocessed News Text</th>\n",
       "      <th>Subjectivity</th>\n",
       "      <th>Polarity</th>\n",
       "      <th>Positive</th>\n",
       "      <th>Negative</th>\n",
       "      <th>Neutral</th>\n",
       "      <th>Compound</th>\n",
       "    </tr>\n",
       "  </thead>\n",
       "  <tbody>\n",
       "    <tr>\n",
       "      <th>749</th>\n",
       "      <td>2013-07-12</td>\n",
       "      <td>1</td>\n",
       "      <td>canadian win 250000 dollar prize first human p...</td>\n",
       "      <td>0.337478</td>\n",
       "      <td>0.141294</td>\n",
       "      <td>0.129</td>\n",
       "      <td>0.108</td>\n",
       "      <td>0.762</td>\n",
       "      <td>0.8416</td>\n",
       "    </tr>\n",
       "    <tr>\n",
       "      <th>410</th>\n",
       "      <td>2014-11-13</td>\n",
       "      <td>1</td>\n",
       "      <td>european robot probe phila made first histor l...</td>\n",
       "      <td>0.370350</td>\n",
       "      <td>0.036657</td>\n",
       "      <td>0.092</td>\n",
       "      <td>0.068</td>\n",
       "      <td>0.841</td>\n",
       "      <td>0.7579</td>\n",
       "    </tr>\n",
       "    <tr>\n",
       "      <th>475</th>\n",
       "      <td>2014-08-13</td>\n",
       "      <td>1</td>\n",
       "      <td>south korea firstand onlyastronaut quit job en...</td>\n",
       "      <td>0.419219</td>\n",
       "      <td>0.046327</td>\n",
       "      <td>0.145</td>\n",
       "      <td>0.121</td>\n",
       "      <td>0.734</td>\n",
       "      <td>0.6761</td>\n",
       "    </tr>\n",
       "    <tr>\n",
       "      <th>1203</th>\n",
       "      <td>2011-09-20</td>\n",
       "      <td>1</td>\n",
       "      <td>itali propos law ban peopl internet base singl...</td>\n",
       "      <td>0.405455</td>\n",
       "      <td>0.099886</td>\n",
       "      <td>0.111</td>\n",
       "      <td>0.100</td>\n",
       "      <td>0.788</td>\n",
       "      <td>0.6305</td>\n",
       "    </tr>\n",
       "    <tr>\n",
       "      <th>1262</th>\n",
       "      <td>2011-06-27</td>\n",
       "      <td>1</td>\n",
       "      <td>video smuggl north korea children beg armi sta...</td>\n",
       "      <td>0.292641</td>\n",
       "      <td>0.013506</td>\n",
       "      <td>0.091</td>\n",
       "      <td>0.080</td>\n",
       "      <td>0.829</td>\n",
       "      <td>0.5591</td>\n",
       "    </tr>\n",
       "    <tr>\n",
       "      <th>...</th>\n",
       "      <td>...</td>\n",
       "      <td>...</td>\n",
       "      <td>...</td>\n",
       "      <td>...</td>\n",
       "      <td>...</td>\n",
       "      <td>...</td>\n",
       "      <td>...</td>\n",
       "      <td>...</td>\n",
       "      <td>...</td>\n",
       "    </tr>\n",
       "    <tr>\n",
       "      <th>855</th>\n",
       "      <td>2013-02-08</td>\n",
       "      <td>1</td>\n",
       "      <td>egyptian salafi preacher said rape sexual hara...</td>\n",
       "      <td>0.346093</td>\n",
       "      <td>-0.003469</td>\n",
       "      <td>0.004</td>\n",
       "      <td>0.311</td>\n",
       "      <td>0.685</td>\n",
       "      <td>-0.9986</td>\n",
       "    </tr>\n",
       "    <tr>\n",
       "      <th>1528</th>\n",
       "      <td>2010-06-08</td>\n",
       "      <td>1</td>\n",
       "      <td>breuter fire remov weapon blood imag gaza flot...</td>\n",
       "      <td>0.355847</td>\n",
       "      <td>-0.019397</td>\n",
       "      <td>0.022</td>\n",
       "      <td>0.272</td>\n",
       "      <td>0.705</td>\n",
       "      <td>-0.9986</td>\n",
       "    </tr>\n",
       "    <tr>\n",
       "      <th>1761</th>\n",
       "      <td>2009-07-06</td>\n",
       "      <td>1</td>\n",
       "      <td>buganda outlaw femal circumcis bbreak news 129...</td>\n",
       "      <td>0.319608</td>\n",
       "      <td>-0.137077</td>\n",
       "      <td>0.018</td>\n",
       "      <td>0.355</td>\n",
       "      <td>0.627</td>\n",
       "      <td>-0.9986</td>\n",
       "    </tr>\n",
       "    <tr>\n",
       "      <th>888</th>\n",
       "      <td>2012-12-20</td>\n",
       "      <td>1</td>\n",
       "      <td>thiev arrest steal 6 million pound mapl syrup ...</td>\n",
       "      <td>0.333407</td>\n",
       "      <td>-0.031345</td>\n",
       "      <td>0.035</td>\n",
       "      <td>0.272</td>\n",
       "      <td>0.692</td>\n",
       "      <td>-0.9987</td>\n",
       "    </tr>\n",
       "    <tr>\n",
       "      <th>989</th>\n",
       "      <td>2012-07-26</td>\n",
       "      <td>1</td>\n",
       "      <td>french presid francoi holland call 75 percent ...</td>\n",
       "      <td>0.373893</td>\n",
       "      <td>0.014860</td>\n",
       "      <td>0.057</td>\n",
       "      <td>0.289</td>\n",
       "      <td>0.654</td>\n",
       "      <td>-0.9987</td>\n",
       "    </tr>\n",
       "  </tbody>\n",
       "</table>\n",
       "<p>1078 rows × 9 columns</p>\n",
       "</div>"
      ],
      "text/plain": [
       "            Date  Label                             Preprocessed News Text  \\\n",
       "749   2013-07-12      1  canadian win 250000 dollar prize first human p...   \n",
       "410   2014-11-13      1  european robot probe phila made first histor l...   \n",
       "475   2014-08-13      1  south korea firstand onlyastronaut quit job en...   \n",
       "1203  2011-09-20      1  itali propos law ban peopl internet base singl...   \n",
       "1262  2011-06-27      1  video smuggl north korea children beg armi sta...   \n",
       "...          ...    ...                                                ...   \n",
       "855   2013-02-08      1  egyptian salafi preacher said rape sexual hara...   \n",
       "1528  2010-06-08      1  breuter fire remov weapon blood imag gaza flot...   \n",
       "1761  2009-07-06      1  buganda outlaw femal circumcis bbreak news 129...   \n",
       "888   2012-12-20      1  thiev arrest steal 6 million pound mapl syrup ...   \n",
       "989   2012-07-26      1  french presid francoi holland call 75 percent ...   \n",
       "\n",
       "      Subjectivity  Polarity  Positive  Negative  Neutral  Compound  \n",
       "749       0.337478  0.141294     0.129     0.108    0.762    0.8416  \n",
       "410       0.370350  0.036657     0.092     0.068    0.841    0.7579  \n",
       "475       0.419219  0.046327     0.145     0.121    0.734    0.6761  \n",
       "1203      0.405455  0.099886     0.111     0.100    0.788    0.6305  \n",
       "1262      0.292641  0.013506     0.091     0.080    0.829    0.5591  \n",
       "...            ...       ...       ...       ...      ...       ...  \n",
       "855       0.346093 -0.003469     0.004     0.311    0.685   -0.9986  \n",
       "1528      0.355847 -0.019397     0.022     0.272    0.705   -0.9986  \n",
       "1761      0.319608 -0.137077     0.018     0.355    0.627   -0.9986  \n",
       "888       0.333407 -0.031345     0.035     0.272    0.692   -0.9987  \n",
       "989       0.373893  0.014860     0.057     0.289    0.654   -0.9987  \n",
       "\n",
       "[1078 rows x 9 columns]"
      ]
     },
     "execution_count": 82,
     "metadata": {},
     "output_type": "execute_result"
    }
   ],
   "source": [
    "final_dataset_text.loc[final_dataset_text['Label']==1].sort_values(by=\"Compound\", ascending=False)"
   ]
  },
  {
   "cell_type": "code",
   "execution_count": 83,
   "metadata": {},
   "outputs": [
    {
     "data": {
      "text/html": [
       "<div>\n",
       "<style scoped>\n",
       "    .dataframe tbody tr th:only-of-type {\n",
       "        vertical-align: middle;\n",
       "    }\n",
       "\n",
       "    .dataframe tbody tr th {\n",
       "        vertical-align: top;\n",
       "    }\n",
       "\n",
       "    .dataframe thead th {\n",
       "        text-align: right;\n",
       "    }\n",
       "</style>\n",
       "<table border=\"1\" class=\"dataframe\">\n",
       "  <thead>\n",
       "    <tr style=\"text-align: right;\">\n",
       "      <th></th>\n",
       "      <th>Date</th>\n",
       "      <th>Label</th>\n",
       "      <th>Preprocessed News Text</th>\n",
       "      <th>Subjectivity</th>\n",
       "      <th>Polarity</th>\n",
       "      <th>Positive</th>\n",
       "      <th>Negative</th>\n",
       "      <th>Neutral</th>\n",
       "      <th>Compound</th>\n",
       "    </tr>\n",
       "  </thead>\n",
       "  <tbody>\n",
       "    <tr>\n",
       "      <th>421</th>\n",
       "      <td>2014-10-29</td>\n",
       "      <td>0</td>\n",
       "      <td>23rd time un nation urg end us embargo cuba sc...</td>\n",
       "      <td>0.408031</td>\n",
       "      <td>0.150026</td>\n",
       "      <td>0.119</td>\n",
       "      <td>0.087</td>\n",
       "      <td>0.794</td>\n",
       "      <td>0.9413</td>\n",
       "    </tr>\n",
       "    <tr>\n",
       "      <th>430</th>\n",
       "      <td>2014-10-16</td>\n",
       "      <td>0</td>\n",
       "      <td>wind blow away fossil power nordic baltic next...</td>\n",
       "      <td>0.359074</td>\n",
       "      <td>-0.020185</td>\n",
       "      <td>0.113</td>\n",
       "      <td>0.085</td>\n",
       "      <td>0.802</td>\n",
       "      <td>0.8404</td>\n",
       "    </tr>\n",
       "    <tr>\n",
       "      <th>1408</th>\n",
       "      <td>2010-11-26</td>\n",
       "      <td>0</td>\n",
       "      <td>didnt understand quit bad thing becom countri ...</td>\n",
       "      <td>0.427354</td>\n",
       "      <td>0.138759</td>\n",
       "      <td>0.146</td>\n",
       "      <td>0.120</td>\n",
       "      <td>0.734</td>\n",
       "      <td>0.7950</td>\n",
       "    </tr>\n",
       "    <tr>\n",
       "      <th>5</th>\n",
       "      <td>2016-06-24</td>\n",
       "      <td>0</td>\n",
       "      <td>david cameron resign pm eu referendum bbc fore...</td>\n",
       "      <td>0.251553</td>\n",
       "      <td>0.073654</td>\n",
       "      <td>0.110</td>\n",
       "      <td>0.093</td>\n",
       "      <td>0.797</td>\n",
       "      <td>0.7351</td>\n",
       "    </tr>\n",
       "    <tr>\n",
       "      <th>1686</th>\n",
       "      <td>2009-10-20</td>\n",
       "      <td>0</td>\n",
       "      <td>blegal lobbi grow mexico latin american countr...</td>\n",
       "      <td>0.430745</td>\n",
       "      <td>0.139141</td>\n",
       "      <td>0.157</td>\n",
       "      <td>0.124</td>\n",
       "      <td>0.719</td>\n",
       "      <td>0.7269</td>\n",
       "    </tr>\n",
       "    <tr>\n",
       "      <th>...</th>\n",
       "      <td>...</td>\n",
       "      <td>...</td>\n",
       "      <td>...</td>\n",
       "      <td>...</td>\n",
       "      <td>...</td>\n",
       "      <td>...</td>\n",
       "      <td>...</td>\n",
       "      <td>...</td>\n",
       "      <td>...</td>\n",
       "    </tr>\n",
       "    <tr>\n",
       "      <th>71</th>\n",
       "      <td>2016-03-22</td>\n",
       "      <td>0</td>\n",
       "      <td>intern crimin court recognis rape war crime fo...</td>\n",
       "      <td>0.368345</td>\n",
       "      <td>0.125624</td>\n",
       "      <td>0.047</td>\n",
       "      <td>0.330</td>\n",
       "      <td>0.623</td>\n",
       "      <td>-0.9985</td>\n",
       "    </tr>\n",
       "    <tr>\n",
       "      <th>1238</th>\n",
       "      <td>2011-08-01</td>\n",
       "      <td>0</td>\n",
       "      <td>murdoch news intern order tech firm massdelet ...</td>\n",
       "      <td>0.618660</td>\n",
       "      <td>-0.231639</td>\n",
       "      <td>0.040</td>\n",
       "      <td>0.321</td>\n",
       "      <td>0.639</td>\n",
       "      <td>-0.9986</td>\n",
       "    </tr>\n",
       "    <tr>\n",
       "      <th>964</th>\n",
       "      <td>2012-08-30</td>\n",
       "      <td>0</td>\n",
       "      <td>270 south african miner arrest protest charg m...</td>\n",
       "      <td>0.300000</td>\n",
       "      <td>-0.037725</td>\n",
       "      <td>0.060</td>\n",
       "      <td>0.289</td>\n",
       "      <td>0.650</td>\n",
       "      <td>-0.9986</td>\n",
       "    </tr>\n",
       "    <tr>\n",
       "      <th>622</th>\n",
       "      <td>2014-01-13</td>\n",
       "      <td>0</td>\n",
       "      <td>broad coalit wellknown organ reddit electron f...</td>\n",
       "      <td>0.310725</td>\n",
       "      <td>0.057825</td>\n",
       "      <td>0.069</td>\n",
       "      <td>0.288</td>\n",
       "      <td>0.643</td>\n",
       "      <td>-0.9987</td>\n",
       "    </tr>\n",
       "    <tr>\n",
       "      <th>1286</th>\n",
       "      <td>2011-05-23</td>\n",
       "      <td>0</td>\n",
       "      <td>egypt sentenc polic offic death kill protest w...</td>\n",
       "      <td>0.385390</td>\n",
       "      <td>-0.121116</td>\n",
       "      <td>0.045</td>\n",
       "      <td>0.305</td>\n",
       "      <td>0.650</td>\n",
       "      <td>-0.9988</td>\n",
       "    </tr>\n",
       "  </tbody>\n",
       "</table>\n",
       "<p>911 rows × 9 columns</p>\n",
       "</div>"
      ],
      "text/plain": [
       "            Date  Label                             Preprocessed News Text  \\\n",
       "421   2014-10-29      0  23rd time un nation urg end us embargo cuba sc...   \n",
       "430   2014-10-16      0  wind blow away fossil power nordic baltic next...   \n",
       "1408  2010-11-26      0  didnt understand quit bad thing becom countri ...   \n",
       "5     2016-06-24      0  david cameron resign pm eu referendum bbc fore...   \n",
       "1686  2009-10-20      0  blegal lobbi grow mexico latin american countr...   \n",
       "...          ...    ...                                                ...   \n",
       "71    2016-03-22      0  intern crimin court recognis rape war crime fo...   \n",
       "1238  2011-08-01      0  murdoch news intern order tech firm massdelet ...   \n",
       "964   2012-08-30      0  270 south african miner arrest protest charg m...   \n",
       "622   2014-01-13      0  broad coalit wellknown organ reddit electron f...   \n",
       "1286  2011-05-23      0  egypt sentenc polic offic death kill protest w...   \n",
       "\n",
       "      Subjectivity  Polarity  Positive  Negative  Neutral  Compound  \n",
       "421       0.408031  0.150026     0.119     0.087    0.794    0.9413  \n",
       "430       0.359074 -0.020185     0.113     0.085    0.802    0.8404  \n",
       "1408      0.427354  0.138759     0.146     0.120    0.734    0.7950  \n",
       "5         0.251553  0.073654     0.110     0.093    0.797    0.7351  \n",
       "1686      0.430745  0.139141     0.157     0.124    0.719    0.7269  \n",
       "...            ...       ...       ...       ...      ...       ...  \n",
       "71        0.368345  0.125624     0.047     0.330    0.623   -0.9985  \n",
       "1238      0.618660 -0.231639     0.040     0.321    0.639   -0.9986  \n",
       "964       0.300000 -0.037725     0.060     0.289    0.650   -0.9986  \n",
       "622       0.310725  0.057825     0.069     0.288    0.643   -0.9987  \n",
       "1286      0.385390 -0.121116     0.045     0.305    0.650   -0.9988  \n",
       "\n",
       "[911 rows x 9 columns]"
      ]
     },
     "execution_count": 83,
     "metadata": {},
     "output_type": "execute_result"
    }
   ],
   "source": [
    "final_dataset_text.loc[final_dataset_text['Label']==0].sort_values(by=\"Compound\", ascending=False)"
   ]
  },
  {
   "cell_type": "markdown",
   "metadata": {},
   "source": [
    "As expected, in a general view, when the polarity values ​​are negative, the Compound values ​​are also negative indicating that it is bad news and vice versa.\n",
    "\n",
    "Finally, we save the relevant features of the DataFrame"
   ]
  },
  {
   "cell_type": "code",
   "execution_count": 84,
   "metadata": {},
   "outputs": [],
   "source": [
    "final_dataset_text = final_dataset_text[['Label','Subjectivity','Polarity','Positive','Negative','Neutral','Compound']]"
   ]
  },
  {
   "cell_type": "code",
   "execution_count": 85,
   "metadata": {},
   "outputs": [
    {
     "data": {
      "text/html": [
       "<div>\n",
       "<style scoped>\n",
       "    .dataframe tbody tr th:only-of-type {\n",
       "        vertical-align: middle;\n",
       "    }\n",
       "\n",
       "    .dataframe tbody tr th {\n",
       "        vertical-align: top;\n",
       "    }\n",
       "\n",
       "    .dataframe thead th {\n",
       "        text-align: right;\n",
       "    }\n",
       "</style>\n",
       "<table border=\"1\" class=\"dataframe\">\n",
       "  <thead>\n",
       "    <tr style=\"text-align: right;\">\n",
       "      <th></th>\n",
       "      <th>Label</th>\n",
       "      <th>Subjectivity</th>\n",
       "      <th>Polarity</th>\n",
       "      <th>Positive</th>\n",
       "      <th>Negative</th>\n",
       "      <th>Neutral</th>\n",
       "      <th>Compound</th>\n",
       "    </tr>\n",
       "  </thead>\n",
       "  <tbody>\n",
       "    <tr>\n",
       "      <th>0</th>\n",
       "      <td>1</td>\n",
       "      <td>0.323661</td>\n",
       "      <td>0.061161</td>\n",
       "      <td>0.043</td>\n",
       "      <td>0.256</td>\n",
       "      <td>0.701</td>\n",
       "      <td>-0.9983</td>\n",
       "    </tr>\n",
       "    <tr>\n",
       "      <th>1</th>\n",
       "      <td>1</td>\n",
       "      <td>0.401465</td>\n",
       "      <td>0.008516</td>\n",
       "      <td>0.076</td>\n",
       "      <td>0.235</td>\n",
       "      <td>0.689</td>\n",
       "      <td>-0.9967</td>\n",
       "    </tr>\n",
       "    <tr>\n",
       "      <th>2</th>\n",
       "      <td>1</td>\n",
       "      <td>0.328887</td>\n",
       "      <td>0.096195</td>\n",
       "      <td>0.094</td>\n",
       "      <td>0.174</td>\n",
       "      <td>0.731</td>\n",
       "      <td>-0.9771</td>\n",
       "    </tr>\n",
       "    <tr>\n",
       "      <th>3</th>\n",
       "      <td>1</td>\n",
       "      <td>0.322376</td>\n",
       "      <td>0.047233</td>\n",
       "      <td>0.098</td>\n",
       "      <td>0.100</td>\n",
       "      <td>0.802</td>\n",
       "      <td>-0.2263</td>\n",
       "    </tr>\n",
       "    <tr>\n",
       "      <th>4</th>\n",
       "      <td>0</td>\n",
       "      <td>0.240160</td>\n",
       "      <td>0.012517</td>\n",
       "      <td>0.084</td>\n",
       "      <td>0.149</td>\n",
       "      <td>0.767</td>\n",
       "      <td>-0.9670</td>\n",
       "    </tr>\n",
       "    <tr>\n",
       "      <th>5</th>\n",
       "      <td>0</td>\n",
       "      <td>0.251553</td>\n",
       "      <td>0.073654</td>\n",
       "      <td>0.110</td>\n",
       "      <td>0.093</td>\n",
       "      <td>0.797</td>\n",
       "      <td>0.7351</td>\n",
       "    </tr>\n",
       "    <tr>\n",
       "      <th>6</th>\n",
       "      <td>1</td>\n",
       "      <td>0.234091</td>\n",
       "      <td>0.037582</td>\n",
       "      <td>0.061</td>\n",
       "      <td>0.192</td>\n",
       "      <td>0.747</td>\n",
       "      <td>-0.9922</td>\n",
       "    </tr>\n",
       "    <tr>\n",
       "      <th>7</th>\n",
       "      <td>0</td>\n",
       "      <td>0.233530</td>\n",
       "      <td>0.047970</td>\n",
       "      <td>0.069</td>\n",
       "      <td>0.126</td>\n",
       "      <td>0.805</td>\n",
       "      <td>-0.9799</td>\n",
       "    </tr>\n",
       "    <tr>\n",
       "      <th>8</th>\n",
       "      <td>1</td>\n",
       "      <td>0.218855</td>\n",
       "      <td>0.014268</td>\n",
       "      <td>0.071</td>\n",
       "      <td>0.232</td>\n",
       "      <td>0.697</td>\n",
       "      <td>-0.9972</td>\n",
       "    </tr>\n",
       "    <tr>\n",
       "      <th>9</th>\n",
       "      <td>1</td>\n",
       "      <td>0.381348</td>\n",
       "      <td>0.101738</td>\n",
       "      <td>0.054</td>\n",
       "      <td>0.233</td>\n",
       "      <td>0.713</td>\n",
       "      <td>-0.9980</td>\n",
       "    </tr>\n",
       "  </tbody>\n",
       "</table>\n",
       "</div>"
      ],
      "text/plain": [
       "   Label  Subjectivity  Polarity  Positive  Negative  Neutral  Compound\n",
       "0      1      0.323661  0.061161     0.043     0.256    0.701   -0.9983\n",
       "1      1      0.401465  0.008516     0.076     0.235    0.689   -0.9967\n",
       "2      1      0.328887  0.096195     0.094     0.174    0.731   -0.9771\n",
       "3      1      0.322376  0.047233     0.098     0.100    0.802   -0.2263\n",
       "4      0      0.240160  0.012517     0.084     0.149    0.767   -0.9670\n",
       "5      0      0.251553  0.073654     0.110     0.093    0.797    0.7351\n",
       "6      1      0.234091  0.037582     0.061     0.192    0.747   -0.9922\n",
       "7      0      0.233530  0.047970     0.069     0.126    0.805   -0.9799\n",
       "8      1      0.218855  0.014268     0.071     0.232    0.697   -0.9972\n",
       "9      1      0.381348  0.101738     0.054     0.233    0.713   -0.9980"
      ]
     },
     "execution_count": 85,
     "metadata": {},
     "output_type": "execute_result"
    }
   ],
   "source": [
    "final_dataset_text.head(10)"
   ]
  },
  {
   "cell_type": "markdown",
   "metadata": {},
   "source": [
    "### *Linear Discriminant Analysis Model*"
   ]
  },
  {
   "cell_type": "markdown",
   "metadata": {},
   "source": [
    "Linear Discriminant Analysis (LDA) is a method from multivariate statistics which principal objective is to find a\n",
    "linear projection of high-dimensional observations into a lower-dimensional space. When your preconditions are met, LDA allows you to define optimal linear decision bounds on the\n",
    "resulting latent space [4].\n",
    "\n",
    "In other words, Linear Discriminant Analysis is a linear classification algorithm, like logistic regression. The algorithm develops a probabilistic model by class based on the distribution of observations for each input variable [5]. \n",
    "\n",
    "In this way, the data is classified by getting the conditional probability of it belonging to each class and the class with the highest probability is chosen. This means that LDA can be considered as an application of the Bayes Theorem for classification. \n",
    "\n",
    "This model assumes that the input variables are numeric, normally distributed and that they have the same variance. Also, it assumes that the input variables are not correlated. Therefore, this model makes strong assumptions about the distribution of each input variable [5].\n",
    "\n",
    "LDA is naturally multi-class, so it supports two-class classification problems, such as our case of study [5].\n",
    "\n",
    "Our motivation in selecting this simple model is to analyze the behavior and the results obtained from it after making all the assumptions described above and reinforcing the adjustment of the hyperparameters with PCA (to reduce dimensionality and correlation) and cross validation.\n",
    "\n",
    "\n",
    "[4] https://arxiv.org/pdf/1511.04707.pdf\n",
    "\n",
    "[5] https://machinelearningmastery.com/linear-discriminant-analysis-with-python/"
   ]
  },
  {
   "cell_type": "markdown",
   "metadata": {},
   "source": [
    "### *Principal Component Analysis*"
   ]
  },
  {
   "cell_type": "markdown",
   "metadata": {},
   "source": [
    "PCA (Principal Component Analysys) is one of the most common linear algorithms for dimensionality reduction used in unsupervised learning. This algorithm identifies and removes variables that are less useful for making a valid approximation on a data set [6].\n",
    "\n",
    "PCA is very useful in our case study for two reasons: It helps us to identify the variables that are correlated between them and to reduce the risk of the LDA falling into parameter overfitting, which is very common.\n",
    "\n",
    "Finally, it has been demonstrated in multiple studies that performing PCA prior LDA leads to a better fit and performance of the model [7].\n",
    "\n",
    "[6] https://www.jcchouinard.com/pca-with-python/\n",
    "\n",
    "[7] https://www.sciencedirect.com/science/article/abs/pii/S0031320302000481\n",
    "\n"
   ]
  },
  {
   "cell_type": "markdown",
   "metadata": {},
   "source": [
    "Loading features and target separately"
   ]
  },
  {
   "cell_type": "code",
   "execution_count": 86,
   "metadata": {},
   "outputs": [
    {
     "name": "stderr",
     "output_type": "stream",
     "text": [
      "/var/folders/gy/6j7jtq4n7m36jvtq0tfc4t880000gn/T/ipykernel_6378/4239202178.py:3: FutureWarning: In a future version of pandas all arguments of DataFrame.drop except for the argument 'labels' will be keyword-only.\n",
      "  X = np.array(X.drop(['Label'], 1))\n"
     ]
    }
   ],
   "source": [
    "X = final_dataset_text\n",
    "\n",
    "X = np.array(X.drop(['Label'], 1))"
   ]
  },
  {
   "cell_type": "code",
   "execution_count": 87,
   "metadata": {},
   "outputs": [],
   "source": [
    "y = np.array(final_dataset_text['Label'])"
   ]
  },
  {
   "cell_type": "markdown",
   "metadata": {},
   "source": [
    "Standarizing features by removing mean and scaling to unite variance.\n",
    "\n",
    "The standard score of a sample is calculated as:\n",
    "\n",
    "$$ z = \\frac{x-u}{s}\\\\ $$\n",
    "\n",
    "where u is the mean of the traning samples and s is the standard deviation of the training samples.\n",
    "\n",
    "Standarization of the dataset is a common requirment to for modeling the data. In the case of LDA it is not necessary because LDA results will be the same whether or not the data is standardized. However, it is a good practice to do it in the pre-processing data of a model which assumes that its features have a Gaussian distribution."
   ]
  },
  {
   "cell_type": "code",
   "execution_count": 88,
   "metadata": {},
   "outputs": [],
   "source": [
    "from sklearn.preprocessing import StandardScaler\n",
    "\n",
    "x_scaled = StandardScaler().fit_transform(X)"
   ]
  },
  {
   "cell_type": "markdown",
   "metadata": {},
   "source": [
    "Our dataset contains 6 features (6-dimensional dataset). Not all features will be required for the classification task. The noisy features are going to be removed and then, a faster model is going to be generated."
   ]
  },
  {
   "cell_type": "code",
   "execution_count": 118,
   "metadata": {},
   "outputs": [],
   "source": [
    "from sklearn.decomposition import PCA \n",
    "\n",
    "#Reducing the number of features to 4 \n",
    "pca = PCA(n_components=4)\n",
    "\n",
    "#Fit the model \n",
    "pca_features = pca.fit_transform(x_scaled)\n",
    " \n",
    "pca_df = pd.DataFrame(\n",
    "    data=pca_features, \n",
    "    columns=['PC1', 'PC2', 'PC3', 'PC4'])"
   ]
  },
  {
   "cell_type": "markdown",
   "metadata": {},
   "source": [
    "Joining the target to the PC (Principal Components)"
   ]
  },
  {
   "cell_type": "code",
   "execution_count": 119,
   "metadata": {},
   "outputs": [],
   "source": [
    "pca_df['Label'] = y"
   ]
  },
  {
   "cell_type": "code",
   "execution_count": 120,
   "metadata": {},
   "outputs": [
    {
     "data": {
      "image/png": "[encoded data removed]",
      "text/plain": [
       "<Figure size 432x288 with 1 Axes>"
      ]
     },
     "metadata": {
      "needs_background": "light"
     },
     "output_type": "display_data"
    }
   ],
   "source": [
    "# Bar plot of explained_variance\n",
    "plt.bar(\n",
    "    range(1,len(pca.explained_variance_)+1),\n",
    "    pca.explained_variance_\n",
    "    )\n",
    " \n",
    " \n",
    "plt.xlabel('PCA Feature')\n",
    "plt.ylabel('Explained variance')\n",
    "plt.title('Feature Explained Variance')\n",
    "plt.show()"
   ]
  },
  {
   "cell_type": "markdown",
   "metadata": {},
   "source": [
    "As evidenced in the figure obtained, the PC3 and PC4 don't have much relevance in the target. Since we know that LDA is also a dimensionality reducer, we jointly define leaving all the features obtained and performing the LDA with them."
   ]
  },
  {
   "cell_type": "code",
   "execution_count": 121,
   "metadata": {},
   "outputs": [
    {
     "data": {
      "text/plain": [
       "LinearDiscriminantAnalysis()"
      ]
     },
     "execution_count": 121,
     "metadata": {},
     "output_type": "execute_result"
    }
   ],
   "source": [
    "from sklearn.discriminant_analysis import LinearDiscriminantAnalysis #Import LDA\n",
    "\n",
    "model_1 = LinearDiscriminantAnalysis() #create the model for data with PCA applied\n",
    "model_1.fit(pca_features, y)\n",
    "\n",
    "model_2 =  LinearDiscriminantAnalysis() #create the model for data without PCA applied\n",
    "model_2.fit(x_scaled, y)\n"
   ]
  },
  {
   "cell_type": "markdown",
   "metadata": {},
   "source": [
    "We evaluate the LDS using k-fold cross-validation with RepeatedStratifiedKFold class. We are going to use 10 folds and 3 repeats in the test."
   ]
  },
  {
   "cell_type": "markdown",
   "metadata": {},
   "source": [
    "Evaluation of the PCA + LDA"
   ]
  },
  {
   "cell_type": "code",
   "execution_count": 122,
   "metadata": {},
   "outputs": [
    {
     "name": "stdout",
     "output_type": "stream",
     "text": [
      "Model Mean Accuracy: 0.540 (0.005)\n"
     ]
    }
   ],
   "source": [
    "from sklearn.model_selection import cross_val_score\n",
    "from sklearn.model_selection import RepeatedStratifiedKFold\n",
    "from numpy import mean\n",
    "from numpy import std\n",
    "\n",
    "#Evaluation method\n",
    "cross_validation = RepeatedStratifiedKFold(n_splits=10, n_repeats=3, random_state=1)\n",
    "\n",
    "#Evaluating the model\n",
    "scores = cross_val_score(model_1, pca_features, y, scoring='accuracy', cv=cross_validation, n_jobs=-1)\n",
    "\n",
    "#Result\n",
    "print('Model Mean Accuracy: %.3f (%.3f)' % (mean(scores), std(scores)))"
   ]
  },
  {
   "cell_type": "markdown",
   "metadata": {},
   "source": [
    "Evaluation of just LDA"
   ]
  },
  {
   "cell_type": "code",
   "execution_count": 123,
   "metadata": {},
   "outputs": [
    {
     "name": "stdout",
     "output_type": "stream",
     "text": [
      "Model Mean Accuracy: 0.539 (0.007)\n"
     ]
    }
   ],
   "source": [
    "from sklearn.model_selection import cross_val_score\n",
    "from sklearn.model_selection import RepeatedStratifiedKFold\n",
    "from numpy import mean\n",
    "from numpy import std\n",
    "\n",
    "#Evaluation method\n",
    "cross_validation = RepeatedStratifiedKFold(n_splits=10, n_repeats=2, random_state=1)\n",
    "\n",
    "#Evaluating the model\n",
    "scores = cross_val_score(model_2, x_scaled, y, scoring='accuracy', cv=cross_validation, n_jobs=1)\n",
    "\n",
    "#Result\n",
    "print('Model Mean Accuracy: %.3f (%.3f)' % (mean(scores), std(scores)))"
   ]
  },
  {
   "cell_type": "markdown",
   "metadata": {},
   "source": [
    "We can see that the model performed a mean accuracy of 54.0% with PCA+LDA and with a mean accuracy od 53.9% with just LDA. In addition, it was observed that the processing time of the model was very similar. Therefore, it is concluded that for our classification model it is not convenient to use Linear Discrimant Analysis, since it will have a very low percentage of precision whether or not PCA is used before LDA.\n",
    "\n",
    "It is also important to highlight that perhaps the vectorization of the news using Sentiment Analysis influenced the percentage of accuracy of the model. \n",
    "\n",
    "As future work there are 2 possible options that can increase the accuracy obtained:\n",
    "1. Use another vectorization, such as TF-IDF, word2vec or GloVe.\n",
    "2. Include the data that was considered not important to carry out the analysis of the model. (High, Low, Volume, Adj Close)."
   ]
  }
 ],
 "metadata": {
  "kernelspec": {
   "display_name": "Python 3.9.12 ('base')",
   "language": "python",
   "name": "python3"
  },
  "language_info": {
   "codemirror_mode": {
    "name": "ipython",
    "version": 3
   },
   "file_extension": ".py",
   "mimetype": "text/x-python",
   "name": "python",
   "nbconvert_exporter": "python",
   "pygments_lexer": "ipython3",
   "version": "3.9.12"
  },
  "orig_nbformat": 4,
  "vscode": {
   "interpreter": {
    "hash": "167eec726b819e0c6a70093e6eca930a95ad1db30271bf8923599164b221a31b"
   }
  }
 },
 "nbformat": 4,
 "nbformat_minor": 2
}
