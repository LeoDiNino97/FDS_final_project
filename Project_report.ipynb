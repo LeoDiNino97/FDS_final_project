{
 "cells": [
  {
   "attachments": {},
   "cell_type": "markdown",
   "metadata": {},
   "source": [
    "# Stock market predictions from Reddit WorldNews Channel titlelines"
   ]
  },
  {
   "attachments": {},
   "cell_type": "markdown",
   "metadata": {},
   "source": [
    "## Fundamentals of Data Science - Final Project"
   ]
  },
  {
   "attachments": {},
   "cell_type": "markdown",
   "metadata": {},
   "source": [
    "| Group Member         | Student ID  | Istitutional Email                   |\n",
    "| -------------------- | ----------- | -------------------------------------|\n",
    "| Andrea Messina       | 2052125     | messina.2052125@studenti.uniroma1.it |\n",
    "| Leonardo Di Nino     | 1919479     | dinino.1919479@studenti.uniroma1.it  |\n",
    "| Adil Atahan Atik     | 2051413     | adilatahanatik@gmail.com             |\n",
    "| Borbála Sára Tóth Gy | 2066306     | tothgy.2066306@studenti.uniroma1.it  |\n",
    "| Maria Alejandra Peña | 2056718     | maria229724@gmail.com                |"
   ]
  },
  {
   "attachments": {},
   "cell_type": "markdown",
   "metadata": {},
   "source": [
    "### 0. Introduction"
   ]
  },
  {
   "attachments": {},
   "cell_type": "markdown",
   "metadata": {},
   "source": [
    "A relationship between breaking news and the stock price has been demonstrated. When breaking news arrives, stock prices will react. This is called Price Discovery.\n",
    "The type of stock price reaction depends on whether the news is good, bad, or neutral. For investors it is important to have a model that helps them predict how much the market price varies depending on the type of news <sup>[1]</sup>."
   ]
  },
  {
   "attachments": {},
   "cell_type": "markdown",
   "metadata": {},
   "source": [
    "The task of our project is to build a binary text classification model that is able to predict wheter the Dow Jones index is closing positively on negatively with respect to some news titlelines. "
   ]
  },
  {
   "attachments": {},
   "cell_type": "markdown",
   "metadata": {},
   "source": [
    "The dataset we used was found on Kaggle at this link: https://www.kaggle.com/datasets/aaron7sun/stocknews.\n",
    "Three tables can be found in this dataset:\n",
    "- `RedditNews.csv`          -> This table contains two columns, one for the date and one for the news titlelines\n",
    "- `upload_DJIA_table.csv`   -> This table contains financial information about Dow Jones Industrial Average: the `close` column was the one of interest.\n",
    "- `Combined_News_DJIA.csv`  -> This table merges along the column `date` the news and a label that tells us wheter if that day the Dow Jones raised or dropped.\n",
    "\n",
    "The range considered for these channels of data is from 2008-06-08 to 2016-07-01."
   ]
  },
  {
   "attachments": {},
   "cell_type": "markdown",
   "metadata": {},
   "source": [
    "Our approach was to build several models, trying to figure out which one worked the best for our purpose, comparing our results with some state-of-art similar works. In particular, the division of the work is as follow:\n",
    "\n",
    "- **Leonardo** did the data cleaning, the exploratory data analysis, the text-preprocessing and the feature engineering. Then he made some experiments in PyTorch framework with a fully connected neural network. \n",
    "- **Maria** worked on sentiment analysis through some tools and libraries, defining a Linear Discriminant Analysis model.\n",
    "- **Andrea, Bori and Atik** worked on Naive Bayes classifier, implementing it from scratch and then comparing it with scikit learn already implemented.\n",
    "- Everyone gathered scores and metrics from their models."
   ]
  },
  {
   "attachments": {},
   "cell_type": "markdown",
   "metadata": {},
   "source": [
    "These are the libraries and modules we needed through the whole project."
   ]
  },
  {
   "cell_type": "code",
   "execution_count": null,
   "metadata": {},
   "outputs": [],
   "source": [
    "import pandas as pd                                                     #Data scientist starter pack\n",
    "import numpy as np\n",
    "from matplotlib import pyplot as plt\n",
    "import math\n",
    "\n",
    "from collections import Counter                                         #Some useful tools \n",
    "from functools import reduce\n",
    "\n",
    "import seaborn as sns                                                   #More on plotting\n",
    "\n",
    "import torch as trc                                                     #To set PyTorch framework\n",
    "from torch.autograd import Variable\n",
    "from torch.nn import Linear, ReLU, CrossEntropyLoss, Sequential, Module\n",
    "from torch.optim import Adam, SGD\n",
    "from torch.utils.data import DataLoader, Dataset\n",
    "import torch.nn.functional as func\n",
    "\n",
    "from sklearn.preprocessing import StandardScaler\n",
    "from sklearn.decomposition import PCA \n",
    "from sklearn.discriminant_analysis import LinearDiscriminantAnalysis    #Import LDA\n",
    "from sklearn.model_selection import cross_val_score\n",
    "from sklearn.model_selection import RepeatedStratifiedKFold\n",
    "\n",
    "from sklearn.model_selection import train_test_split                    #Tool to fast build validation set\n",
    "from sklearn.naive_bayes import BernoulliNB                             #Naive Bayes classifier from scikit learn\n",
    "\n",
    "from textblob import TextBlob                                           #TextBlob to do the subjectivity and polarily analysis\n",
    "from vaderSentiment.vaderSentiment import SentimentIntensityAnalyzer    #VADER to obtain the sentiment score\n",
    "\n",
    "from datetime import datetime                                           #To deal with datetime objects\n",
    "\n",
    "import string                                                           #Some useful string tools\n",
    "import nltk                                                             #Natural language processing libraries\n",
    "import spacy\n",
    "import re                                                               #Regex tools\n",
    "\n",
    "import random as rdm                                                    #Simulation tools\n",
    "import time                                                             #Ticking away the moments that make up a dull day\n",
    "\n",
    "from tqdm import tqdm                                                   #Te quiero desmasiado "
   ]
  },
  {
   "attachments": {},
   "cell_type": "markdown",
   "metadata": {},
   "source": [
    "This is a link for browser visualization through NBViewer: https://nbviewer.org/github/LeoDiNino97/FDS_final_project/blob/main/Project_report.ipynb"
   ]
  },
  {
   "attachments": {},
   "cell_type": "markdown",
   "metadata": {},
   "source": [
    "### 1. Setup"
   ]
  },
  {
   "attachments": {},
   "cell_type": "markdown",
   "metadata": {},
   "source": [
    "#### 1.1 The data pipeline"
   ]
  },
  {
   "attachments": {},
   "cell_type": "markdown",
   "metadata": {},
   "source": [
    "![Data pipeline](https://admhw3.s3.amazonaws.com/pipeline.jpg \"Data pipeline\")"
   ]
  },
  {
   "attachments": {},
   "cell_type": "markdown",
   "metadata": {},
   "source": [
    "#### 1.2 First data manipulation: Dow Jones explorative data analysis"
   ]
  },
  {
   "attachments": {},
   "cell_type": "markdown",
   "metadata": {},
   "source": [
    "We prefered to work on `RedditNews.csv` and `upload_DJIA_table.csv` tables rather than the already combined one. This made us figure out the relational logic behind this information pipeline and to build our own dataset. "
   ]
  },
  {
   "cell_type": "code",
   "execution_count": 2,
   "metadata": {},
   "outputs": [
    {
     "data": {
      "text/html": [
       "<div>\n",
       "<style scoped>\n",
       "    .dataframe tbody tr th:only-of-type {\n",
       "        vertical-align: middle;\n",
       "    }\n",
       "\n",
       "    .dataframe tbody tr th {\n",
       "        vertical-align: top;\n",
       "    }\n",
       "\n",
       "    .dataframe thead th {\n",
       "        text-align: right;\n",
       "    }\n",
       "</style>\n",
       "<table border=\"1\" class=\"dataframe\">\n",
       "  <thead>\n",
       "    <tr style=\"text-align: right;\">\n",
       "      <th></th>\n",
       "      <th>Date</th>\n",
       "      <th>Open</th>\n",
       "      <th>Close</th>\n",
       "    </tr>\n",
       "  </thead>\n",
       "  <tbody>\n",
       "    <tr>\n",
       "      <th>0</th>\n",
       "      <td>2016-07-01</td>\n",
       "      <td>17924.240234</td>\n",
       "      <td>17949.369141</td>\n",
       "    </tr>\n",
       "    <tr>\n",
       "      <th>1</th>\n",
       "      <td>2016-06-30</td>\n",
       "      <td>17712.759766</td>\n",
       "      <td>17929.990234</td>\n",
       "    </tr>\n",
       "    <tr>\n",
       "      <th>2</th>\n",
       "      <td>2016-06-29</td>\n",
       "      <td>17456.019531</td>\n",
       "      <td>17694.679688</td>\n",
       "    </tr>\n",
       "    <tr>\n",
       "      <th>3</th>\n",
       "      <td>2016-06-28</td>\n",
       "      <td>17190.509766</td>\n",
       "      <td>17409.720703</td>\n",
       "    </tr>\n",
       "    <tr>\n",
       "      <th>4</th>\n",
       "      <td>2016-06-27</td>\n",
       "      <td>17355.210938</td>\n",
       "      <td>17140.240234</td>\n",
       "    </tr>\n",
       "    <tr>\n",
       "      <th>5</th>\n",
       "      <td>2016-06-24</td>\n",
       "      <td>17946.630859</td>\n",
       "      <td>17400.750000</td>\n",
       "    </tr>\n",
       "    <tr>\n",
       "      <th>6</th>\n",
       "      <td>2016-06-23</td>\n",
       "      <td>17844.109375</td>\n",
       "      <td>18011.070312</td>\n",
       "    </tr>\n",
       "    <tr>\n",
       "      <th>7</th>\n",
       "      <td>2016-06-22</td>\n",
       "      <td>17832.669922</td>\n",
       "      <td>17780.830078</td>\n",
       "    </tr>\n",
       "    <tr>\n",
       "      <th>8</th>\n",
       "      <td>2016-06-21</td>\n",
       "      <td>17827.330078</td>\n",
       "      <td>17829.730469</td>\n",
       "    </tr>\n",
       "    <tr>\n",
       "      <th>9</th>\n",
       "      <td>2016-06-20</td>\n",
       "      <td>17736.869141</td>\n",
       "      <td>17804.869141</td>\n",
       "    </tr>\n",
       "  </tbody>\n",
       "</table>\n",
       "</div>"
      ],
      "text/plain": [
       "         Date          Open         Close\n",
       "0  2016-07-01  17924.240234  17949.369141\n",
       "1  2016-06-30  17712.759766  17929.990234\n",
       "2  2016-06-29  17456.019531  17694.679688\n",
       "3  2016-06-28  17190.509766  17409.720703\n",
       "4  2016-06-27  17355.210938  17140.240234\n",
       "5  2016-06-24  17946.630859  17400.750000\n",
       "6  2016-06-23  17844.109375  18011.070312\n",
       "7  2016-06-22  17832.669922  17780.830078\n",
       "8  2016-06-21  17827.330078  17829.730469\n",
       "9  2016-06-20  17736.869141  17804.869141"
      ]
     },
     "execution_count": 2,
     "metadata": {},
     "output_type": "execute_result"
    }
   ],
   "source": [
    "dow_jones = pd.read_csv('datasets/upload_DJIA_table.csv', usecols=['Date','Open','Close'])\n",
    "dow_jones.head(10)"
   ]
  },
  {
   "attachments": {},
   "cell_type": "markdown",
   "metadata": {},
   "source": [
    "We can see that this table is really consistent:"
   ]
  },
  {
   "cell_type": "code",
   "execution_count": 3,
   "metadata": {},
   "outputs": [
    {
     "data": {
      "text/plain": [
       "Date     0\n",
       "Open     0\n",
       "Close    0\n",
       "dtype: int64"
      ]
     },
     "execution_count": 3,
     "metadata": {},
     "output_type": "execute_result"
    }
   ],
   "source": [
    "dow_jones.isna().sum()"
   ]
  },
  {
   "attachments": {},
   "cell_type": "markdown",
   "metadata": {},
   "source": [
    "Now we are going to extract the ground-truth label:\n",
    "- 1 express that the DJIA closed increasing over the opening value or at least remained the same;\n",
    "- 0 express that the DJIA closed decreasing over the opening value."
   ]
  },
  {
   "cell_type": "code",
   "execution_count": 4,
   "metadata": {},
   "outputs": [],
   "source": [
    "ground_truth = []\n",
    "for idx in dow_jones.index:\n",
    "    try:\n",
    "        if dow_jones.iloc[idx].Close >= dow_jones.iloc[idx+1].Close:\n",
    "            ground_truth.append(1)\n",
    "        else:\n",
    "            ground_truth.append(0)\n",
    "    except IndexError:\n",
    "            ground_truth.append(0)"
   ]
  },
  {
   "attachments": {},
   "cell_type": "markdown",
   "metadata": {},
   "source": [
    "Then we are just inserting it into the Dow Jones table."
   ]
  },
  {
   "cell_type": "code",
   "execution_count": 5,
   "metadata": {},
   "outputs": [],
   "source": [
    "dow_jones['Label'] = ground_truth"
   ]
  },
  {
   "attachments": {},
   "cell_type": "markdown",
   "metadata": {},
   "source": [
    "As we can see the ground-truth is well balanced, so the risk of skewing towards a majority during the actual classification should be not so high. At the same time this is not a sufficient criterion to be sure that our models will perform well. Infact we have to consider also\n",
    "- The distribution of the ground truth in the train-set and in the test-set: this can affect the precision and recall scores.\n",
    "- The distribution of the features in the train-set and in the test-set: this can affect the whole training process and the overall accuracy score."
   ]
  },
  {
   "cell_type": "code",
   "execution_count": 6,
   "metadata": {},
   "outputs": [
    {
     "data": {
      "image/png": "[encoded data removed]",
      "text/plain": [
       "<Figure size 640x480 with 1 Axes>"
      ]
     },
     "metadata": {},
     "output_type": "display_data"
    }
   ],
   "source": [
    "sizes = np.array([len(dow_jones[dow_jones['Label'] == 0]), len(dow_jones[dow_jones['Label'] == 1])])\n",
    "sizes = sizes/len(dow_jones)\n",
    "\n",
    "classes = ['Close dropped', 'Close raised']\n",
    "\n",
    "ax = plt.subplot(111)\n",
    "ax.pie(sizes, labels=classes,autopct='%1.1f%%',shadow=True, startangle=90, colors=['#C84B31','#A5E7CC'] )\n",
    "plt.title('Distribution of the classes in the dataset')\n",
    "plt.show()"
   ]
  },
  {
   "attachments": {},
   "cell_type": "markdown",
   "metadata": {},
   "source": [
    "#### 1.3 First data manipulation: Newstitles explorative data analysis and text preprocessing"
   ]
  },
  {
   "cell_type": "code",
   "execution_count": 7,
   "metadata": {},
   "outputs": [
    {
     "data": {
      "text/html": [
       "<div>\n",
       "<style scoped>\n",
       "    .dataframe tbody tr th:only-of-type {\n",
       "        vertical-align: middle;\n",
       "    }\n",
       "\n",
       "    .dataframe tbody tr th {\n",
       "        vertical-align: top;\n",
       "    }\n",
       "\n",
       "    .dataframe thead th {\n",
       "        text-align: right;\n",
       "    }\n",
       "</style>\n",
       "<table border=\"1\" class=\"dataframe\">\n",
       "  <thead>\n",
       "    <tr style=\"text-align: right;\">\n",
       "      <th></th>\n",
       "      <th>Date</th>\n",
       "      <th>News</th>\n",
       "    </tr>\n",
       "  </thead>\n",
       "  <tbody>\n",
       "    <tr>\n",
       "      <th>0</th>\n",
       "      <td>2016-07-01</td>\n",
       "      <td>A 117-year-old woman in Mexico City finally re...</td>\n",
       "    </tr>\n",
       "    <tr>\n",
       "      <th>1</th>\n",
       "      <td>2016-07-01</td>\n",
       "      <td>IMF chief backs Athens as permanent Olympic host</td>\n",
       "    </tr>\n",
       "    <tr>\n",
       "      <th>2</th>\n",
       "      <td>2016-07-01</td>\n",
       "      <td>The president of France says if Brexit won, so...</td>\n",
       "    </tr>\n",
       "    <tr>\n",
       "      <th>3</th>\n",
       "      <td>2016-07-01</td>\n",
       "      <td>British Man Who Must Give Police 24 Hours' Not...</td>\n",
       "    </tr>\n",
       "    <tr>\n",
       "      <th>4</th>\n",
       "      <td>2016-07-01</td>\n",
       "      <td>100+ Nobel laureates urge Greenpeace to stop o...</td>\n",
       "    </tr>\n",
       "    <tr>\n",
       "      <th>5</th>\n",
       "      <td>2016-07-01</td>\n",
       "      <td>Brazil: Huge spike in number of police killing...</td>\n",
       "    </tr>\n",
       "    <tr>\n",
       "      <th>6</th>\n",
       "      <td>2016-07-01</td>\n",
       "      <td>Austria's highest court annuls presidential el...</td>\n",
       "    </tr>\n",
       "    <tr>\n",
       "      <th>7</th>\n",
       "      <td>2016-07-01</td>\n",
       "      <td>Facebook wins privacy case, can track any Belg...</td>\n",
       "    </tr>\n",
       "    <tr>\n",
       "      <th>8</th>\n",
       "      <td>2016-07-01</td>\n",
       "      <td>Switzerland denies Muslim girls citizenship af...</td>\n",
       "    </tr>\n",
       "    <tr>\n",
       "      <th>9</th>\n",
       "      <td>2016-07-01</td>\n",
       "      <td>China kills millions of innocent meditators fo...</td>\n",
       "    </tr>\n",
       "  </tbody>\n",
       "</table>\n",
       "</div>"
      ],
      "text/plain": [
       "         Date                                               News\n",
       "0  2016-07-01  A 117-year-old woman in Mexico City finally re...\n",
       "1  2016-07-01   IMF chief backs Athens as permanent Olympic host\n",
       "2  2016-07-01  The president of France says if Brexit won, so...\n",
       "3  2016-07-01  British Man Who Must Give Police 24 Hours' Not...\n",
       "4  2016-07-01  100+ Nobel laureates urge Greenpeace to stop o...\n",
       "5  2016-07-01  Brazil: Huge spike in number of police killing...\n",
       "6  2016-07-01  Austria's highest court annuls presidential el...\n",
       "7  2016-07-01  Facebook wins privacy case, can track any Belg...\n",
       "8  2016-07-01  Switzerland denies Muslim girls citizenship af...\n",
       "9  2016-07-01  China kills millions of innocent meditators fo..."
      ]
     },
     "execution_count": 7,
     "metadata": {},
     "output_type": "execute_result"
    }
   ],
   "source": [
    "news = pd.read_csv('datasets/RedditNews.csv')\n",
    "news.head(10)"
   ]
  },
  {
   "cell_type": "code",
   "execution_count": 8,
   "metadata": {},
   "outputs": [
    {
     "data": {
      "text/plain": [
       "Date    0\n",
       "News    0\n",
       "dtype: int64"
      ]
     },
     "execution_count": 8,
     "metadata": {},
     "output_type": "execute_result"
    }
   ],
   "source": [
    "news.isna().sum()"
   ]
  },
  {
   "attachments": {},
   "cell_type": "markdown",
   "metadata": {},
   "source": [
    "The Newstitles dataset is also very consistent, so the explorative data analysis doesn't have to go any further. \n",
    "\n",
    "The most important step now is to preprocess the text, in order to make it more digestible for our following feature engineering. We follow the usual scheme for text preprocessing:\n",
    "- Removal of punctuation and stop words;\n",
    "- Tokenization of the text;\n",
    "- Stemming of the words to reduce different forms of same word roots.\n",
    "\n",
    "We also excluded words containing digits and words shorter than 3 characters to start dealing with the high dimensionality of the features we are going to extract. "
   ]
  },
  {
   "cell_type": "code",
   "execution_count": 213,
   "metadata": {},
   "outputs": [],
   "source": [
    "def text_preprocesser(text:string)->list:\n",
    "    tokenized = nltk.word_tokenize(''.join([char \n",
    "                                       for char \n",
    "                                       in text.lower() \n",
    "                                       if char not in string.punctuation]))\n",
    "                                       \n",
    "    stop_words = nltk.corpus.stopwords.words('english')\n",
    "    no_stop_words = [word \n",
    "                     for word \n",
    "                     in tokenized \n",
    "                     if word not in stop_words]\n",
    "\n",
    "    stemmer = nltk.stem.porter.PorterStemmer()\n",
    "\n",
    "    return [stemmer.stem(word)\n",
    "            for word \n",
    "            in no_stop_words\n",
    "            if any(chr.isdigit() for chr in word) == False and len(word) > 3]"
   ]
  },
  {
   "attachments": {},
   "cell_type": "markdown",
   "metadata": {},
   "source": [
    "This table contains for each date 25 title news, so we can easily group on the primary key to define in the end a one big document for each date."
   ]
  },
  {
   "cell_type": "code",
   "execution_count": 214,
   "metadata": {},
   "outputs": [
    {
     "name": "stderr",
     "output_type": "stream",
     "text": [
      "100%|██████████| 2943/2943 [00:52<00:00, 55.60it/s]\n"
     ]
    }
   ],
   "source": [
    "documents = {}\n",
    "for date in tqdm(news.Date.unique()):\n",
    "    processed = []\n",
    "    for text in news.News[news.Date == date]:\n",
    "        processed += text_preprocesser(text)\n",
    "    documents[date] = processed"
   ]
  },
  {
   "attachments": {},
   "cell_type": "markdown",
   "metadata": {},
   "source": [
    "This is a view on our brand new documents:"
   ]
  },
  {
   "cell_type": "code",
   "execution_count": 215,
   "metadata": {},
   "outputs": [
    {
     "data": {
      "text/html": [
       "<div>\n",
       "<style scoped>\n",
       "    .dataframe tbody tr th:only-of-type {\n",
       "        vertical-align: middle;\n",
       "    }\n",
       "\n",
       "    .dataframe tbody tr th {\n",
       "        vertical-align: top;\n",
       "    }\n",
       "\n",
       "    .dataframe thead th {\n",
       "        text-align: right;\n",
       "    }\n",
       "</style>\n",
       "<table border=\"1\" class=\"dataframe\">\n",
       "  <thead>\n",
       "    <tr style=\"text-align: right;\">\n",
       "      <th></th>\n",
       "      <th>Date</th>\n",
       "      <th>Preprocessed News</th>\n",
       "    </tr>\n",
       "  </thead>\n",
       "  <tbody>\n",
       "    <tr>\n",
       "      <th>0</th>\n",
       "      <td>2016-07-01</td>\n",
       "      <td>[woman, mexico, citi, final, receiv, birth, ce...</td>\n",
       "    </tr>\n",
       "    <tr>\n",
       "      <th>1</th>\n",
       "      <td>2016-06-30</td>\n",
       "      <td>[jamaica, propos, marijuana, dispens, tourist,...</td>\n",
       "    </tr>\n",
       "    <tr>\n",
       "      <th>2</th>\n",
       "      <td>2016-06-29</td>\n",
       "      <td>[explos, airport, istanbul, yemeni, former, pr...</td>\n",
       "    </tr>\n",
       "    <tr>\n",
       "      <th>3</th>\n",
       "      <td>2016-06-28</td>\n",
       "      <td>[scientist, australia, want, save, great, barr...</td>\n",
       "    </tr>\n",
       "    <tr>\n",
       "      <th>4</th>\n",
       "      <td>2016-06-27</td>\n",
       "      <td>[barclay, share, suspend, trade, tank, pope, s...</td>\n",
       "    </tr>\n",
       "    <tr>\n",
       "      <th>5</th>\n",
       "      <td>2016-06-26</td>\n",
       "      <td>[author, raid, scientolog, offic, russia, mone...</td>\n",
       "    </tr>\n",
       "    <tr>\n",
       "      <th>6</th>\n",
       "      <td>2016-06-25</td>\n",
       "      <td>[week, olymp, handl, drug, test, game, suspend...</td>\n",
       "    </tr>\n",
       "    <tr>\n",
       "      <th>7</th>\n",
       "      <td>2016-06-24</td>\n",
       "      <td>[david, cameron, resign, referendum, forecast,...</td>\n",
       "    </tr>\n",
       "    <tr>\n",
       "      <th>8</th>\n",
       "      <td>2016-06-23</td>\n",
       "      <td>[today, unit, kingdom, decid, whether, remain,...</td>\n",
       "    </tr>\n",
       "    <tr>\n",
       "      <th>9</th>\n",
       "      <td>2016-06-22</td>\n",
       "      <td>[german, govern, agre, frack, indefinit, teena...</td>\n",
       "    </tr>\n",
       "  </tbody>\n",
       "</table>\n",
       "</div>"
      ],
      "text/plain": [
       "         Date                                  Preprocessed News\n",
       "0  2016-07-01  [woman, mexico, citi, final, receiv, birth, ce...\n",
       "1  2016-06-30  [jamaica, propos, marijuana, dispens, tourist,...\n",
       "2  2016-06-29  [explos, airport, istanbul, yemeni, former, pr...\n",
       "3  2016-06-28  [scientist, australia, want, save, great, barr...\n",
       "4  2016-06-27  [barclay, share, suspend, trade, tank, pope, s...\n",
       "5  2016-06-26  [author, raid, scientolog, offic, russia, mone...\n",
       "6  2016-06-25  [week, olymp, handl, drug, test, game, suspend...\n",
       "7  2016-06-24  [david, cameron, resign, referendum, forecast,...\n",
       "8  2016-06-23  [today, unit, kingdom, decid, whether, remain,...\n",
       "9  2016-06-22  [german, govern, agre, frack, indefinit, teena..."
      ]
     },
     "execution_count": 215,
     "metadata": {},
     "output_type": "execute_result"
    }
   ],
   "source": [
    "newers = pd.DataFrame({'Date':documents.keys(),\n",
    "                      'Preprocessed News':documents.values()})\n",
    "newers.head(10)"
   ]
  },
  {
   "attachments": {},
   "cell_type": "markdown",
   "metadata": {},
   "source": [
    "#### 1.4 Building up our dataset"
   ]
  },
  {
   "attachments": {},
   "cell_type": "markdown",
   "metadata": {},
   "source": [
    "Finally we make a natural join between our two tables, building the dataset we are going to use in the further steps of our work. "
   ]
  },
  {
   "cell_type": "code",
   "execution_count": 216,
   "metadata": {},
   "outputs": [
    {
     "data": {
      "text/html": [
       "<div>\n",
       "<style scoped>\n",
       "    .dataframe tbody tr th:only-of-type {\n",
       "        vertical-align: middle;\n",
       "    }\n",
       "\n",
       "    .dataframe tbody tr th {\n",
       "        vertical-align: top;\n",
       "    }\n",
       "\n",
       "    .dataframe thead th {\n",
       "        text-align: right;\n",
       "    }\n",
       "</style>\n",
       "<table border=\"1\" class=\"dataframe\">\n",
       "  <thead>\n",
       "    <tr style=\"text-align: right;\">\n",
       "      <th></th>\n",
       "      <th>Date</th>\n",
       "      <th>Label</th>\n",
       "      <th>Preprocessed News</th>\n",
       "    </tr>\n",
       "  </thead>\n",
       "  <tbody>\n",
       "    <tr>\n",
       "      <th>0</th>\n",
       "      <td>2016-07-01</td>\n",
       "      <td>1</td>\n",
       "      <td>[woman, mexico, citi, final, receiv, birth, ce...</td>\n",
       "    </tr>\n",
       "    <tr>\n",
       "      <th>1</th>\n",
       "      <td>2016-06-30</td>\n",
       "      <td>1</td>\n",
       "      <td>[jamaica, propos, marijuana, dispens, tourist,...</td>\n",
       "    </tr>\n",
       "    <tr>\n",
       "      <th>2</th>\n",
       "      <td>2016-06-29</td>\n",
       "      <td>1</td>\n",
       "      <td>[explos, airport, istanbul, yemeni, former, pr...</td>\n",
       "    </tr>\n",
       "    <tr>\n",
       "      <th>3</th>\n",
       "      <td>2016-06-28</td>\n",
       "      <td>1</td>\n",
       "      <td>[scientist, australia, want, save, great, barr...</td>\n",
       "    </tr>\n",
       "    <tr>\n",
       "      <th>4</th>\n",
       "      <td>2016-06-27</td>\n",
       "      <td>0</td>\n",
       "      <td>[barclay, share, suspend, trade, tank, pope, s...</td>\n",
       "    </tr>\n",
       "    <tr>\n",
       "      <th>5</th>\n",
       "      <td>2016-06-24</td>\n",
       "      <td>0</td>\n",
       "      <td>[david, cameron, resign, referendum, forecast,...</td>\n",
       "    </tr>\n",
       "    <tr>\n",
       "      <th>6</th>\n",
       "      <td>2016-06-23</td>\n",
       "      <td>1</td>\n",
       "      <td>[today, unit, kingdom, decid, whether, remain,...</td>\n",
       "    </tr>\n",
       "    <tr>\n",
       "      <th>7</th>\n",
       "      <td>2016-06-22</td>\n",
       "      <td>0</td>\n",
       "      <td>[german, govern, agre, frack, indefinit, teena...</td>\n",
       "    </tr>\n",
       "    <tr>\n",
       "      <th>8</th>\n",
       "      <td>2016-06-21</td>\n",
       "      <td>1</td>\n",
       "      <td>[australian, athlet, compet, paralymp, game, r...</td>\n",
       "    </tr>\n",
       "    <tr>\n",
       "      <th>9</th>\n",
       "      <td>2016-06-20</td>\n",
       "      <td>1</td>\n",
       "      <td>[stagger, percent, venezuelan, money, enough, ...</td>\n",
       "    </tr>\n",
       "  </tbody>\n",
       "</table>\n",
       "</div>"
      ],
      "text/plain": [
       "         Date  Label                                  Preprocessed News\n",
       "0  2016-07-01      1  [woman, mexico, citi, final, receiv, birth, ce...\n",
       "1  2016-06-30      1  [jamaica, propos, marijuana, dispens, tourist,...\n",
       "2  2016-06-29      1  [explos, airport, istanbul, yemeni, former, pr...\n",
       "3  2016-06-28      1  [scientist, australia, want, save, great, barr...\n",
       "4  2016-06-27      0  [barclay, share, suspend, trade, tank, pope, s...\n",
       "5  2016-06-24      0  [david, cameron, resign, referendum, forecast,...\n",
       "6  2016-06-23      1  [today, unit, kingdom, decid, whether, remain,...\n",
       "7  2016-06-22      0  [german, govern, agre, frack, indefinit, teena...\n",
       "8  2016-06-21      1  [australian, athlet, compet, paralymp, game, r...\n",
       "9  2016-06-20      1  [stagger, percent, venezuelan, money, enough, ..."
      ]
     },
     "execution_count": 216,
     "metadata": {},
     "output_type": "execute_result"
    }
   ],
   "source": [
    "final_dataset = dow_jones.merge(newers)\n",
    "final_dataset = final_dataset.drop(labels=['Open','Close'], axis=1)\n",
    "final_dataset.head(10)"
   ]
  },
  {
   "attachments": {},
   "cell_type": "markdown",
   "metadata": {},
   "source": [
    "### 2. Feature engineering"
   ]
  },
  {
   "attachments": {},
   "cell_type": "markdown",
   "metadata": {},
   "source": [
    "#### 2.1 Text vectorization"
   ]
  },
  {
   "attachments": {},
   "cell_type": "markdown",
   "metadata": {},
   "source": [
    "The next step is to define a proper feature extraction for the preprocessed documents, because we need a vectorized version of the documents in order to make them a readable input for our classification models. \n",
    "\n",
    "We are dividing our feature engineering in two steps:\n",
    "1) Extraction of `n-grams` and construction of the lexicon;\n",
    "2) Vectorization of each documents with respect of a certain method and the just built lexicon. \n",
    "\n",
    "An n-gram is a feature structure gathered collecting groups of n subsequent words through the document. For example, if we want the 3-grams of the document **'Hello, my name is Leonardo'** we'll get {'Hello my name', 'my name is', 'name is Leonardo'}. In our case we used only 1-grams (the single words) and 2-grams. The bigrams seemed to bring small improvements to the model, but we are going to report only the script that provided us the unigrams vectorizations: we can generalize the pipeline with object oriented programming, but seemed much slower than the mere script. We are not considering any dropout on the vocabulary, since it amplifies distortion on the distribution of the features.  \n",
    "\n",
    "We are going to use two very common vectorization schemes<sup>[2]</sup>:\n",
    "- `TFIDF` is one of the most used feature engineering in text mining. It is based on two scores:\n",
    "    - `TF` measures the *intra-document* frequency of each n-gram in each document. The frequencies are usually damped through some standard methods to decrease the effect of the dimensionality. \n",
    "    - `IDF` measures the *inter-document* frequency of each n-gram of the corpus. This is useful to set thresholds on the occurencies of n-grams through documents, in order to drop too rare or too frequent n-grams. \n",
    "- `One-hot vectorization` is a 0-1 encoding where we just want to record wheter if a n-gram is in the document or not. This is useful for Bernoulli Naive Bayes Classifier, and we can just retrieve it through simple operations on TFIDF. "
   ]
  },
  {
   "attachments": {},
   "cell_type": "markdown",
   "metadata": {},
   "source": [
    "In this case object oriented programming is actual slower in compiling, so we'll just leave the script which implements vectorization from scratch and it's very fast."
   ]
  },
  {
   "cell_type": "code",
   "execution_count": 217,
   "metadata": {},
   "outputs": [
    {
     "name": "stderr",
     "output_type": "stream",
     "text": [
      "100%|██████████| 1989/1989 [00:25<00:00, 77.60it/s] \n"
     ]
    }
   ],
   "source": [
    "#Vectorization with unigrams\n",
    "#Collect the list of words from the corpus...\n",
    "listOfWords = []\n",
    "for index in final_dataset.index:\n",
    "    listOfWords += final_dataset['Preprocessed News'][index]\n",
    "\n",
    "#...and then hash them in a dictionary\n",
    "vocabulary = {}\n",
    "term_id = 1\n",
    "for word in sorted(list(set(listOfWords))):\n",
    "    vocabulary[word] = term_id\n",
    "    term_id += 1\n",
    "\n",
    "#Take into account the number of documents where each word appears...\n",
    "word_occ = {}\n",
    "for idx in final_dataset.index:\n",
    "    setted = set(final_dataset['Preprocessed News'][idx])\n",
    "    for word in setted:\n",
    "        if word not in word_occ:\n",
    "            word_occ[word] = 1\n",
    "        else:\n",
    "            word_occ[word] += 1\n",
    "\n",
    "#...because it is important to define the IDF\n",
    "idf = {}\n",
    "L = len(final_dataset['Preprocessed News'])\n",
    "for word in sorted(word_occ.keys()):\n",
    "    if word in vocabulary.keys():\n",
    "        idf[word] = math.log10(L/word_occ[word])\n",
    "\n",
    "#This inverted index is useful to perform the actual vectorization \n",
    "tfidf_inverted_index = {}\n",
    "for index, list_ in final_dataset['Preprocessed News'].iteritems():\n",
    "    counter = Counter(list_)\n",
    "    for word in set(list_):\n",
    "        if word in vocabulary.keys():\n",
    "            tf_idf = counter[word]*idf[word]/len(list_)\n",
    "            if vocabulary[word] in tfidf_inverted_index:\n",
    "                tfidf_inverted_index[vocabulary[word]].append((index, tf_idf))\n",
    "            else:\n",
    "                tfidf_inverted_index[vocabulary[word]] = [(index, tf_idf)]\n",
    "\n",
    "#The last step\n",
    "tfidf_vectorization = []\n",
    "for idx in tqdm(final_dataset.index):\n",
    "    vectorized = np.zeros(len(vocabulary))\n",
    "    for word in final_dataset['Preprocessed News'][idx]:\n",
    "        if word in vocabulary.keys():\n",
    "            for tup in tfidf_inverted_index[vocabulary[word]]:\n",
    "                if tup[0] == idx:\n",
    "                    vectorized[vocabulary[word]-1] = tup[1]\n",
    "    tfidf_vectorization.append(vectorized)"
   ]
  },
  {
   "cell_type": "code",
   "execution_count": 218,
   "metadata": {},
   "outputs": [],
   "source": [
    "onehot_vectorization = list(map(lambda x: np.array(x, dtype=bool).astype(int), tfidf_vectorization))"
   ]
  },
  {
   "attachments": {},
   "cell_type": "markdown",
   "metadata": {},
   "source": [
    "Then we just insert those fresh new features into our dataset. "
   ]
  },
  {
   "cell_type": "code",
   "execution_count": 219,
   "metadata": {},
   "outputs": [],
   "source": [
    "final_dataset['TFIDF'] = tfidf_vectorization\n",
    "final_dataset['OneHot'] = onehot_vectorization"
   ]
  },
  {
   "cell_type": "code",
   "execution_count": 220,
   "metadata": {},
   "outputs": [
    {
     "data": {
      "text/html": [
       "<div>\n",
       "<style scoped>\n",
       "    .dataframe tbody tr th:only-of-type {\n",
       "        vertical-align: middle;\n",
       "    }\n",
       "\n",
       "    .dataframe tbody tr th {\n",
       "        vertical-align: top;\n",
       "    }\n",
       "\n",
       "    .dataframe thead th {\n",
       "        text-align: right;\n",
       "    }\n",
       "</style>\n",
       "<table border=\"1\" class=\"dataframe\">\n",
       "  <thead>\n",
       "    <tr style=\"text-align: right;\">\n",
       "      <th></th>\n",
       "      <th>Date</th>\n",
       "      <th>Label</th>\n",
       "      <th>Preprocessed News</th>\n",
       "      <th>TFIDF</th>\n",
       "      <th>OneHot</th>\n",
       "    </tr>\n",
       "  </thead>\n",
       "  <tbody>\n",
       "    <tr>\n",
       "      <th>0</th>\n",
       "      <td>2016-07-01</td>\n",
       "      <td>1</td>\n",
       "      <td>[woman, mexico, citi, final, receiv, birth, ce...</td>\n",
       "      <td>[0.0, 0.0, 0.0, 0.0, 0.0, 0.0, 0.0, 0.0, 0.0, ...</td>\n",
       "      <td>[0, 0, 0, 0, 0, 0, 0, 0, 0, 0, 0, 0, 0, 0, 0, ...</td>\n",
       "    </tr>\n",
       "    <tr>\n",
       "      <th>1</th>\n",
       "      <td>2016-06-30</td>\n",
       "      <td>1</td>\n",
       "      <td>[jamaica, propos, marijuana, dispens, tourist,...</td>\n",
       "      <td>[0.0, 0.0, 0.0, 0.0, 0.0, 0.0, 0.0, 0.0, 0.0, ...</td>\n",
       "      <td>[0, 0, 0, 0, 0, 0, 0, 0, 0, 0, 0, 0, 0, 0, 0, ...</td>\n",
       "    </tr>\n",
       "    <tr>\n",
       "      <th>2</th>\n",
       "      <td>2016-06-29</td>\n",
       "      <td>1</td>\n",
       "      <td>[explos, airport, istanbul, yemeni, former, pr...</td>\n",
       "      <td>[0.0, 0.0, 0.0, 0.0, 0.0, 0.0, 0.0, 0.0, 0.0, ...</td>\n",
       "      <td>[0, 0, 0, 0, 0, 0, 0, 0, 0, 0, 0, 0, 0, 0, 0, ...</td>\n",
       "    </tr>\n",
       "    <tr>\n",
       "      <th>3</th>\n",
       "      <td>2016-06-28</td>\n",
       "      <td>1</td>\n",
       "      <td>[scientist, australia, want, save, great, barr...</td>\n",
       "      <td>[0.0, 0.0, 0.0, 0.0, 0.0, 0.0, 0.0, 0.0, 0.0, ...</td>\n",
       "      <td>[0, 0, 0, 0, 0, 0, 0, 0, 0, 0, 0, 0, 0, 0, 0, ...</td>\n",
       "    </tr>\n",
       "    <tr>\n",
       "      <th>4</th>\n",
       "      <td>2016-06-27</td>\n",
       "      <td>0</td>\n",
       "      <td>[barclay, share, suspend, trade, tank, pope, s...</td>\n",
       "      <td>[0.0, 0.0, 0.0, 0.0, 0.0, 0.0, 0.0, 0.0, 0.0, ...</td>\n",
       "      <td>[0, 0, 0, 0, 0, 0, 0, 0, 0, 0, 0, 0, 0, 0, 0, ...</td>\n",
       "    </tr>\n",
       "  </tbody>\n",
       "</table>\n",
       "</div>"
      ],
      "text/plain": [
       "         Date  Label                                  Preprocessed News  \\\n",
       "0  2016-07-01      1  [woman, mexico, citi, final, receiv, birth, ce...   \n",
       "1  2016-06-30      1  [jamaica, propos, marijuana, dispens, tourist,...   \n",
       "2  2016-06-29      1  [explos, airport, istanbul, yemeni, former, pr...   \n",
       "3  2016-06-28      1  [scientist, australia, want, save, great, barr...   \n",
       "4  2016-06-27      0  [barclay, share, suspend, trade, tank, pope, s...   \n",
       "\n",
       "                                               TFIDF  \\\n",
       "0  [0.0, 0.0, 0.0, 0.0, 0.0, 0.0, 0.0, 0.0, 0.0, ...   \n",
       "1  [0.0, 0.0, 0.0, 0.0, 0.0, 0.0, 0.0, 0.0, 0.0, ...   \n",
       "2  [0.0, 0.0, 0.0, 0.0, 0.0, 0.0, 0.0, 0.0, 0.0, ...   \n",
       "3  [0.0, 0.0, 0.0, 0.0, 0.0, 0.0, 0.0, 0.0, 0.0, ...   \n",
       "4  [0.0, 0.0, 0.0, 0.0, 0.0, 0.0, 0.0, 0.0, 0.0, ...   \n",
       "\n",
       "                                              OneHot  \n",
       "0  [0, 0, 0, 0, 0, 0, 0, 0, 0, 0, 0, 0, 0, 0, 0, ...  \n",
       "1  [0, 0, 0, 0, 0, 0, 0, 0, 0, 0, 0, 0, 0, 0, 0, ...  \n",
       "2  [0, 0, 0, 0, 0, 0, 0, 0, 0, 0, 0, 0, 0, 0, 0, ...  \n",
       "3  [0, 0, 0, 0, 0, 0, 0, 0, 0, 0, 0, 0, 0, 0, 0, ...  \n",
       "4  [0, 0, 0, 0, 0, 0, 0, 0, 0, 0, 0, 0, 0, 0, 0, ...  "
      ]
     },
     "execution_count": 220,
     "metadata": {},
     "output_type": "execute_result"
    }
   ],
   "source": [
    "final_dataset.head()"
   ]
  },
  {
   "attachments": {},
   "cell_type": "markdown",
   "metadata": {},
   "source": [
    "#### 2.2 Few more data preprocessing: dealing with datetime objects"
   ]
  },
  {
   "attachments": {},
   "cell_type": "markdown",
   "metadata": {},
   "source": [
    "The author of the dataset suggests a way to split the dataset into the train-set and the test-set respecting the 80/20 proportion:\n",
    "- Training Set: from 2008-08-08 to 2014-12-31\n",
    "- Test Set: from 2015-01-02 to 2016-07-01"
   ]
  },
  {
   "attachments": {},
   "cell_type": "markdown",
   "metadata": {},
   "source": [
    "Before doing this, we need a function that builds datetime-instances from Date column."
   ]
  },
  {
   "cell_type": "code",
   "execution_count": 221,
   "metadata": {},
   "outputs": [],
   "source": [
    "def string_to_datetime(stringed:string):\n",
    "    return datetime.strptime(stringed, '%Y-%m-%d').date()"
   ]
  },
  {
   "cell_type": "code",
   "execution_count": 222,
   "metadata": {},
   "outputs": [],
   "source": [
    "final_dataset['Date'] = final_dataset['Date'].map(lambda text:string_to_datetime(text))"
   ]
  },
  {
   "attachments": {},
   "cell_type": "markdown",
   "metadata": {},
   "source": [
    "#### 2.3 Splitting the data: training-set, test-set, validation-set"
   ]
  },
  {
   "attachments": {},
   "cell_type": "markdown",
   "metadata": {},
   "source": [
    "We follow the suggestion of the author of the dataset, and retrieve a validation set from a random combination of the rows of the train set: it is going to be useful for some tuning of the parameters."
   ]
  },
  {
   "cell_type": "code",
   "execution_count": 223,
   "metadata": {},
   "outputs": [],
   "source": [
    "train_set = final_dataset[(final_dataset.Date >= string_to_datetime('2008-08-08')) & (final_dataset.Date <= string_to_datetime('2014-12-31'))].reset_index(drop=True)\n",
    "test_set = final_dataset[(final_dataset.Date >= string_to_datetime('2015-01-02')) & (final_dataset.Date <= string_to_datetime('2016-07-01'))].reset_index(drop=True)\n",
    "\n",
    "validation_set = train_set.iloc[[i for i in np.random.randint(min(train_set.index), max(train_set.index), len(test_set))]].reset_index(drop=True)"
   ]
  },
  {
   "attachments": {},
   "cell_type": "markdown",
   "metadata": {},
   "source": [
    "##### 2.3.1 Some more data analysis: ground truth and features distribution"
   ]
  },
  {
   "attachments": {},
   "cell_type": "markdown",
   "metadata": {},
   "source": [
    "##### 2.3.1.1 Features distribution between training set and test set: evaluating divergence"
   ]
  },
  {
   "attachments": {},
   "cell_type": "markdown",
   "metadata": {},
   "source": [
    "In our tests we actually achieved low accuracy scores. This is particularly interesting in the deep learning framework: after tuning the model we reached almost-zero values for the loss in few epochs on the training set. The low accuracy can be explained having a look to the distribution of the features between training set and test set. Infact one of the most important problem in text mining is the high dimensional sparsity, and this can lead to an 'incomplete' training. The core of the training is this update equation:\n",
    "\n",
    "\\begin{align*}\n",
    "\\theta_j^{t+1} := \\theta_j^{t} - \\alpha \\cdot \\sum_{i=1}^{m} x_j^i[h_\\theta(x^i)-y^i]\n",
    "\\end{align*}\n",
    "\n",
    "Having a glimpse to this math-behind-the-model, we can easily see that if there's no information on some features, the corresponding parameters are not updated. We can design some scenarios based on this assumption:\n",
    "- The *worst scenario* is the one where the features on the training-set are well distributed over a fraction of the size of the vectorization, so the training leads to good learning, but the features where the test-set is defined upon are the ones where the training-set was affected by high dimensional sparsity, so the model has actually no information about them!\n",
    "- The *best scenario* is the one where the features on both the training-set and the test-set are well distribute over the whole size of the vectorization: the model knows how to deal with the predictions. \n",
    "\n",
    "Looking at our accuracy scores we can consider the idea that our idea actually skews towards the worst scenario, so we are having a look to the distributions of the features: we can just consider the vectorized sum of the one-hot vectorized documents to gather information wheter a feature is absent or not. "
   ]
  },
  {
   "cell_type": "code",
   "execution_count": 44,
   "metadata": {},
   "outputs": [],
   "source": [
    "training_fe_distro = np.zeros(len(vocabulary))\n",
    "for idx in train_set.index:\n",
    "    training_fe_distro += train_set['OneHot'][idx]\n",
    "\n",
    "test_fe_distro = np.zeros(len(vocabulary))\n",
    "for idx in test_set.index:\n",
    "    test_fe_distro += test_set['OneHot'][idx]\n",
    "\n",
    "#We normalize both the distributions to get probability measures  \n",
    "training_fe_distro = training_fe_distro/np.sum(training_fe_distro)\n",
    "test_fe_distro = test_fe_distro/np.sum(test_fe_distro)"
   ]
  },
  {
   "cell_type": "code",
   "execution_count": 153,
   "metadata": {},
   "outputs": [
    {
     "data": {
      "image/png": "[encoded data removed]",
      "text/plain": [
       "<Figure size 640x480 with 3 Axes>"
      ]
     },
     "metadata": {},
     "output_type": "display_data"
    }
   ],
   "source": [
    "fig, (ng1, ng2, ng3) = plt.subplots(3,1)\n",
    "\n",
    "fig.tight_layout(pad=1.5)\n",
    "\n",
    "ng1.plot(training_fe_distro)\n",
    "ng1.title.set_text('Train-set features distribution')\n",
    "ng2.plot(test_fe_distro)\n",
    "ng2.title.set_text('Test-set features distribution')\n",
    "ng3.plot(np.abs(training_fe_distro-test_fe_distro))\n",
    "ng3.title.set_text('L1-element-wise distance between the two distributions')"
   ]
  },
  {
   "attachments": {},
   "cell_type": "markdown",
   "metadata": {},
   "source": [
    "From a data visualization perspective it may seems that the two distribution are pretty close, so we are not skewing toward the supposed-worst-scenario. At the same time it's hard to make a good analysis from just visualization because of the high dimensional framework, so we are also going to compute a metric."
   ]
  },
  {
   "attachments": {},
   "cell_type": "markdown",
   "metadata": {},
   "source": [
    "We are going to compute the Jensen-Shannon divergence for these two distributions, which is derived from Kullback–Leibler divergence. This last one basically measures cross-entropy between the distributions:\n",
    "\n",
    "\\begin{align}\n",
    "D_{KL}(P||Q) = \\sum_{x \\in X} P(x)log(\\frac{P(x)}{Q(x)}) \\\\\n",
    "D_{KL}(Q||P) = \\sum_{x \\in X} Q(x)log(\\frac{Q(x)}{P(x)}) \n",
    "\\end{align}\n",
    "\n",
    "It is not a metric, because it doesn't ensure simmetry and triangle inequality. The Jensen-Shannon divergence is just a 'correction' of this divergence:\n",
    "\n",
    "\\begin{align}\n",
    "D_{JS} = \\frac{1}{2} D_{KL}(P||Q) + \\frac{1}{2} D_{KL}(Q||P)\n",
    "\\end{align}\n",
    "\n",
    "This metric is good to study distance between a measure distribution and its approximation, especially in high-dimensional framework: in a way this can be extended to training and test feature distribution to evaluate their exchangeability. We want this value to be close to zero.\n",
    " "
   ]
  },
  {
   "cell_type": "code",
   "execution_count": 64,
   "metadata": {},
   "outputs": [
    {
     "name": "stdout",
     "output_type": "stream",
     "text": [
      "The Jensen-Shannon divergence between training-set and test-set is 0.11689030330923898\n"
     ]
    }
   ],
   "source": [
    "d_kl_pq = 0\n",
    "d_kl_qp = 0\n",
    "for id in range(len(vocabulary)):\n",
    "    if training_fe_distro[id] != 0 and test_fe_distro[id] != 0:                            #Just to work in a 'space' where we don't have inf values in log\n",
    "        d_kl_pq += training_fe_distro[id]*np.log(training_fe_distro[id]/test_fe_distro[id])\n",
    "        d_kl_qp += test_fe_distro[id]*np.log(test_fe_distro[id]/training_fe_distro[id])\n",
    "d_js = 0.5*d_kl_pq + 0.5*d_kl_qp\n",
    "\n",
    "print('The Jensen-Shannon divergence between training-set and test-set is', d_js)"
   ]
  },
  {
   "attachments": {},
   "cell_type": "markdown",
   "metadata": {},
   "source": [
    "This value of Jensen-Shannon divergence suggests that the distribution of the features in the training-set is pretty similar to the one in the test-set, so the suggested splitting is actually a good one. "
   ]
  },
  {
   "attachments": {},
   "cell_type": "markdown",
   "metadata": {},
   "source": [
    "##### 2.3.1.2 Ground truth distribution between training set and test set: evaluating precision and recall distortion"
   ]
  },
  {
   "attachments": {},
   "cell_type": "markdown",
   "metadata": {},
   "source": [
    "Just to complete our overview, we may have a look to the ground truth distribution in the splitted set."
   ]
  },
  {
   "cell_type": "code",
   "execution_count": 30,
   "metadata": {},
   "outputs": [
    {
     "data": {
      "image/png": "[encoded data removed]",
      "text/plain": [
       "<Figure size 640x480 with 2 Axes>"
      ]
     },
     "metadata": {},
     "output_type": "display_data"
    }
   ],
   "source": [
    "sizes1 = np.array([len(train_set[train_set['Label'] == 0]), len(train_set[train_set['Label'] == 1])])\n",
    "sizes1 = sizes1/len(train_set)\n",
    "\n",
    "sizes2 = np.array([len(test_set[test_set['Label'] == 0]), len(test_set[test_set['Label'] == 1])])\n",
    "sizes2 = sizes2/len(test_set)\n",
    "\n",
    "classes = ['Close dropped', 'Close raised']\n",
    "\n",
    "ax1 = plt.subplot2grid((2,1),(0,0))\n",
    "plt.pie(sizes1, labels=classes,autopct='%1.1f%%',shadow=True, startangle=90, colors=['#C84B31','#A5E7CC'] )\n",
    "plt.title('Distribution of the classes in the train-set')\n",
    "ax1 = plt.subplot2grid((2,1),(1,0))\n",
    "plt.pie(sizes2, labels=classes,autopct='%1.1f%%',shadow=True, startangle=90, colors=['#C84B31','#A5E7CC'] )\n",
    "plt.title('Distribution of the classes in the test-set')\n",
    "plt.show()"
   ]
  },
  {
   "attachments": {},
   "cell_type": "markdown",
   "metadata": {},
   "source": [
    "The test-set is very well balanced, and so is the train-set. The reason between the strange values in precision for Naive Bayes classifier is maybe in a mistake in the implementation, since we implemented the metrics from scratch."
   ]
  },
  {
   "attachments": {},
   "cell_type": "markdown",
   "metadata": {},
   "source": [
    "### 3. Model engineering"
   ]
  },
  {
   "attachments": {},
   "cell_type": "markdown",
   "metadata": {},
   "source": [
    "We tried different models on our extracted features:\n",
    "- Fully connected network to perform logistic regression both on unigrams and bigrams in PyTorch framework;\n",
    "- Naive Bayes classifier both on unigrams and bigrams;\n",
    "- Linear Discriminant Analysis for sentiment analysis. \n",
    "\n",
    "Here we are summarising the focal points of each model. "
   ]
  },
  {
   "attachments": {},
   "cell_type": "markdown",
   "metadata": {},
   "source": [
    "#### 3.1 Fully connected network in PyTorch"
   ]
  },
  {
   "attachments": {},
   "cell_type": "markdown",
   "metadata": {},
   "source": [
    "Since we worked on from-scratch implementation in the assignments, we thought that this could be a good opportunity to get familiar with PyTorch. \n",
    "\n",
    "In order to correctly set a PyTorch framework, we define some standard tools and steps:\n",
    "1) First of all we need to convert our vectorized features in *tensors*;\n",
    "2) Then we need a *DataBuilder* to make the input digestible by the neural network;\n",
    "3) The *NewsClassifier* is the class that defines our fully connected neural network;\n",
    "4) It's time for the *training* process;\n",
    "5) Finally, the evaluation of the model. "
   ]
  },
  {
   "attachments": {},
   "cell_type": "markdown",
   "metadata": {},
   "source": [
    "##### 3.1.1 Converting the features in tensors"
   ]
  },
  {
   "attachments": {},
   "cell_type": "markdown",
   "metadata": {},
   "source": [
    "We are only converting TFIDF vectorized documents in tensors."
   ]
  },
  {
   "cell_type": "code",
   "execution_count": 67,
   "metadata": {},
   "outputs": [],
   "source": [
    "final_dataset['TFIDFTensor'] = final_dataset['TFIDF'].apply(lambda x: trc.tensor(x, dtype=trc.float32))\n",
    "train_set['TFIDFTensor'] = train_set['TFIDF'].apply(lambda x: trc.tensor(x, dtype=trc.float32))\n",
    "test_set['TFIDFTensor'] = test_set['TFIDF'].apply(lambda x: trc.tensor(x, dtype=trc.float32))\n",
    "validation_set['TFIDFTensor'] = validation_set['TFIDF'].apply(lambda x: trc.tensor(x, dtype=trc.float32))"
   ]
  },
  {
   "attachments": {},
   "cell_type": "markdown",
   "metadata": {},
   "source": [
    "##### 3.1.2 *Databuilder* class"
   ]
  },
  {
   "cell_type": "code",
   "execution_count": 68,
   "metadata": {},
   "outputs": [],
   "source": [
    "class DataBuilder(Dataset):\n",
    "    def __init__(self, X_data, y_data):\n",
    "        self.n_samples = len(X_data)\n",
    "        self.X_data = X_data\n",
    "        self.y_data = y_data\n",
    "    def __getitem__(self, index):\n",
    "        return self.X_data[index], self.y_data[index]\n",
    "    def __len__(self):\n",
    "        return self.n_samples "
   ]
  },
  {
   "cell_type": "code",
   "execution_count": 69,
   "metadata": {},
   "outputs": [],
   "source": [
    "train = DataBuilder(train_set['TFIDFTensor'], train_set['Label'])\n",
    "test = DataBuilder(test_set['TFIDFTensor'], test_set['Label'])\n",
    "validation = DataBuilder(validation_set['TFIDFTensor'], validation_set['Label'])"
   ]
  },
  {
   "attachments": {},
   "cell_type": "markdown",
   "metadata": {},
   "source": [
    "##### 3.1.3 *NewsClassifier* class"
   ]
  },
  {
   "attachments": {},
   "cell_type": "markdown",
   "metadata": {},
   "source": [
    "There are two methods in this class:\n",
    "- `__init__` is the class-builder pointing the superclass `Module` imported from Torch. This method defines a fully connected network with an input linear layer and a hidden linear layer to deal with the high dimensional sparsity.\n",
    "- `forward` feeds the downstream network, using the `ReLu` activation function between the linear layers and the `Sigmoid` activation function to deal with the binary classification problem."
   ]
  },
  {
   "cell_type": "code",
   "execution_count": 156,
   "metadata": {},
   "outputs": [],
   "source": [
    "class NewsClassifier(Module):\n",
    "    def __init__(self, input_size, hidden_size):\n",
    "        super(NewsClassifier, self).__init__()\n",
    "        self.input_size = input_size\n",
    "        self.hidden_size = hidden_size\n",
    "\n",
    "        self.lin1 = Linear(self.input_size, self.hidden_size)\n",
    "        self.lin2 = Linear(self.hidden_size, 1)\n",
    "\n",
    "    def forward (self, x):\n",
    "        x = self.lin1(x)\n",
    "        x = func.relu(x)\n",
    "        x = self.lin2(x)\n",
    "\n",
    "        output = trc.sigmoid(x)\n",
    "        return output     "
   ]
  },
  {
   "attachments": {},
   "cell_type": "markdown",
   "metadata": {},
   "source": [
    "We decided for a mini-batch gradient descent and made some experiments for a small hold-out validation:\n",
    "- 10000 neurons in the hidden layer, lr = .001, batch size = 50\n",
    "    - Accuracy is: 0.5026455026455027\n",
    "    - Precision is 0.5081967213114754\n",
    "    - Recall is 0.8031088082901554\n",
    "    - 5 min 50 seconds for 25 epochs\n",
    "- 5000 neurons in the hidden layer, lr = .001, batch size = 50\n",
    "    - Accuracy is: 0.4973544973544973\n",
    "    - Precision is 0.504885993485342\n",
    "    - Recall is 0.8031088082901554\n",
    "    - 2 min 30 seconds for 25 epochs\n",
    "- 2500 neurons in the hidden layer, lr = .01, batch size = 50\n",
    "    - Accuracy is: 0.5026455026455027\n",
    "    - Precision is 0.5100401606425703\n",
    "    - Recall is 0.6580310880829016\n",
    "    - 1 min 30 seconds for 25 epochs\n",
    "\n",
    "Then we made the actual train with the chosen parameters with a batch-gradient descent approach. "
   ]
  },
  {
   "attachments": {},
   "cell_type": "markdown",
   "metadata": {},
   "source": [
    "##### 3.1.4 Actual training loop"
   ]
  },
  {
   "cell_type": "code",
   "execution_count": null,
   "metadata": {},
   "outputs": [],
   "source": [
    "model = NewsClassifier(len(vocabulary), 2500)                                           #Defining an istance of the model\n",
    "optimizer_batch = trc.optim.Adam(model.parameters(), lr=0.01)                           #Choosing the optimizer and the learning rate\n",
    "criterion = trc.nn.BCELoss()                                                            #Binary Cross-entropy is the standard for binary classification\n",
    "\n",
    "bsize = train.__len__()                                                                 #Defining the dimension of the mini batch\n",
    "train_loaded = DataLoader(dataset=train, batch_size=bsize)                              #Dataloader is a standard tool in PyTorch to load the data\n",
    "\n",
    "loss_list = []                                                                          #Initializing records for the losses\n",
    "avg_loss_list = []\n",
    "n_epochs = 50                                                                           #Setting the number of epochs\n",
    "\n",
    "for epoch in range(1,n_epochs):                                                         #Training loop\n",
    "  losses = []\n",
    "  for X_batch, y_batch in train_loaded:                                                 #Inner training loop \n",
    "      optimizer_batch.zero_grad()                                                       #Reinitializes gradients at each iteration\n",
    "      prediction = model.forward(X_batch)                                               #Feeding the downstream network\n",
    "      loss = criterion(prediction, trc.reshape(y_batch, (len(prediction),1)).float())   #Computing the loss\n",
    "      loss.backward()                                                                   #Upstream gradients\n",
    "      optimizer_batch.step()                                                            #Update parameters\n",
    "      losses.append(loss.item())      \n",
    "      print('\\repoch: {}\\tLoss =  {:.3f}'.format(epoch, loss), end='')\n",
    "  loss_list += losses\n",
    "  avg_loss_list.append(sum(losses)/len(losses))\n",
    "  print('\\n')"
   ]
  },
  {
   "cell_type": "code",
   "execution_count": 175,
   "metadata": {},
   "outputs": [
    {
     "data": {
      "text/plain": [
       "Text(0.5, 1.0, 'Training loss')"
      ]
     },
     "execution_count": 175,
     "metadata": {},
     "output_type": "execute_result"
    },
    {
     "data": {
      "image/png": "[encoded data removed]",
      "text/plain": [
       "<Figure size 640x480 with 1 Axes>"
      ]
     },
     "metadata": {},
     "output_type": "display_data"
    }
   ],
   "source": [
    "plt.plot(avg_loss_list)\n",
    "plt.title('Training loss')"
   ]
  },
  {
   "attachments": {},
   "cell_type": "markdown",
   "metadata": {},
   "source": [
    "##### 3.1.5 Prediction and evaluation "
   ]
  },
  {
   "cell_type": "code",
   "execution_count": 170,
   "metadata": {},
   "outputs": [
    {
     "name": "stdout",
     "output_type": "stream",
     "text": [
      "[[ 35 150]\n",
      " [ 28 165]]\n"
     ]
    }
   ],
   "source": [
    "test_loaded = DataLoader(dataset=test)\n",
    "matrix = np.zeros((2,2),dtype=np.int64)\n",
    "tp = 0\n",
    "tn = 0\n",
    "fn = 0\n",
    "fp = 0  \n",
    "for X_batch, y_batch in test_loaded:  \n",
    "    prediction = model.forward(X_batch)\n",
    "    if prediction > 0.5: \n",
    "        prediction = 1\n",
    "    else:\n",
    "        prediction = 0\n",
    "    if trc.tensor(prediction) == 1 and y_batch[0] == 1:\n",
    "        tp += 1\n",
    "    elif trc.tensor(prediction) == 1 and y_batch[0] == 0:\n",
    "        fp += 1\n",
    "    elif trc.tensor(prediction) == 0 and y_batch[0] == 1:\n",
    "        fn += 1\n",
    "    elif trc.tensor(prediction) == 0 and y_batch[0] == 0:\n",
    "        tn += 1\n",
    "matrix[0,0]=tn\n",
    "matrix[0,1]=fp\n",
    "matrix[1,0]=fn\n",
    "matrix[1,1]=tp\n",
    "print(matrix)"
   ]
  },
  {
   "cell_type": "code",
   "execution_count": 171,
   "metadata": {},
   "outputs": [
    {
     "name": "stdout",
     "output_type": "stream",
     "text": [
      "Accuracy is: 0.5291005291005291\n",
      "Precision is 0.5238095238095238\n",
      "Recall is 0.8549222797927462\n"
     ]
    }
   ],
   "source": [
    "print('Accuracy is:', (matrix[0,0]+matrix[1,1])/test.__len__())\n",
    "print('Precision is', (matrix[1,1]/(matrix[0,1]+matrix[1,1])))\n",
    "print('Recall is', (matrix[1,1]/(matrix[1,0]+matrix[1,1])))"
   ]
  },
  {
   "attachments": {},
   "cell_type": "markdown",
   "metadata": {},
   "source": [
    "#### 3.2 Naive Bayes classifier"
   ]
  },
  {
   "attachments": {},
   "cell_type": "markdown",
   "metadata": {},
   "source": [
    "This is our implementation from scratch for Naive Bayes classifier. \n",
    "- `__init__` initializes the istance of the class setting its main parameters;\n",
    "- `fit` method computes the Naive Bayes maximum likelihood estimators based on some inputs, recording them in the method parameters;\n",
    "- `predict` method outputs the predicted label for some input data based on the fitting the classifier did on the train set. "
   ]
  },
  {
   "cell_type": "code",
   "execution_count": 243,
   "metadata": {},
   "outputs": [],
   "source": [
    "class NBFS:\n",
    "    def __init__(self, k = 1):                                                              #k is a parameter to perform Laplace smoothing and fight \n",
    "        self.k = k                                                                          #high-dimensional sparsity\n",
    "        self.classes = None\n",
    "        self.class_priors = None\n",
    "        self.feature_probs = None\n",
    "\n",
    "    def fit(self, X_train, y_train):\n",
    "        n_samples, n_features = X_train.shape\n",
    "        self.classes = np.unique(y_train)\n",
    "        n_classes = len(self.classes)\n",
    "\n",
    "        self.class_priors = np.zeros(n_classes)\n",
    "        for i, c in enumerate(self.classes):\n",
    "            self.class_priors[i] = np.sum(y_train == c)/n_samples\n",
    "\n",
    "        self.feature_probs = np.zeros((n_classes, n_features))\n",
    "        for i, c in enumerate(self.classes):\n",
    "            X_c = X_train[y_train == c]\n",
    "            self.feature_probs[i] = (np.sum(X_c, axis=0) + self.k)/(np.sum(X_c) + self.k*n_classes)   #Laplace smoothing is here\n",
    "\n",
    "    def predict(self, X_test):\n",
    "        n_samples = X_test.shape[0]\n",
    "        y_pred = np.zeros(n_samples)\n",
    "        for i in range(n_samples):\n",
    "            posteriors = []\n",
    "            for j, c in enumerate(self.classes):\n",
    "                prior = np.log(self.class_priors[j])                                        #Log and sum to reduce computational effort\n",
    "                likelihood = np.sum(np.log(self.feature_probs[j]) * X_test[i])\n",
    "                posterior = prior + likelihood\n",
    "                posteriors.append(posterior)\n",
    "            y_pred[i] = self.classes[np.argmax(posteriors)]\n",
    "        return y_pred"
   ]
  },
  {
   "attachments": {},
   "cell_type": "markdown",
   "metadata": {},
   "source": [
    "This is the metrics implementation that distorted the precision during the final presentation: there was an error with the call of `confusion_matrix` that has been solved."
   ]
  },
  {
   "cell_type": "code",
   "execution_count": 244,
   "metadata": {},
   "outputs": [],
   "source": [
    "def confusion_matrix(y_t,y_p):\n",
    "    tp = 0\n",
    "    tn = 0\n",
    "    fp = 0\n",
    "    fn = 0\n",
    "    for true, predicted in zip(y_t, y_p):\n",
    "        if true == 1 and predicted == 1:\n",
    "            tp += 1\n",
    "        elif true == 1 and predicted == 0:\n",
    "            fn += 1\n",
    "        elif true == 0 and predicted == 1:\n",
    "            fp += 1\n",
    "        else:\n",
    "            tn += 1\n",
    "    return {'TP':tp, 'TN':tn, 'FN':fn, 'FP':fp}\n",
    "\n",
    "def metrics(y_t,y_p):\n",
    "    cf = confusion_matrix(y_t, y_p)\n",
    "    accuracy = (cf['TP']+cf['TN'])/sum(cf.values())\n",
    "    precision = cf['TP']/(cf['TP']+cf['FP'])\n",
    "    recall = cf['TP']/(cf['TP']+cf['FN'])\n",
    "    return {'Accuracy':accuracy, 'Precision':precision, 'Recall':recall}"
   ]
  },
  {
   "attachments": {},
   "cell_type": "markdown",
   "metadata": {},
   "source": [
    "Then we just compared our implementation with the scikit learn one. Since we decided for a Bernoulli Naive Bayes, we used the one-hot vectorization of the documents as the input features."
   ]
  },
  {
   "cell_type": "code",
   "execution_count": 245,
   "metadata": {},
   "outputs": [
    {
     "name": "stdout",
     "output_type": "stream",
     "text": [
      "Scores of scikit-Bernoulli-Naive-Bayes {'Accuracy': 0.48677248677248675, 'Precision': 0.49834983498349833, 'Recall': 0.7823834196891192}\n",
      "Scores of from-scratch-Bernoulli-Naive-Bayes {'Accuracy': 0.5291005291005291, 'Precision': 0.5358851674641149, 'Recall': 0.5803108808290155}\n"
     ]
    }
   ],
   "source": [
    "X_train = np.array(train_set['OneHot'].to_list())\n",
    "y_train = np.array(train_set['Label'].to_list())\n",
    "\n",
    "X_test = np.array(test_set['OneHot'].to_list())\n",
    "y_test = np.array(test_set['Label'].to_list())\n",
    "\n",
    "bnb_sk = BernoulliNB()\n",
    "bnb_sk.fit(X_train,y_train)\n",
    "predictions = bnb_sk.predict(X_test)\n",
    "print(\"Scores of scikit-Bernoulli-Naive-Bayes\",metrics(y_test,predictions))\n",
    "\n",
    "bnb_fs = NBFS()\n",
    "bnb_fs.fit(X_train,y_train)\n",
    "predictions = bnb_fs.predict(X_train)\n",
    "print(\"Scores of from-scratch-Bernoulli-Naive-Bayes\",metrics(y_test,predictions))"
   ]
  },
  {
   "attachments": {},
   "cell_type": "markdown",
   "metadata": {},
   "source": [
    "#### 3.3 Linear Discriminant Analysis for sentiment analysis"
   ]
  },
  {
   "attachments": {},
   "cell_type": "markdown",
   "metadata": {},
   "source": [
    "##### 3.3.1 Preprocessing and feature extraction"
   ]
  },
  {
   "attachments": {},
   "cell_type": "markdown",
   "metadata": {},
   "source": [
    "This model actually needs a different feature engineering, extracting subjectivity and polarity from documents. In order to do this, we firstly have to convert preprocessed news into strings."
   ]
  },
  {
   "cell_type": "code",
   "execution_count": 248,
   "metadata": {},
   "outputs": [],
   "source": [
    "#converting the words into a list of lists\n",
    "preprocessed_news_text = final_dataset[\"Preprocessed News\"].values.tolist()\n",
    "\n",
    "#converting the lists into string to obtain the text\n",
    "preprocessed_news_text_ = [\" \".join(news) for news in preprocessed_news_text]\n",
    "\n",
    "#converting the final list into a DataFrame\n",
    "df_string_news = pd.DataFrame(preprocessed_news_text_, columns = ['Preprocessed News Text'])\n",
    "\n",
    "#Saving the index as a column to merge the two DataFrames\n",
    "final_dataset.reset_index(inplace=True)\n",
    "df_string_news.reset_index(inplace=True)\n",
    "\n",
    "#Merge to obtain the final DataFrame\n",
    "final_dataset_text = final_dataset.merge(df_string_news, left_on='index', right_on='index')\n",
    "\n",
    "#Getting just the useful columns\n",
    "final_dataset_text = final_dataset_text.drop(columns=['Preprocessed News','index', 'TFIDF','OneHot'])"
   ]
  },
  {
   "attachments": {},
   "cell_type": "markdown",
   "metadata": {},
   "source": [
    "Our motivation for conducting sentiment-based text analysis, or opinion mining as it is commonly known, is to determine how neutral the media are in reporting the news and how this neutrality or non-neutrality affects the stock price. \n",
    "\n",
    "Sentiment Analisys can help us to determine the mood or emotion in a text. This type of analysis is used to have a better understanding of the text and with this to analyze the impacts they cause.\n",
    "\n",
    "Firstly, we are going to use TextBlob that is a library for Natural Language Processing(NLP) which performs complex analysis on data. This library use NLTK.\n",
    "TextBlob will give us back a score of polarity and subjectivity of the text.\n",
    "\n",
    "\n",
    "\n",
    "- Polarity score will be between -1 and 1, where -1 is a text considered negative and 1 is a text considered positive. In this case -1 will be for bad news and 1 for good news. \n",
    "- Subjectivity takes into account the personal and objective opinion contained in the text. Subjectivity score will be between 0 and 1, the closer to 1 the subjectivity is, it implies that the text contains more personal opinion than factual information.\n",
    "\n",
    "Secondly, we are going to use VADER (Valence Aware Dictionary and sEntiment Reasoner) to obtain the score that represents whether the news is qualified as negative, positive, or neutral. VADER is a rule-based model for sentiment analysys specialized in social media. Several studies have shown that VADER is more sensitive for social media text analysis compared to other models. VADER also takes into consideration word order and degree modifiers <sup>[3]</sup>. "
   ]
  },
  {
   "cell_type": "code",
   "execution_count": 249,
   "metadata": {},
   "outputs": [
    {
     "data": {
      "text/html": [
       "<div>\n",
       "<style scoped>\n",
       "    .dataframe tbody tr th:only-of-type {\n",
       "        vertical-align: middle;\n",
       "    }\n",
       "\n",
       "    .dataframe tbody tr th {\n",
       "        vertical-align: top;\n",
       "    }\n",
       "\n",
       "    .dataframe thead th {\n",
       "        text-align: right;\n",
       "    }\n",
       "</style>\n",
       "<table border=\"1\" class=\"dataframe\">\n",
       "  <thead>\n",
       "    <tr style=\"text-align: right;\">\n",
       "      <th></th>\n",
       "      <th>level_0</th>\n",
       "      <th>Date</th>\n",
       "      <th>Label</th>\n",
       "      <th>Preprocessed News Text</th>\n",
       "    </tr>\n",
       "  </thead>\n",
       "  <tbody>\n",
       "    <tr>\n",
       "      <th>0</th>\n",
       "      <td>0</td>\n",
       "      <td>2016-07-01</td>\n",
       "      <td>1</td>\n",
       "      <td>woman mexico citi final receiv birth certif di...</td>\n",
       "    </tr>\n",
       "    <tr>\n",
       "      <th>1</th>\n",
       "      <td>1</td>\n",
       "      <td>2016-06-30</td>\n",
       "      <td>1</td>\n",
       "      <td>jamaica propos marijuana dispens tourist airpo...</td>\n",
       "    </tr>\n",
       "    <tr>\n",
       "      <th>2</th>\n",
       "      <td>2</td>\n",
       "      <td>2016-06-29</td>\n",
       "      <td>1</td>\n",
       "      <td>explos airport istanbul yemeni former presid t...</td>\n",
       "    </tr>\n",
       "    <tr>\n",
       "      <th>3</th>\n",
       "      <td>3</td>\n",
       "      <td>2016-06-28</td>\n",
       "      <td>1</td>\n",
       "      <td>scientist australia want save great barrier re...</td>\n",
       "    </tr>\n",
       "    <tr>\n",
       "      <th>4</th>\n",
       "      <td>4</td>\n",
       "      <td>2016-06-27</td>\n",
       "      <td>0</td>\n",
       "      <td>barclay share suspend trade tank pope say chur...</td>\n",
       "    </tr>\n",
       "    <tr>\n",
       "      <th>5</th>\n",
       "      <td>5</td>\n",
       "      <td>2016-06-24</td>\n",
       "      <td>0</td>\n",
       "      <td>david cameron resign referendum forecast vote ...</td>\n",
       "    </tr>\n",
       "    <tr>\n",
       "      <th>6</th>\n",
       "      <td>6</td>\n",
       "      <td>2016-06-23</td>\n",
       "      <td>1</td>\n",
       "      <td>today unit kingdom decid whether remain europe...</td>\n",
       "    </tr>\n",
       "    <tr>\n",
       "      <th>7</th>\n",
       "      <td>7</td>\n",
       "      <td>2016-06-22</td>\n",
       "      <td>0</td>\n",
       "      <td>german govern agre frack indefinit teenag recr...</td>\n",
       "    </tr>\n",
       "    <tr>\n",
       "      <th>8</th>\n",
       "      <td>8</td>\n",
       "      <td>2016-06-21</td>\n",
       "      <td>1</td>\n",
       "      <td>australian athlet compet paralymp game rob gun...</td>\n",
       "    </tr>\n",
       "    <tr>\n",
       "      <th>9</th>\n",
       "      <td>9</td>\n",
       "      <td>2016-06-20</td>\n",
       "      <td>1</td>\n",
       "      <td>stagger percent venezuelan money enough food c...</td>\n",
       "    </tr>\n",
       "  </tbody>\n",
       "</table>\n",
       "</div>"
      ],
      "text/plain": [
       "   level_0        Date  Label  \\\n",
       "0        0  2016-07-01      1   \n",
       "1        1  2016-06-30      1   \n",
       "2        2  2016-06-29      1   \n",
       "3        3  2016-06-28      1   \n",
       "4        4  2016-06-27      0   \n",
       "5        5  2016-06-24      0   \n",
       "6        6  2016-06-23      1   \n",
       "7        7  2016-06-22      0   \n",
       "8        8  2016-06-21      1   \n",
       "9        9  2016-06-20      1   \n",
       "\n",
       "                              Preprocessed News Text  \n",
       "0  woman mexico citi final receiv birth certif di...  \n",
       "1  jamaica propos marijuana dispens tourist airpo...  \n",
       "2  explos airport istanbul yemeni former presid t...  \n",
       "3  scientist australia want save great barrier re...  \n",
       "4  barclay share suspend trade tank pope say chur...  \n",
       "5  david cameron resign referendum forecast vote ...  \n",
       "6  today unit kingdom decid whether remain europe...  \n",
       "7  german govern agre frack indefinit teenag recr...  \n",
       "8  australian athlet compet paralymp game rob gun...  \n",
       "9  stagger percent venezuelan money enough food c...  "
      ]
     },
     "execution_count": 249,
     "metadata": {},
     "output_type": "execute_result"
    }
   ],
   "source": [
    "final_dataset_text.head(10)"
   ]
  },
  {
   "cell_type": "code",
   "execution_count": 250,
   "metadata": {},
   "outputs": [],
   "source": [
    "def subjectivity_score(news):\n",
    "    return TextBlob(news).sentiment.subjectivity\n",
    "\n",
    "def polarity_score(news):\n",
    "    return TextBlob(news).sentiment.polarity\n",
    "\n",
    "final_dataset_text[\"Subjectivity\"] = final_dataset_text[\"Preprocessed News Text\"].apply(subjectivity_score)\n",
    "final_dataset_text[\"Polarity\"] = final_dataset_text[\"Preprocessed News Text\"].apply(polarity_score)"
   ]
  },
  {
   "cell_type": "code",
   "execution_count": 251,
   "metadata": {},
   "outputs": [
    {
     "data": {
      "text/html": [
       "<div>\n",
       "<style scoped>\n",
       "    .dataframe tbody tr th:only-of-type {\n",
       "        vertical-align: middle;\n",
       "    }\n",
       "\n",
       "    .dataframe tbody tr th {\n",
       "        vertical-align: top;\n",
       "    }\n",
       "\n",
       "    .dataframe thead th {\n",
       "        text-align: right;\n",
       "    }\n",
       "</style>\n",
       "<table border=\"1\" class=\"dataframe\">\n",
       "  <thead>\n",
       "    <tr style=\"text-align: right;\">\n",
       "      <th></th>\n",
       "      <th>level_0</th>\n",
       "      <th>Date</th>\n",
       "      <th>Label</th>\n",
       "      <th>Preprocessed News Text</th>\n",
       "      <th>Subjectivity</th>\n",
       "      <th>Polarity</th>\n",
       "    </tr>\n",
       "  </thead>\n",
       "  <tbody>\n",
       "    <tr>\n",
       "      <th>1909</th>\n",
       "      <td>1909</td>\n",
       "      <td>2008-12-01</td>\n",
       "      <td>0</td>\n",
       "      <td>bthe make offenc punish year imprison publish ...</td>\n",
       "      <td>0.750000</td>\n",
       "      <td>0.109524</td>\n",
       "    </tr>\n",
       "    <tr>\n",
       "      <th>1924</th>\n",
       "      <td>1924</td>\n",
       "      <td>2008-11-07</td>\n",
       "      <td>1</td>\n",
       "      <td>judg ask media whether releas guantanamo tortu...</td>\n",
       "      <td>0.696984</td>\n",
       "      <td>-0.005450</td>\n",
       "    </tr>\n",
       "    <tr>\n",
       "      <th>1238</th>\n",
       "      <td>1238</td>\n",
       "      <td>2011-08-01</td>\n",
       "      <td>0</td>\n",
       "      <td>murdoch news intern order tech firm massdelet ...</td>\n",
       "      <td>0.627778</td>\n",
       "      <td>-0.252083</td>\n",
       "    </tr>\n",
       "    <tr>\n",
       "      <th>1774</th>\n",
       "      <td>1774</td>\n",
       "      <td>2009-06-16</td>\n",
       "      <td>0</td>\n",
       "      <td>byall femin patriot iranian woman million prot...</td>\n",
       "      <td>0.605556</td>\n",
       "      <td>-0.167187</td>\n",
       "    </tr>\n",
       "    <tr>\n",
       "      <th>1986</th>\n",
       "      <td>1986</td>\n",
       "      <td>2008-08-12</td>\n",
       "      <td>0</td>\n",
       "      <td>brememb ador sang open ceremoni fake brussia e...</td>\n",
       "      <td>0.600140</td>\n",
       "      <td>-0.214076</td>\n",
       "    </tr>\n",
       "    <tr>\n",
       "      <th>1644</th>\n",
       "      <td>1644</td>\n",
       "      <td>2009-12-18</td>\n",
       "      <td>1</td>\n",
       "      <td>bpragu tower world largest spheric rnpanorama ...</td>\n",
       "      <td>0.590196</td>\n",
       "      <td>-0.031194</td>\n",
       "    </tr>\n",
       "    <tr>\n",
       "      <th>1933</th>\n",
       "      <td>1933</td>\n",
       "      <td>2008-10-27</td>\n",
       "      <td>0</td>\n",
       "      <td>bbbc rampant evid georgia commit crime conflic...</td>\n",
       "      <td>0.579630</td>\n",
       "      <td>-0.150463</td>\n",
       "    </tr>\n",
       "    <tr>\n",
       "      <th>1336</th>\n",
       "      <td>1336</td>\n",
       "      <td>2011-03-11</td>\n",
       "      <td>1</td>\n",
       "      <td>massiv earthquak northeastern japan someon pos...</td>\n",
       "      <td>0.573611</td>\n",
       "      <td>0.290278</td>\n",
       "    </tr>\n",
       "    <tr>\n",
       "      <th>324</th>\n",
       "      <td>324</td>\n",
       "      <td>2015-03-20</td>\n",
       "      <td>1</td>\n",
       "      <td>franc decre rooftop must cover plant solar pan...</td>\n",
       "      <td>0.566821</td>\n",
       "      <td>0.042675</td>\n",
       "    </tr>\n",
       "    <tr>\n",
       "      <th>738</th>\n",
       "      <td>738</td>\n",
       "      <td>2013-07-29</td>\n",
       "      <td>0</td>\n",
       "      <td>saudi princ defect royal famili regim saudi ar...</td>\n",
       "      <td>0.561458</td>\n",
       "      <td>-0.052083</td>\n",
       "    </tr>\n",
       "  </tbody>\n",
       "</table>\n",
       "</div>"
      ],
      "text/plain": [
       "      level_0        Date  Label  \\\n",
       "1909     1909  2008-12-01      0   \n",
       "1924     1924  2008-11-07      1   \n",
       "1238     1238  2011-08-01      0   \n",
       "1774     1774  2009-06-16      0   \n",
       "1986     1986  2008-08-12      0   \n",
       "1644     1644  2009-12-18      1   \n",
       "1933     1933  2008-10-27      0   \n",
       "1336     1336  2011-03-11      1   \n",
       "324       324  2015-03-20      1   \n",
       "738       738  2013-07-29      0   \n",
       "\n",
       "                                 Preprocessed News Text  Subjectivity  \\\n",
       "1909  bthe make offenc punish year imprison publish ...      0.750000   \n",
       "1924  judg ask media whether releas guantanamo tortu...      0.696984   \n",
       "1238  murdoch news intern order tech firm massdelet ...      0.627778   \n",
       "1774  byall femin patriot iranian woman million prot...      0.605556   \n",
       "1986  brememb ador sang open ceremoni fake brussia e...      0.600140   \n",
       "1644  bpragu tower world largest spheric rnpanorama ...      0.590196   \n",
       "1933  bbbc rampant evid georgia commit crime conflic...      0.579630   \n",
       "1336  massiv earthquak northeastern japan someon pos...      0.573611   \n",
       "324   franc decre rooftop must cover plant solar pan...      0.566821   \n",
       "738   saudi princ defect royal famili regim saudi ar...      0.561458   \n",
       "\n",
       "      Polarity  \n",
       "1909  0.109524  \n",
       "1924 -0.005450  \n",
       "1238 -0.252083  \n",
       "1774 -0.167187  \n",
       "1986 -0.214076  \n",
       "1644 -0.031194  \n",
       "1933 -0.150463  \n",
       "1336  0.290278  \n",
       "324   0.042675  \n",
       "738  -0.052083  "
      ]
     },
     "execution_count": 251,
     "metadata": {},
     "output_type": "execute_result"
    }
   ],
   "source": [
    "final_dataset_text.sort_values(by=\"Subjectivity\", ascending=False).head(10)"
   ]
  },
  {
   "cell_type": "code",
   "execution_count": 252,
   "metadata": {},
   "outputs": [
    {
     "data": {
      "text/html": [
       "<div>\n",
       "<style scoped>\n",
       "    .dataframe tbody tr th:only-of-type {\n",
       "        vertical-align: middle;\n",
       "    }\n",
       "\n",
       "    .dataframe tbody tr th {\n",
       "        vertical-align: top;\n",
       "    }\n",
       "\n",
       "    .dataframe thead th {\n",
       "        text-align: right;\n",
       "    }\n",
       "</style>\n",
       "<table border=\"1\" class=\"dataframe\">\n",
       "  <thead>\n",
       "    <tr style=\"text-align: right;\">\n",
       "      <th></th>\n",
       "      <th>level_0</th>\n",
       "      <th>Date</th>\n",
       "      <th>Label</th>\n",
       "      <th>Preprocessed News Text</th>\n",
       "      <th>Subjectivity</th>\n",
       "      <th>Polarity</th>\n",
       "    </tr>\n",
       "  </thead>\n",
       "  <tbody>\n",
       "    <tr>\n",
       "      <th>1555</th>\n",
       "      <td>1555</td>\n",
       "      <td>2010-04-29</td>\n",
       "      <td>1</td>\n",
       "      <td>bchina lost olymp bronz medal gymnast proven u...</td>\n",
       "      <td>0.451282</td>\n",
       "      <td>-0.287179</td>\n",
       "    </tr>\n",
       "    <tr>\n",
       "      <th>1238</th>\n",
       "      <td>1238</td>\n",
       "      <td>2011-08-01</td>\n",
       "      <td>0</td>\n",
       "      <td>murdoch news intern order tech firm massdelet ...</td>\n",
       "      <td>0.627778</td>\n",
       "      <td>-0.252083</td>\n",
       "    </tr>\n",
       "    <tr>\n",
       "      <th>1899</th>\n",
       "      <td>1899</td>\n",
       "      <td>2008-12-15</td>\n",
       "      <td>0</td>\n",
       "      <td>bturk apolog armenian massacr bgreek youth bre...</td>\n",
       "      <td>0.538095</td>\n",
       "      <td>-0.233929</td>\n",
       "    </tr>\n",
       "    <tr>\n",
       "      <th>661</th>\n",
       "      <td>661</td>\n",
       "      <td>2013-11-14</td>\n",
       "      <td>1</td>\n",
       "      <td>indian train strike herd eleph cross track inc...</td>\n",
       "      <td>0.420333</td>\n",
       "      <td>-0.233667</td>\n",
       "    </tr>\n",
       "    <tr>\n",
       "      <th>1957</th>\n",
       "      <td>1957</td>\n",
       "      <td>2008-09-23</td>\n",
       "      <td>0</td>\n",
       "      <td>billion money alloc reconstruct project iraq w...</td>\n",
       "      <td>0.528571</td>\n",
       "      <td>-0.228571</td>\n",
       "    </tr>\n",
       "    <tr>\n",
       "      <th>1986</th>\n",
       "      <td>1986</td>\n",
       "      <td>2008-08-12</td>\n",
       "      <td>0</td>\n",
       "      <td>brememb ador sang open ceremoni fake brussia e...</td>\n",
       "      <td>0.600140</td>\n",
       "      <td>-0.214076</td>\n",
       "    </tr>\n",
       "    <tr>\n",
       "      <th>1779</th>\n",
       "      <td>1779</td>\n",
       "      <td>2009-06-09</td>\n",
       "      <td>0</td>\n",
       "      <td>bwont reddit think bthe puzzl crash franc flig...</td>\n",
       "      <td>0.347194</td>\n",
       "      <td>-0.196854</td>\n",
       "    </tr>\n",
       "    <tr>\n",
       "      <th>1978</th>\n",
       "      <td>1978</td>\n",
       "      <td>2008-08-22</td>\n",
       "      <td>1</td>\n",
       "      <td>bsyria say readi russian missil system soil co...</td>\n",
       "      <td>0.315799</td>\n",
       "      <td>-0.196007</td>\n",
       "    </tr>\n",
       "    <tr>\n",
       "      <th>1894</th>\n",
       "      <td>1894</td>\n",
       "      <td>2008-12-22</td>\n",
       "      <td>0</td>\n",
       "      <td>bman threaten arrest australian antiterror vid...</td>\n",
       "      <td>0.322685</td>\n",
       "      <td>-0.186420</td>\n",
       "    </tr>\n",
       "    <tr>\n",
       "      <th>1893</th>\n",
       "      <td>1893</td>\n",
       "      <td>2008-12-23</td>\n",
       "      <td>0</td>\n",
       "      <td>bamerican express get billion capit get billio...</td>\n",
       "      <td>0.313403</td>\n",
       "      <td>-0.182847</td>\n",
       "    </tr>\n",
       "  </tbody>\n",
       "</table>\n",
       "</div>"
      ],
      "text/plain": [
       "      level_0        Date  Label  \\\n",
       "1555     1555  2010-04-29      1   \n",
       "1238     1238  2011-08-01      0   \n",
       "1899     1899  2008-12-15      0   \n",
       "661       661  2013-11-14      1   \n",
       "1957     1957  2008-09-23      0   \n",
       "1986     1986  2008-08-12      0   \n",
       "1779     1779  2009-06-09      0   \n",
       "1978     1978  2008-08-22      1   \n",
       "1894     1894  2008-12-22      0   \n",
       "1893     1893  2008-12-23      0   \n",
       "\n",
       "                                 Preprocessed News Text  Subjectivity  \\\n",
       "1555  bchina lost olymp bronz medal gymnast proven u...      0.451282   \n",
       "1238  murdoch news intern order tech firm massdelet ...      0.627778   \n",
       "1899  bturk apolog armenian massacr bgreek youth bre...      0.538095   \n",
       "661   indian train strike herd eleph cross track inc...      0.420333   \n",
       "1957  billion money alloc reconstruct project iraq w...      0.528571   \n",
       "1986  brememb ador sang open ceremoni fake brussia e...      0.600140   \n",
       "1779  bwont reddit think bthe puzzl crash franc flig...      0.347194   \n",
       "1978  bsyria say readi russian missil system soil co...      0.315799   \n",
       "1894  bman threaten arrest australian antiterror vid...      0.322685   \n",
       "1893  bamerican express get billion capit get billio...      0.313403   \n",
       "\n",
       "      Polarity  \n",
       "1555 -0.287179  \n",
       "1238 -0.252083  \n",
       "1899 -0.233929  \n",
       "661  -0.233667  \n",
       "1957 -0.228571  \n",
       "1986 -0.214076  \n",
       "1779 -0.196854  \n",
       "1978 -0.196007  \n",
       "1894 -0.186420  \n",
       "1893 -0.182847  "
      ]
     },
     "execution_count": 252,
     "metadata": {},
     "output_type": "execute_result"
    }
   ],
   "source": [
    "final_dataset_text.sort_values(by=\"Polarity\", ascending=True).head(10)"
   ]
  },
  {
   "attachments": {},
   "cell_type": "markdown",
   "metadata": {},
   "source": [
    "By organizing the data in ascending order with respect to Polarity, it is possible to see in the first 10 data a relationship between Subjectivity, Polarity and the Label, which is our value of interest. \n",
    "\n",
    "As evidenced above, when the Polarity score is negative, that is, it tends to be negative news, and the Subjectivity value is close to 0.5 or higher, which means that the news tends to be subjective, the stock price had a decrease. This analysis is done a priori of the model to show that a logical relationship between the variables exists and therefore, we can have good results with the prediction model."
   ]
  },
  {
   "attachments": {},
   "cell_type": "markdown",
   "metadata": {},
   "source": [
    "#### 3.3.2 Sentiment Analysis using VADER"
   ]
  },
  {
   "attachments": {},
   "cell_type": "markdown",
   "metadata": {},
   "source": [
    "`SentimentIntensityAnalyzer` is an object and `polarity_scores` is a method that returns the following scores:\n",
    "- Positive\n",
    "- Negative\n",
    "- Neutral\n",
    "- Compound\n",
    "\n",
    "Compound score refers to the sum of positive, negative and neutral scores which is going to be between -1 and 1, -1 to extreme negative and 1 to extreme positive."
   ]
  },
  {
   "cell_type": "code",
   "execution_count": 255,
   "metadata": {},
   "outputs": [],
   "source": [
    "def sentiment_score(news):\n",
    "    sentiment_fun= SentimentIntensityAnalyzer()\n",
    "    sentiment_value = sentiment_fun.polarity_scores(news)\n",
    "    return sentiment_value \n",
    "\n",
    "#Creating lists to save each score\n",
    "positive = []\n",
    "negative = []\n",
    "neutral = []\n",
    "compound = []\n",
    "\n",
    "#Applying the funcion to the news.\n",
    "for news in range (0, len(final_dataset_text[\"Preprocessed News Text\"])):\n",
    "    sentiment_analysis = sentiment_score(final_dataset_text[\"Preprocessed News Text\"][news])\n",
    "    positive.append(sentiment_analysis['pos'])\n",
    "    negative.append(sentiment_analysis['neg'])\n",
    "    neutral.append(sentiment_analysis['neu'])\n",
    "    compound.append(sentiment_analysis['compound'])"
   ]
  },
  {
   "cell_type": "code",
   "execution_count": 256,
   "metadata": {},
   "outputs": [],
   "source": [
    "final_dataset_text['Positive'] = positive\n",
    "final_dataset_text['Negative'] = negative\n",
    "final_dataset_text['Neutral'] = neutral\n",
    "final_dataset_text['Compound'] = compound"
   ]
  },
  {
   "cell_type": "code",
   "execution_count": 257,
   "metadata": {},
   "outputs": [
    {
     "data": {
      "text/html": [
       "<div>\n",
       "<style scoped>\n",
       "    .dataframe tbody tr th:only-of-type {\n",
       "        vertical-align: middle;\n",
       "    }\n",
       "\n",
       "    .dataframe tbody tr th {\n",
       "        vertical-align: top;\n",
       "    }\n",
       "\n",
       "    .dataframe thead th {\n",
       "        text-align: right;\n",
       "    }\n",
       "</style>\n",
       "<table border=\"1\" class=\"dataframe\">\n",
       "  <thead>\n",
       "    <tr style=\"text-align: right;\">\n",
       "      <th></th>\n",
       "      <th>level_0</th>\n",
       "      <th>Date</th>\n",
       "      <th>Label</th>\n",
       "      <th>Preprocessed News Text</th>\n",
       "      <th>Subjectivity</th>\n",
       "      <th>Polarity</th>\n",
       "      <th>Positive</th>\n",
       "      <th>Negative</th>\n",
       "      <th>Neutral</th>\n",
       "      <th>Compound</th>\n",
       "    </tr>\n",
       "  </thead>\n",
       "  <tbody>\n",
       "    <tr>\n",
       "      <th>1262</th>\n",
       "      <td>1262</td>\n",
       "      <td>2011-06-27</td>\n",
       "      <td>1</td>\n",
       "      <td>video smuggl north korea children beg armi sta...</td>\n",
       "      <td>0.278611</td>\n",
       "      <td>-0.005833</td>\n",
       "      <td>0.097</td>\n",
       "      <td>0.076</td>\n",
       "      <td>0.828</td>\n",
       "      <td>0.7971</td>\n",
       "    </tr>\n",
       "    <tr>\n",
       "      <th>1974</th>\n",
       "      <td>1974</td>\n",
       "      <td>2008-08-28</td>\n",
       "      <td>1</td>\n",
       "      <td>bmilitari help georgia declar say moscow bwest...</td>\n",
       "      <td>0.169271</td>\n",
       "      <td>0.010938</td>\n",
       "      <td>0.139</td>\n",
       "      <td>0.106</td>\n",
       "      <td>0.755</td>\n",
       "      <td>0.7906</td>\n",
       "    </tr>\n",
       "    <tr>\n",
       "      <th>1203</th>\n",
       "      <td>1203</td>\n",
       "      <td>2011-09-20</td>\n",
       "      <td>1</td>\n",
       "      <td>itali propos peopl internet base singl accus i...</td>\n",
       "      <td>0.413333</td>\n",
       "      <td>0.028333</td>\n",
       "      <td>0.111</td>\n",
       "      <td>0.092</td>\n",
       "      <td>0.797</td>\n",
       "      <td>0.7757</td>\n",
       "    </tr>\n",
       "    <tr>\n",
       "      <th>410</th>\n",
       "      <td>410</td>\n",
       "      <td>2014-11-13</td>\n",
       "      <td>1</td>\n",
       "      <td>european robot probe phila made first histor l...</td>\n",
       "      <td>0.358506</td>\n",
       "      <td>0.032299</td>\n",
       "      <td>0.104</td>\n",
       "      <td>0.077</td>\n",
       "      <td>0.820</td>\n",
       "      <td>0.7579</td>\n",
       "    </tr>\n",
       "    <tr>\n",
       "      <th>749</th>\n",
       "      <td>749</td>\n",
       "      <td>2013-07-12</td>\n",
       "      <td>1</td>\n",
       "      <td>canadian dollar prize first human power helico...</td>\n",
       "      <td>0.335073</td>\n",
       "      <td>0.115959</td>\n",
       "      <td>0.123</td>\n",
       "      <td>0.109</td>\n",
       "      <td>0.768</td>\n",
       "      <td>0.7176</td>\n",
       "    </tr>\n",
       "    <tr>\n",
       "      <th>...</th>\n",
       "      <td>...</td>\n",
       "      <td>...</td>\n",
       "      <td>...</td>\n",
       "      <td>...</td>\n",
       "      <td>...</td>\n",
       "      <td>...</td>\n",
       "      <td>...</td>\n",
       "      <td>...</td>\n",
       "      <td>...</td>\n",
       "      <td>...</td>\n",
       "    </tr>\n",
       "    <tr>\n",
       "      <th>1528</th>\n",
       "      <td>1528</td>\n",
       "      <td>2010-06-08</td>\n",
       "      <td>1</td>\n",
       "      <td>breuter fire remov weapon blood imag gaza flot...</td>\n",
       "      <td>0.340263</td>\n",
       "      <td>-0.043991</td>\n",
       "      <td>0.025</td>\n",
       "      <td>0.286</td>\n",
       "      <td>0.690</td>\n",
       "      <td>-0.9984</td>\n",
       "    </tr>\n",
       "    <tr>\n",
       "      <th>373</th>\n",
       "      <td>373</td>\n",
       "      <td>2015-01-08</td>\n",
       "      <td>1</td>\n",
       "      <td>charli hebdo issu come next week hard suffer g...</td>\n",
       "      <td>0.281522</td>\n",
       "      <td>-0.088406</td>\n",
       "      <td>0.042</td>\n",
       "      <td>0.322</td>\n",
       "      <td>0.636</td>\n",
       "      <td>-0.9984</td>\n",
       "    </tr>\n",
       "    <tr>\n",
       "      <th>989</th>\n",
       "      <td>989</td>\n",
       "      <td>2012-07-26</td>\n",
       "      <td>1</td>\n",
       "      <td>french presid francoi holland call percent inc...</td>\n",
       "      <td>0.280000</td>\n",
       "      <td>-0.034167</td>\n",
       "      <td>0.061</td>\n",
       "      <td>0.301</td>\n",
       "      <td>0.638</td>\n",
       "      <td>-0.9984</td>\n",
       "    </tr>\n",
       "    <tr>\n",
       "      <th>1761</th>\n",
       "      <td>1761</td>\n",
       "      <td>2009-07-06</td>\n",
       "      <td>1</td>\n",
       "      <td>buganda outlaw femal circumcis bbreak news kil...</td>\n",
       "      <td>0.317778</td>\n",
       "      <td>-0.108687</td>\n",
       "      <td>0.020</td>\n",
       "      <td>0.378</td>\n",
       "      <td>0.601</td>\n",
       "      <td>-0.9985</td>\n",
       "    </tr>\n",
       "    <tr>\n",
       "      <th>888</th>\n",
       "      <td>888</td>\n",
       "      <td>2012-12-20</td>\n",
       "      <td>1</td>\n",
       "      <td>thiev arrest steal million pound mapl syrup ca...</td>\n",
       "      <td>0.326058</td>\n",
       "      <td>-0.070887</td>\n",
       "      <td>0.030</td>\n",
       "      <td>0.294</td>\n",
       "      <td>0.676</td>\n",
       "      <td>-0.9986</td>\n",
       "    </tr>\n",
       "  </tbody>\n",
       "</table>\n",
       "<p>1067 rows × 10 columns</p>\n",
       "</div>"
      ],
      "text/plain": [
       "      level_0        Date  Label  \\\n",
       "1262     1262  2011-06-27      1   \n",
       "1974     1974  2008-08-28      1   \n",
       "1203     1203  2011-09-20      1   \n",
       "410       410  2014-11-13      1   \n",
       "749       749  2013-07-12      1   \n",
       "...       ...         ...    ...   \n",
       "1528     1528  2010-06-08      1   \n",
       "373       373  2015-01-08      1   \n",
       "989       989  2012-07-26      1   \n",
       "1761     1761  2009-07-06      1   \n",
       "888       888  2012-12-20      1   \n",
       "\n",
       "                                 Preprocessed News Text  Subjectivity  \\\n",
       "1262  video smuggl north korea children beg armi sta...      0.278611   \n",
       "1974  bmilitari help georgia declar say moscow bwest...      0.169271   \n",
       "1203  itali propos peopl internet base singl accus i...      0.413333   \n",
       "410   european robot probe phila made first histor l...      0.358506   \n",
       "749   canadian dollar prize first human power helico...      0.335073   \n",
       "...                                                 ...           ...   \n",
       "1528  breuter fire remov weapon blood imag gaza flot...      0.340263   \n",
       "373   charli hebdo issu come next week hard suffer g...      0.281522   \n",
       "989   french presid francoi holland call percent inc...      0.280000   \n",
       "1761  buganda outlaw femal circumcis bbreak news kil...      0.317778   \n",
       "888   thiev arrest steal million pound mapl syrup ca...      0.326058   \n",
       "\n",
       "      Polarity  Positive  Negative  Neutral  Compound  \n",
       "1262 -0.005833     0.097     0.076    0.828    0.7971  \n",
       "1974  0.010938     0.139     0.106    0.755    0.7906  \n",
       "1203  0.028333     0.111     0.092    0.797    0.7757  \n",
       "410   0.032299     0.104     0.077    0.820    0.7579  \n",
       "749   0.115959     0.123     0.109    0.768    0.7176  \n",
       "...        ...       ...       ...      ...       ...  \n",
       "1528 -0.043991     0.025     0.286    0.690   -0.9984  \n",
       "373  -0.088406     0.042     0.322    0.636   -0.9984  \n",
       "989  -0.034167     0.061     0.301    0.638   -0.9984  \n",
       "1761 -0.108687     0.020     0.378    0.601   -0.9985  \n",
       "888  -0.070887     0.030     0.294    0.676   -0.9986  \n",
       "\n",
       "[1067 rows x 10 columns]"
      ]
     },
     "execution_count": 257,
     "metadata": {},
     "output_type": "execute_result"
    }
   ],
   "source": [
    "final_dataset_text.loc[final_dataset_text['Label']==1].sort_values(by=\"Compound\", ascending=False)"
   ]
  },
  {
   "cell_type": "code",
   "execution_count": 258,
   "metadata": {},
   "outputs": [
    {
     "data": {
      "text/html": [
       "<div>\n",
       "<style scoped>\n",
       "    .dataframe tbody tr th:only-of-type {\n",
       "        vertical-align: middle;\n",
       "    }\n",
       "\n",
       "    .dataframe tbody tr th {\n",
       "        vertical-align: top;\n",
       "    }\n",
       "\n",
       "    .dataframe thead th {\n",
       "        text-align: right;\n",
       "    }\n",
       "</style>\n",
       "<table border=\"1\" class=\"dataframe\">\n",
       "  <thead>\n",
       "    <tr style=\"text-align: right;\">\n",
       "      <th></th>\n",
       "      <th>level_0</th>\n",
       "      <th>Date</th>\n",
       "      <th>Label</th>\n",
       "      <th>Preprocessed News Text</th>\n",
       "      <th>Subjectivity</th>\n",
       "      <th>Polarity</th>\n",
       "      <th>Positive</th>\n",
       "      <th>Negative</th>\n",
       "      <th>Neutral</th>\n",
       "      <th>Compound</th>\n",
       "    </tr>\n",
       "  </thead>\n",
       "  <tbody>\n",
       "    <tr>\n",
       "      <th>1686</th>\n",
       "      <td>1686</td>\n",
       "      <td>2009-10-20</td>\n",
       "      <td>0</td>\n",
       "      <td>blegal lobbi grow mexico latin american countr...</td>\n",
       "      <td>0.419048</td>\n",
       "      <td>0.108874</td>\n",
       "      <td>0.172</td>\n",
       "      <td>0.100</td>\n",
       "      <td>0.729</td>\n",
       "      <td>0.9493</td>\n",
       "    </tr>\n",
       "    <tr>\n",
       "      <th>1408</th>\n",
       "      <td>1408</td>\n",
       "      <td>2010-11-26</td>\n",
       "      <td>0</td>\n",
       "      <td>didnt understand quit thing becom countri arm ...</td>\n",
       "      <td>0.408986</td>\n",
       "      <td>0.163248</td>\n",
       "      <td>0.152</td>\n",
       "      <td>0.110</td>\n",
       "      <td>0.738</td>\n",
       "      <td>0.9140</td>\n",
       "    </tr>\n",
       "    <tr>\n",
       "      <th>421</th>\n",
       "      <td>421</td>\n",
       "      <td>2014-10-29</td>\n",
       "      <td>0</td>\n",
       "      <td>time nation urg embargo cuba scientist discov ...</td>\n",
       "      <td>0.412952</td>\n",
       "      <td>0.127121</td>\n",
       "      <td>0.123</td>\n",
       "      <td>0.098</td>\n",
       "      <td>0.779</td>\n",
       "      <td>0.9001</td>\n",
       "    </tr>\n",
       "    <tr>\n",
       "      <th>325</th>\n",
       "      <td>325</td>\n",
       "      <td>2015-03-19</td>\n",
       "      <td>0</td>\n",
       "      <td>alzheim treatment fulli restor memori function...</td>\n",
       "      <td>0.271325</td>\n",
       "      <td>0.126734</td>\n",
       "      <td>0.109</td>\n",
       "      <td>0.077</td>\n",
       "      <td>0.815</td>\n",
       "      <td>0.8074</td>\n",
       "    </tr>\n",
       "    <tr>\n",
       "      <th>430</th>\n",
       "      <td>430</td>\n",
       "      <td>2014-10-16</td>\n",
       "      <td>0</td>\n",
       "      <td>wind blow away fossil power nordic baltic next...</td>\n",
       "      <td>0.350784</td>\n",
       "      <td>-0.050784</td>\n",
       "      <td>0.120</td>\n",
       "      <td>0.093</td>\n",
       "      <td>0.787</td>\n",
       "      <td>0.8023</td>\n",
       "    </tr>\n",
       "    <tr>\n",
       "      <th>...</th>\n",
       "      <td>...</td>\n",
       "      <td>...</td>\n",
       "      <td>...</td>\n",
       "      <td>...</td>\n",
       "      <td>...</td>\n",
       "      <td>...</td>\n",
       "      <td>...</td>\n",
       "      <td>...</td>\n",
       "      <td>...</td>\n",
       "      <td>...</td>\n",
       "    </tr>\n",
       "    <tr>\n",
       "      <th>71</th>\n",
       "      <td>71</td>\n",
       "      <td>2016-03-22</td>\n",
       "      <td>0</td>\n",
       "      <td>intern crimin court recognis rape crime former...</td>\n",
       "      <td>0.377833</td>\n",
       "      <td>0.142245</td>\n",
       "      <td>0.052</td>\n",
       "      <td>0.345</td>\n",
       "      <td>0.603</td>\n",
       "      <td>-0.9982</td>\n",
       "    </tr>\n",
       "    <tr>\n",
       "      <th>1238</th>\n",
       "      <td>1238</td>\n",
       "      <td>2011-08-01</td>\n",
       "      <td>0</td>\n",
       "      <td>murdoch news intern order tech firm massdelet ...</td>\n",
       "      <td>0.627778</td>\n",
       "      <td>-0.252083</td>\n",
       "      <td>0.045</td>\n",
       "      <td>0.329</td>\n",
       "      <td>0.627</td>\n",
       "      <td>-0.9983</td>\n",
       "    </tr>\n",
       "    <tr>\n",
       "      <th>964</th>\n",
       "      <td>964</td>\n",
       "      <td>2012-08-30</td>\n",
       "      <td>0</td>\n",
       "      <td>south african miner arrest protest charg murde...</td>\n",
       "      <td>0.292857</td>\n",
       "      <td>-0.047024</td>\n",
       "      <td>0.065</td>\n",
       "      <td>0.300</td>\n",
       "      <td>0.635</td>\n",
       "      <td>-0.9984</td>\n",
       "    </tr>\n",
       "    <tr>\n",
       "      <th>622</th>\n",
       "      <td>622</td>\n",
       "      <td>2014-01-13</td>\n",
       "      <td>0</td>\n",
       "      <td>broad coalit wellknown organ reddit electron f...</td>\n",
       "      <td>0.298106</td>\n",
       "      <td>0.044571</td>\n",
       "      <td>0.077</td>\n",
       "      <td>0.309</td>\n",
       "      <td>0.614</td>\n",
       "      <td>-0.9985</td>\n",
       "    </tr>\n",
       "    <tr>\n",
       "      <th>1286</th>\n",
       "      <td>1286</td>\n",
       "      <td>2011-05-23</td>\n",
       "      <td>0</td>\n",
       "      <td>egypt sentenc polic offic death kill protest d...</td>\n",
       "      <td>0.391518</td>\n",
       "      <td>-0.147619</td>\n",
       "      <td>0.042</td>\n",
       "      <td>0.329</td>\n",
       "      <td>0.629</td>\n",
       "      <td>-0.9987</td>\n",
       "    </tr>\n",
       "  </tbody>\n",
       "</table>\n",
       "<p>922 rows × 10 columns</p>\n",
       "</div>"
      ],
      "text/plain": [
       "      level_0        Date  Label  \\\n",
       "1686     1686  2009-10-20      0   \n",
       "1408     1408  2010-11-26      0   \n",
       "421       421  2014-10-29      0   \n",
       "325       325  2015-03-19      0   \n",
       "430       430  2014-10-16      0   \n",
       "...       ...         ...    ...   \n",
       "71         71  2016-03-22      0   \n",
       "1238     1238  2011-08-01      0   \n",
       "964       964  2012-08-30      0   \n",
       "622       622  2014-01-13      0   \n",
       "1286     1286  2011-05-23      0   \n",
       "\n",
       "                                 Preprocessed News Text  Subjectivity  \\\n",
       "1686  blegal lobbi grow mexico latin american countr...      0.419048   \n",
       "1408  didnt understand quit thing becom countri arm ...      0.408986   \n",
       "421   time nation urg embargo cuba scientist discov ...      0.412952   \n",
       "325   alzheim treatment fulli restor memori function...      0.271325   \n",
       "430   wind blow away fossil power nordic baltic next...      0.350784   \n",
       "...                                                 ...           ...   \n",
       "71    intern crimin court recognis rape crime former...      0.377833   \n",
       "1238  murdoch news intern order tech firm massdelet ...      0.627778   \n",
       "964   south african miner arrest protest charg murde...      0.292857   \n",
       "622   broad coalit wellknown organ reddit electron f...      0.298106   \n",
       "1286  egypt sentenc polic offic death kill protest d...      0.391518   \n",
       "\n",
       "      Polarity  Positive  Negative  Neutral  Compound  \n",
       "1686  0.108874     0.172     0.100    0.729    0.9493  \n",
       "1408  0.163248     0.152     0.110    0.738    0.9140  \n",
       "421   0.127121     0.123     0.098    0.779    0.9001  \n",
       "325   0.126734     0.109     0.077    0.815    0.8074  \n",
       "430  -0.050784     0.120     0.093    0.787    0.8023  \n",
       "...        ...       ...       ...      ...       ...  \n",
       "71    0.142245     0.052     0.345    0.603   -0.9982  \n",
       "1238 -0.252083     0.045     0.329    0.627   -0.9983  \n",
       "964  -0.047024     0.065     0.300    0.635   -0.9984  \n",
       "622   0.044571     0.077     0.309    0.614   -0.9985  \n",
       "1286 -0.147619     0.042     0.329    0.629   -0.9987  \n",
       "\n",
       "[922 rows x 10 columns]"
      ]
     },
     "execution_count": 258,
     "metadata": {},
     "output_type": "execute_result"
    }
   ],
   "source": [
    "final_dataset_text.loc[final_dataset_text['Label']==0].sort_values(by=\"Compound\", ascending=False)"
   ]
  },
  {
   "cell_type": "markdown",
   "metadata": {},
   "source": [
    "As expected, in a general view, when the polarity values ​​are negative, the Compound values ​​are also negative indicating that it is bad news and vice versa.\n",
    "\n",
    "Finally, we save the relevant features of the DataFrame"
   ]
  },
  {
   "cell_type": "code",
   "execution_count": 260,
   "metadata": {},
   "outputs": [
    {
     "data": {
      "text/html": [
       "<div>\n",
       "<style scoped>\n",
       "    .dataframe tbody tr th:only-of-type {\n",
       "        vertical-align: middle;\n",
       "    }\n",
       "\n",
       "    .dataframe tbody tr th {\n",
       "        vertical-align: top;\n",
       "    }\n",
       "\n",
       "    .dataframe thead th {\n",
       "        text-align: right;\n",
       "    }\n",
       "</style>\n",
       "<table border=\"1\" class=\"dataframe\">\n",
       "  <thead>\n",
       "    <tr style=\"text-align: right;\">\n",
       "      <th></th>\n",
       "      <th>Label</th>\n",
       "      <th>Subjectivity</th>\n",
       "      <th>Polarity</th>\n",
       "      <th>Positive</th>\n",
       "      <th>Negative</th>\n",
       "      <th>Neutral</th>\n",
       "      <th>Compound</th>\n",
       "    </tr>\n",
       "  </thead>\n",
       "  <tbody>\n",
       "    <tr>\n",
       "      <th>0</th>\n",
       "      <td>1</td>\n",
       "      <td>0.315284</td>\n",
       "      <td>0.049693</td>\n",
       "      <td>0.047</td>\n",
       "      <td>0.271</td>\n",
       "      <td>0.681</td>\n",
       "      <td>-0.9981</td>\n",
       "    </tr>\n",
       "    <tr>\n",
       "      <th>1</th>\n",
       "      <td>1</td>\n",
       "      <td>0.381366</td>\n",
       "      <td>-0.048344</td>\n",
       "      <td>0.079</td>\n",
       "      <td>0.251</td>\n",
       "      <td>0.671</td>\n",
       "      <td>-0.9966</td>\n",
       "    </tr>\n",
       "    <tr>\n",
       "      <th>2</th>\n",
       "      <td>1</td>\n",
       "      <td>0.263571</td>\n",
       "      <td>0.142857</td>\n",
       "      <td>0.105</td>\n",
       "      <td>0.169</td>\n",
       "      <td>0.726</td>\n",
       "      <td>-0.9545</td>\n",
       "    </tr>\n",
       "    <tr>\n",
       "      <th>3</th>\n",
       "      <td>1</td>\n",
       "      <td>0.308703</td>\n",
       "      <td>0.038013</td>\n",
       "      <td>0.112</td>\n",
       "      <td>0.108</td>\n",
       "      <td>0.780</td>\n",
       "      <td>0.0516</td>\n",
       "    </tr>\n",
       "    <tr>\n",
       "      <th>4</th>\n",
       "      <td>0</td>\n",
       "      <td>0.214222</td>\n",
       "      <td>-0.028389</td>\n",
       "      <td>0.083</td>\n",
       "      <td>0.152</td>\n",
       "      <td>0.765</td>\n",
       "      <td>-0.9612</td>\n",
       "    </tr>\n",
       "    <tr>\n",
       "      <th>5</th>\n",
       "      <td>0</td>\n",
       "      <td>0.246939</td>\n",
       "      <td>0.056859</td>\n",
       "      <td>0.065</td>\n",
       "      <td>0.109</td>\n",
       "      <td>0.825</td>\n",
       "      <td>-0.8519</td>\n",
       "    </tr>\n",
       "    <tr>\n",
       "      <th>6</th>\n",
       "      <td>1</td>\n",
       "      <td>0.213095</td>\n",
       "      <td>0.028175</td>\n",
       "      <td>0.068</td>\n",
       "      <td>0.182</td>\n",
       "      <td>0.750</td>\n",
       "      <td>-0.9871</td>\n",
       "    </tr>\n",
       "    <tr>\n",
       "      <th>7</th>\n",
       "      <td>0</td>\n",
       "      <td>0.193116</td>\n",
       "      <td>0.016787</td>\n",
       "      <td>0.068</td>\n",
       "      <td>0.128</td>\n",
       "      <td>0.804</td>\n",
       "      <td>-0.9761</td>\n",
       "    </tr>\n",
       "    <tr>\n",
       "      <th>8</th>\n",
       "      <td>1</td>\n",
       "      <td>0.200000</td>\n",
       "      <td>0.004500</td>\n",
       "      <td>0.073</td>\n",
       "      <td>0.245</td>\n",
       "      <td>0.682</td>\n",
       "      <td>-0.9971</td>\n",
       "    </tr>\n",
       "    <tr>\n",
       "      <th>9</th>\n",
       "      <td>1</td>\n",
       "      <td>0.376912</td>\n",
       "      <td>0.099639</td>\n",
       "      <td>0.058</td>\n",
       "      <td>0.252</td>\n",
       "      <td>0.690</td>\n",
       "      <td>-0.9980</td>\n",
       "    </tr>\n",
       "  </tbody>\n",
       "</table>\n",
       "</div>"
      ],
      "text/plain": [
       "   Label  Subjectivity  Polarity  Positive  Negative  Neutral  Compound\n",
       "0      1      0.315284  0.049693     0.047     0.271    0.681   -0.9981\n",
       "1      1      0.381366 -0.048344     0.079     0.251    0.671   -0.9966\n",
       "2      1      0.263571  0.142857     0.105     0.169    0.726   -0.9545\n",
       "3      1      0.308703  0.038013     0.112     0.108    0.780    0.0516\n",
       "4      0      0.214222 -0.028389     0.083     0.152    0.765   -0.9612\n",
       "5      0      0.246939  0.056859     0.065     0.109    0.825   -0.8519\n",
       "6      1      0.213095  0.028175     0.068     0.182    0.750   -0.9871\n",
       "7      0      0.193116  0.016787     0.068     0.128    0.804   -0.9761\n",
       "8      1      0.200000  0.004500     0.073     0.245    0.682   -0.9971\n",
       "9      1      0.376912  0.099639     0.058     0.252    0.690   -0.9980"
      ]
     },
     "execution_count": 260,
     "metadata": {},
     "output_type": "execute_result"
    }
   ],
   "source": [
    "final_dataset_text = final_dataset_text[['Label','Subjectivity','Polarity','Positive','Negative','Neutral','Compound']]\n",
    "final_dataset_text.head(10)"
   ]
  },
  {
   "attachments": {},
   "cell_type": "markdown",
   "metadata": {},
   "source": [
    "##### 3.3.3 Linear discriminant analysis"
   ]
  },
  {
   "attachments": {},
   "cell_type": "markdown",
   "metadata": {},
   "source": [
    "Linear Discriminant Analysis (LDA) is a method from multivariate statistics which principal objective is to find a\n",
    "linear projection of high-dimensional observations into a lower-dimensional space. When your preconditions are met, LDA allows you to define optimal linear decision bounds on the\n",
    "resulting latent space <sup>[4]</sup>.\n",
    "\n",
    "In other words, Linear Discriminant Analysis is a linear classification algorithm, like logistic regression. The algorithm develops a probabilistic model by class based on the distribution of observations for each input variable [5]. \n",
    "\n",
    "In this way, the data is classified by getting the conditional probability of it belonging to each class and the class with the highest probability is chosen. This means that LDA can be considered as an application of the Bayes Theorem for classification. \n",
    "\n",
    "This model assumes that the input variables are numeric, normally distributed and that they have the same variance. Also, it assumes that the input variables are not correlated. Therefore, this model makes strong assumptions about the distribution of each input variable.\n",
    "\n",
    "LDA is naturally multi-class, so it supports two-class classification problems, such as our case of study.\n",
    "\n",
    "Our motivation in selecting this simple model is to analyze the behavior and the results obtained from it after making all the assumptions described above and reinforcing the adjustment of the hyperparameters with PCA (to reduce dimensionality and correlation) and cross validation.\n"
   ]
  },
  {
   "cell_type": "code",
   "execution_count": null,
   "metadata": {},
   "outputs": [],
   "source": [
    "X = final_dataset_text\n",
    "X = np.array(X.drop(['Label'], 1))\n",
    "\n",
    "y = np.array(final_dataset_text['Label'])"
   ]
  },
  {
   "attachments": {},
   "cell_type": "markdown",
   "metadata": {},
   "source": [
    "Standarization of the dataset is a common requirment to for modeling the data. In the case of LDA it is not necessary because LDA results will be the same whether or not the data is standardized. However, it is a good practice to do it in the pre-processing data of a model which assumes that its features have a Gaussian distribution."
   ]
  },
  {
   "cell_type": "code",
   "execution_count": null,
   "metadata": {},
   "outputs": [],
   "source": [
    "x_scaled = StandardScaler().fit_transform(X)"
   ]
  },
  {
   "cell_type": "code",
   "execution_count": 262,
   "metadata": {},
   "outputs": [],
   "source": [
    "#Reducing the number of features to 4 \n",
    "pca = PCA(n_components=4)\n",
    "\n",
    "#Fit the model \n",
    "pca_features = pca.fit_transform(x_scaled)\n",
    " \n",
    "pca_df = pd.DataFrame(\n",
    "    data=pca_features, \n",
    "    columns=['PC1', 'PC2', 'PC3', 'PC4'])"
   ]
  },
  {
   "cell_type": "code",
   "execution_count": 263,
   "metadata": {},
   "outputs": [],
   "source": [
    "pca_df['Label'] = y"
   ]
  },
  {
   "cell_type": "code",
   "execution_count": 264,
   "metadata": {},
   "outputs": [
    {
     "data": {
      "image/png": "[encoded data removed]",
      "text/plain": [
       "<Figure size 640x480 with 1 Axes>"
      ]
     },
     "metadata": {},
     "output_type": "display_data"
    }
   ],
   "source": [
    "# Bar plot of explained_variance\n",
    "plt.bar(\n",
    "    range(1,len(pca.explained_variance_)+1),\n",
    "    pca.explained_variance_\n",
    "    )\n",
    " \n",
    " \n",
    "plt.xlabel('PCA Feature')\n",
    "plt.ylabel('Explained variance')\n",
    "plt.title('Feature Explained Variance')\n",
    "plt.show()"
   ]
  },
  {
   "attachments": {},
   "cell_type": "markdown",
   "metadata": {},
   "source": [
    "As evidenced in the figure obtained, the PC3 and PC4 don't have much relevance in the target. Since we know that LDA is also a dimensionality reducer, we jointly define leaving all the features obtained and performing the LDA with them."
   ]
  },
  {
   "cell_type": "code",
   "execution_count": 265,
   "metadata": {},
   "outputs": [
    {
     "data": {
      "text/html": [
       "<style>#sk-container-id-1 {color: black;background-color: white;}#sk-container-id-1 pre{padding: 0;}#sk-container-id-1 div.sk-toggleable {background-color: white;}#sk-container-id-1 label.sk-toggleable__label {cursor: pointer;display: block;width: 100%;margin-bottom: 0;padding: 0.3em;box-sizing: border-box;text-align: center;}#sk-container-id-1 label.sk-toggleable__label-arrow:before {content: \"▸\";float: left;margin-right: 0.25em;color: #696969;}#sk-container-id-1 label.sk-toggleable__label-arrow:hover:before {color: black;}#sk-container-id-1 div.sk-estimator:hover label.sk-toggleable__label-arrow:before {color: black;}#sk-container-id-1 div.sk-toggleable__content {max-height: 0;max-width: 0;overflow: hidden;text-align: left;background-color: #f0f8ff;}#sk-container-id-1 div.sk-toggleable__content pre {margin: 0.2em;color: black;border-radius: 0.25em;background-color: #f0f8ff;}#sk-container-id-1 input.sk-toggleable__control:checked~div.sk-toggleable__content {max-height: 200px;max-width: 100%;overflow: auto;}#sk-container-id-1 input.sk-toggleable__control:checked~label.sk-toggleable__label-arrow:before {content: \"▾\";}#sk-container-id-1 div.sk-estimator input.sk-toggleable__control:checked~label.sk-toggleable__label {background-color: #d4ebff;}#sk-container-id-1 div.sk-label input.sk-toggleable__control:checked~label.sk-toggleable__label {background-color: #d4ebff;}#sk-container-id-1 input.sk-hidden--visually {border: 0;clip: rect(1px 1px 1px 1px);clip: rect(1px, 1px, 1px, 1px);height: 1px;margin: -1px;overflow: hidden;padding: 0;position: absolute;width: 1px;}#sk-container-id-1 div.sk-estimator {font-family: monospace;background-color: #f0f8ff;border: 1px dotted black;border-radius: 0.25em;box-sizing: border-box;margin-bottom: 0.5em;}#sk-container-id-1 div.sk-estimator:hover {background-color: #d4ebff;}#sk-container-id-1 div.sk-parallel-item::after {content: \"\";width: 100%;border-bottom: 1px solid gray;flex-grow: 1;}#sk-container-id-1 div.sk-label:hover label.sk-toggleable__label {background-color: #d4ebff;}#sk-container-id-1 div.sk-serial::before {content: \"\";position: absolute;border-left: 1px solid gray;box-sizing: border-box;top: 0;bottom: 0;left: 50%;z-index: 0;}#sk-container-id-1 div.sk-serial {display: flex;flex-direction: column;align-items: center;background-color: white;padding-right: 0.2em;padding-left: 0.2em;position: relative;}#sk-container-id-1 div.sk-item {position: relative;z-index: 1;}#sk-container-id-1 div.sk-parallel {display: flex;align-items: stretch;justify-content: center;background-color: white;position: relative;}#sk-container-id-1 div.sk-item::before, #sk-container-id-1 div.sk-parallel-item::before {content: \"\";position: absolute;border-left: 1px solid gray;box-sizing: border-box;top: 0;bottom: 0;left: 50%;z-index: -1;}#sk-container-id-1 div.sk-parallel-item {display: flex;flex-direction: column;z-index: 1;position: relative;background-color: white;}#sk-container-id-1 div.sk-parallel-item:first-child::after {align-self: flex-end;width: 50%;}#sk-container-id-1 div.sk-parallel-item:last-child::after {align-self: flex-start;width: 50%;}#sk-container-id-1 div.sk-parallel-item:only-child::after {width: 0;}#sk-container-id-1 div.sk-dashed-wrapped {border: 1px dashed gray;margin: 0 0.4em 0.5em 0.4em;box-sizing: border-box;padding-bottom: 0.4em;background-color: white;}#sk-container-id-1 div.sk-label label {font-family: monospace;font-weight: bold;display: inline-block;line-height: 1.2em;}#sk-container-id-1 div.sk-label-container {text-align: center;}#sk-container-id-1 div.sk-container {/* jupyter's `normalize.less` sets `[hidden] { display: none; }` but bootstrap.min.css set `[hidden] { display: none !important; }` so we also need the `!important` here to be able to override the default hidden behavior on the sphinx rendered scikit-learn.org. See: https://github.com/scikit-learn/scikit-learn/issues/21755 */display: inline-block !important;position: relative;}#sk-container-id-1 div.sk-text-repr-fallback {display: none;}</style><div id=\"sk-container-id-1\" class=\"sk-top-container\"><div class=\"sk-text-repr-fallback\"><pre>LinearDiscriminantAnalysis()</pre><b>In a Jupyter environment, please rerun this cell to show the HTML representation or trust the notebook. <br />On GitHub, the HTML representation is unable to render, please try loading this page with nbviewer.org.</b></div><div class=\"sk-container\" hidden><div class=\"sk-item\"><div class=\"sk-estimator sk-toggleable\"><input class=\"sk-toggleable__control sk-hidden--visually\" id=\"sk-estimator-id-1\" type=\"checkbox\" checked><label for=\"sk-estimator-id-1\" class=\"sk-toggleable__label sk-toggleable__label-arrow\">LinearDiscriminantAnalysis</label><div class=\"sk-toggleable__content\"><pre>LinearDiscriminantAnalysis()</pre></div></div></div></div></div>"
      ],
      "text/plain": [
       "LinearDiscriminantAnalysis()"
      ]
     },
     "execution_count": 265,
     "metadata": {},
     "output_type": "execute_result"
    }
   ],
   "source": [
    "model_1 = LinearDiscriminantAnalysis() #create the model for data with PCA applied\n",
    "model_1.fit(pca_features, y)\n",
    "\n",
    "model_2 =  LinearDiscriminantAnalysis() #create the model for data without PCA applied\n",
    "model_2.fit(x_scaled, y)"
   ]
  },
  {
   "cell_type": "code",
   "execution_count": 268,
   "metadata": {},
   "outputs": [
    {
     "name": "stdout",
     "output_type": "stream",
     "text": [
      "Model Mean Accuracy: 0.530 (0.013)\n",
      "Model Mean Precision: 0.534 (0.006)\n",
      "Model Mean Recall: 0.982 (0.027)\n"
     ]
    }
   ],
   "source": [
    "#Evaluation method\n",
    "cross_validation = RepeatedStratifiedKFold(n_splits=10, n_repeats=3, random_state=1)\n",
    "\n",
    "#Evaluating the model\n",
    "acc = cross_val_score(model_1, pca_features, y, scoring='accuracy', cv=cross_validation, n_jobs=-1)\n",
    "pre = cross_val_score(model_1, pca_features, y, scoring='precision', cv=cross_validation, n_jobs=-1)\n",
    "rec = cross_val_score(model_1, pca_features, y, scoring='recall', cv=cross_validation, n_jobs=-1)\n",
    "\n",
    "\n",
    "#Result\n",
    "print('Model Mean Accuracy: %.3f (%.3f)' % (np.mean(acc), np.std(acc)))\n",
    "print('Model Mean Precision: %.3f (%.3f)' % (np.mean(pre), np.std(pre)))\n",
    "print('Model Mean Recall: %.3f (%.3f)' % (np.mean(rec), np.std(rec)))"
   ]
  },
  {
   "cell_type": "code",
   "execution_count": 269,
   "metadata": {},
   "outputs": [
    {
     "name": "stdout",
     "output_type": "stream",
     "text": [
      "Model Mean Accuracy: 0.532 (0.013)\n",
      "Model Mean Precision: 0.535 (0.007)\n",
      "Model Mean Recall: 0.975 (0.030)\n"
     ]
    }
   ],
   "source": [
    "#Evaluation method\n",
    "cross_validation = RepeatedStratifiedKFold(n_splits=10, n_repeats=2, random_state=1)\n",
    "\n",
    "#Evaluating the model\n",
    "acc = cross_val_score(model_2, x_scaled, y, scoring='accuracy', cv=cross_validation, n_jobs=1)\n",
    "pre = cross_val_score(model_2, x_scaled, y, scoring='precision', cv=cross_validation, n_jobs=1)\n",
    "rec = cross_val_score(model_2, x_scaled, y, scoring='recall', cv=cross_validation, n_jobs=1)\n",
    "\n",
    "\n",
    "#Result\n",
    "print('Model Mean Accuracy: %.3f (%.3f)' % (np.mean(acc), np.std(acc)))\n",
    "print('Model Mean Precision: %.3f (%.3f)' % (np.mean(pre), np.std(pre)))\n",
    "print('Model Mean Recall: %.3f (%.3f)' % (np.mean(rec), np.std(rec)))\n"
   ]
  },
  {
   "attachments": {},
   "cell_type": "markdown",
   "metadata": {},
   "source": [
    "We can see that the model performance are very similar wheter the PCA is performed or not. "
   ]
  },
  {
   "attachments": {},
   "cell_type": "markdown",
   "metadata": {},
   "source": [
    "### 4. Analysis "
   ]
  },
  {
   "attachments": {},
   "cell_type": "markdown",
   "metadata": {},
   "source": [
    "#### 4.1 A state-of-art reference for accuracy"
   ]
  },
  {
   "attachments": {},
   "cell_type": "markdown",
   "metadata": {},
   "source": [
    "![State of art](https://admhw3.s3.amazonaws.com/stateofart.jpg \"State of art\")"
   ]
  },
  {
   "attachments": {},
   "cell_type": "markdown",
   "metadata": {},
   "source": [
    "This table comes from the benchmark from a paper<sup>[5]</sup> describing a work that is very close to ours. The main differences are:\n",
    "- The adopted textual datasets is a collection of financial reports;\n",
    "- The feature engineering contemplate miscellanous inputs. \n",
    "\n",
    "As we can see the accuracy score that is the more related to our work is the one extracted from the performances of the unigram model, and it is pretty close to our top performances. These low values for accuracy are surely related to the high complexity of the considered phenomenon."
   ]
  },
  {
   "attachments": {},
   "cell_type": "markdown",
   "metadata": {},
   "source": [
    "#### 4.2 Our benchmark "
   ]
  },
  {
   "attachments": {},
   "cell_type": "markdown",
   "metadata": {},
   "source": [
    "We are only considering the unigrams feature engineering."
   ]
  },
  {
   "attachments": {},
   "cell_type": "markdown",
   "metadata": {},
   "source": [
    "| Model                        | Accuracy   | Precision   |Recall             |\n",
    "| ---------------------------- | -----------| ------------|-------------------|\n",
    "| Fully connected NN           | 0.52910    | 0.52381     |0.85492            |\n",
    "| Naive Bayes from-scratch     | 0.52910    | 0.53589     |0.58031            |\n",
    "| Naive Bayes scikit           | 0.48678    | 0.49835     |0.78238            |\n",
    "| Linear Discriminant Analysis | 0.53200    | 0.53500     |0.97500            |"
   ]
  },
  {
   "attachments": {},
   "cell_type": "markdown",
   "metadata": {},
   "source": [
    "As we can see the dataset is quiet robust to the different classification models. The performances strongly discourage from taking part in the tricky world of trading, but for sure our model can be improved. In particular:\n",
    "- We may pay more attention to regularization tools;\n",
    "- We may improve the feature engineering with more advanced model that can explain the complexity of the problem way better."
   ]
  },
  {
   "attachments": {},
   "cell_type": "markdown",
   "metadata": {},
   "source": [
    "### 5. Future works"
   ]
  },
  {
   "attachments": {},
   "cell_type": "markdown",
   "metadata": {},
   "source": [
    "1) Including other financial features: the volume of transictions is crucial about the health state of the stock market.\n",
    "2) Multinomial classification defining more complex labels, with respect to the range of the variation. 0-class is no change, 1-class is small negative change, 2-class is meltdown, 3-class is small positive change, 4-class is a glorious day for stock market. We can define this new labels with respect to the distribution of the variations between subsequent closing indeces. \n",
    "3) Feature extraction that highlights the localty of some recurrent patterns (concept based model, pattern based model<sup>[6]</sup>) to leverage powerful convulational neural network\n",
    "4) Building a end-to-end application with a user interface to allow the user to make his own predictions."
   ]
  },
  {
   "attachments": {},
   "cell_type": "markdown",
   "metadata": {},
   "source": [
    "### 6. References"
   ]
  },
  {
   "attachments": {},
   "cell_type": "markdown",
   "metadata": {},
   "source": [
    "<sup>[1]</sup> https://www.bmo.com/main/personal/investments/learning-centre/how-breaking-news-affects-markets/\n",
    "\n",
    "<sup>[2]</sup> 'Text mining approaches for stock market prediction' A.Nikfarja, E.Emadzadeh, S.Muthaiyah\n",
    "\n",
    "<sup>[3]</sup> ['Twitter Sentiment Analysis Using Natural Language Toolkit and VADER Sentiment'](https://www.iaeng.org/publication/IMECS2019/IMECS2019_pp12-16.pdf), Shihab Elbagir and Jing Yang,*Proceedings of the International MultiConference of Engineers and Computer Scientists 2019\n",
    "IMECS 2019, March 13-15, 2019, Hong Kong*\n",
    "\n",
    "<sup>[4]</sup> ['Deep linear discriminant analysis'](https://arxiv.org/pdf/1511.04707.pdf),Matthias Dorfer, Rainer Kelz & Gerhard Widmer, *Published as a conference paper at ICLR 2016*\n",
    "\n",
    "<sup>[5]</sup> ['On the Importance of Text Analysis for Stock Price Prediction'](http://www.lrec-conf.org/proceedings/lrec2014/pdf/1065_Paper.pdf), H.Lee, M.Surdeanu, B.MacCartney, D.Jurafsky\n",
    "\n",
    "<sup>[6]</sup> ['Text Mining at Feature Level: A Review'](https://media.neliti.com/media/publications/239634-text-mining-at-feature-level-a-review-f97764b6.pdf), T.Shruti, M.Choudhary, *International Journal of Advanced Engineering, Management and Science (IJAEMS) [Vol-2, Issue-9, Sept- 2016]*\n"
   ]
  }
 ],
 "metadata": {
  "kernelspec": {
   "display_name": "Python 3",
   "language": "python",
   "name": "python3"
  },
  "language_info": {
   "codemirror_mode": {
    "name": "ipython",
    "version": 3
   },
   "file_extension": ".py",
   "mimetype": "text/x-python",
   "name": "python",
   "nbconvert_exporter": "python",
   "pygments_lexer": "ipython3",
   "version": "3.10.7"
  },
  "orig_nbformat": 4,
  "vscode": {
   "interpreter": {
    "hash": "38cdd751ff1a78921eff5cc54f687db2b577836ff9e523662c7eedaeda872ff5"
   }
  }
 },
 "nbformat": 4,
 "nbformat_minor": 2
}
