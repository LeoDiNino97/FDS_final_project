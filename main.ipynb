{
 "cells": [
  {
   "cell_type": "code",
   "execution_count": 1,
   "metadata": {},
   "outputs": [
    {
     "name": "stderr",
     "output_type": "stream",
     "text": [
      "c:\\Users\\Leonardo\\AppData\\Local\\Programs\\Python\\Python310\\lib\\site-packages\\tqdm\\auto.py:22: TqdmWarning: IProgress not found. Please update jupyter and ipywidgets. See https://ipywidgets.readthedocs.io/en/stable/user_install.html\n",
      "  from .autonotebook import tqdm as notebook_tqdm\n"
     ]
    }
   ],
   "source": [
    "import pandas as pd                                         #Data scientist starter pack\n",
    "import numpy as np\n",
    "from matplotlib import pyplot as plt\n",
    "\n",
    "import seaborn as sns                                       #More on plotting\n",
    "\n",
    "import torch as trc                                         #To set PyTorch framework\n",
    "\n",
    "import string                                               #Some useful string tools\n",
    "import nltk                                                 #Natural language processing libraries\n",
    "import spacy\n",
    "import re                                                   #Regex tools\n",
    "\n",
    "import random as rdm                                        #Simulation tools\n",
    "import time                                                 #Ticking away the moments that make up a dull day\n",
    "\n",
    "from tqdm import tqdm                                       #Te quiero desmasiado "
   ]
  },
  {
   "cell_type": "code",
   "execution_count": 2,
   "metadata": {},
   "outputs": [],
   "source": [
    "news = pd.read_csv('datasets/RedditNews.csv')"
   ]
  },
  {
   "cell_type": "code",
   "execution_count": 15,
   "metadata": {},
   "outputs": [],
   "source": [
    "combined = pd.read_csv('datasets/Combined_News_DJIA.csv')"
   ]
  },
  {
   "cell_type": "markdown",
   "metadata": {},
   "source": [
    "Things to do:\n",
    "- Explorative Data Analysis to evaluate datasets consistency\n",
    "- Define function for text-preprocessing (stopwords, punctuation, stemming, tokenization)\n",
    "- Start thinking about the feature engineering for the text mining "
   ]
  },
  {
   "cell_type": "code",
   "execution_count": 18,
   "metadata": {},
   "outputs": [],
   "source": [
    "def text_preprocesser(text:string)->list:\n",
    "    tokenized = nltk.word_tokenize(''.join([char \n",
    "                                       for char \n",
    "                                       in text.lower() \n",
    "                                       if char not in string.punctuation]))\n",
    "                                       \n",
    "    stop_words = nltk.corpus.stopwords.words('english')\n",
    "    no_stop_words = [word \n",
    "                     for word \n",
    "                     in tokenized \n",
    "                     if word not in stop_words]\n",
    "\n",
    "    stemmer = nltk.stem.porter.PorterStemmer()\n",
    "    return [stemmer.stem(word)\n",
    "            for word \n",
    "            in no_stop_words]\n"
   ]
  },
  {
   "cell_type": "code",
   "execution_count": null,
   "metadata": {},
   "outputs": [],
   "source": []
  }
 ],
 "metadata": {
  "kernelspec": {
   "display_name": "Python 3.10.7 64-bit",
   "language": "python",
   "name": "python3"
  },
  "language_info": {
   "codemirror_mode": {
    "name": "ipython",
    "version": 3
   },
   "file_extension": ".py",
   "mimetype": "text/x-python",
   "name": "python",
   "nbconvert_exporter": "python",
   "pygments_lexer": "ipython3",
   "version": "3.10.7"
  },
  "orig_nbformat": 4,
  "vscode": {
   "interpreter": {
    "hash": "38cdd751ff1a78921eff5cc54f687db2b577836ff9e523662c7eedaeda872ff5"
   }
  }
 },
 "nbformat": 4,
 "nbformat_minor": 2
}
