{
 "cells": [
  {
   "cell_type": "code",
   "execution_count": 6,
   "metadata": {},
   "outputs": [],
   "source": [
    "import pandas as pd                                         #Data scientist starter pack\n",
    "import numpy as np\n",
    "from matplotlib import pyplot as plt\n",
    "\n",
    "import seaborn as sns                                       #More on plotting\n",
    "\n",
    "import torch as trc                                         #To set PyTorch framework\n",
    "\n",
    "import nltk                                                 #Natural language processing libraries\n",
    "import spacy\n",
    "import re                                                   #Regex tools\n",
    "\n",
    "import random as rdm                                        #Simulation tools\n",
    "import time                                                 #Ticking away the moments that make up a dull day\n",
    "\n",
    "from tqdm import tqdm                                       #Te quiero desmasiado "
   ]
  }
 ],
 "metadata": {
  "kernelspec": {
   "display_name": "Python 3.10.7 64-bit",
   "language": "python",
   "name": "python3"
  },
  "language_info": {
   "codemirror_mode": {
    "name": "ipython",
    "version": 3
   },
   "file_extension": ".py",
   "mimetype": "text/x-python",
   "name": "python",
   "nbconvert_exporter": "python",
   "pygments_lexer": "ipython3",
   "version": "3.10.7"
  },
  "orig_nbformat": 4,
  "vscode": {
   "interpreter": {
    "hash": "38cdd751ff1a78921eff5cc54f687db2b577836ff9e523662c7eedaeda872ff5"
   }
  }
 },
 "nbformat": 4,
 "nbformat_minor": 2
}
