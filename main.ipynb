{
 "cells": [
  {
   "cell_type": "code",
   "execution_count": 36,
   "metadata": {},
   "outputs": [],
   "source": [
    "import pandas as pd                                         #Data scientist starter pack\n",
    "import numpy as np\n",
    "from matplotlib import pyplot as plt\n",
    "import math\n",
    "\n",
    "from collections import Counter                             #Some useful tools \n",
    "from functools import reduce\n",
    "\n",
    "import seaborn as sns                                       #More on plotting\n",
    "\n",
    "import torch as trc                                         #To set PyTorch framework\n",
    "\n",
    "from datetime import datetime                               #To deal with datetime objects\n",
    "\n",
    "import string                                               #Some useful string tools\n",
    "import nltk                                                 #Natural language processing libraries\n",
    "import spacy\n",
    "import re                                                   #Regex tools\n",
    "\n",
    "import random as rdm                                        #Simulation tools\n",
    "import time                                                 #Ticking away the moments that make up a dull day\n",
    "\n",
    "from tqdm import tqdm                                       #Te quiero desmasiado "
   ]
  },
  {
   "cell_type": "markdown",
   "metadata": {},
   "source": [
    "### *Dow Jones dataset: explorative data analysis and first feature engineering*"
   ]
  },
  {
   "cell_type": "markdown",
   "metadata": {},
   "source": [
    "We don't need all the columns for our task, so we are going to load only the relevant columns, that are the opening value of the index and its closing value."
   ]
  },
  {
   "cell_type": "code",
   "execution_count": 4,
   "metadata": {},
   "outputs": [],
   "source": [
    "dow_jones = pd.read_csv('datasets/upload_DJIA_table.csv', usecols=['Date','Open','Close'])"
   ]
  },
  {
   "cell_type": "code",
   "execution_count": 5,
   "metadata": {},
   "outputs": [
    {
     "data": {
      "text/html": [
       "<div>\n",
       "<style scoped>\n",
       "    .dataframe tbody tr th:only-of-type {\n",
       "        vertical-align: middle;\n",
       "    }\n",
       "\n",
       "    .dataframe tbody tr th {\n",
       "        vertical-align: top;\n",
       "    }\n",
       "\n",
       "    .dataframe thead th {\n",
       "        text-align: right;\n",
       "    }\n",
       "</style>\n",
       "<table border=\"1\" class=\"dataframe\">\n",
       "  <thead>\n",
       "    <tr style=\"text-align: right;\">\n",
       "      <th></th>\n",
       "      <th>Date</th>\n",
       "      <th>Open</th>\n",
       "      <th>Close</th>\n",
       "    </tr>\n",
       "  </thead>\n",
       "  <tbody>\n",
       "    <tr>\n",
       "      <th>0</th>\n",
       "      <td>2016-07-01</td>\n",
       "      <td>17924.240234</td>\n",
       "      <td>17949.369141</td>\n",
       "    </tr>\n",
       "    <tr>\n",
       "      <th>1</th>\n",
       "      <td>2016-06-30</td>\n",
       "      <td>17712.759766</td>\n",
       "      <td>17929.990234</td>\n",
       "    </tr>\n",
       "    <tr>\n",
       "      <th>2</th>\n",
       "      <td>2016-06-29</td>\n",
       "      <td>17456.019531</td>\n",
       "      <td>17694.679688</td>\n",
       "    </tr>\n",
       "    <tr>\n",
       "      <th>3</th>\n",
       "      <td>2016-06-28</td>\n",
       "      <td>17190.509766</td>\n",
       "      <td>17409.720703</td>\n",
       "    </tr>\n",
       "    <tr>\n",
       "      <th>4</th>\n",
       "      <td>2016-06-27</td>\n",
       "      <td>17355.210938</td>\n",
       "      <td>17140.240234</td>\n",
       "    </tr>\n",
       "    <tr>\n",
       "      <th>5</th>\n",
       "      <td>2016-06-24</td>\n",
       "      <td>17946.630859</td>\n",
       "      <td>17400.750000</td>\n",
       "    </tr>\n",
       "    <tr>\n",
       "      <th>6</th>\n",
       "      <td>2016-06-23</td>\n",
       "      <td>17844.109375</td>\n",
       "      <td>18011.070312</td>\n",
       "    </tr>\n",
       "    <tr>\n",
       "      <th>7</th>\n",
       "      <td>2016-06-22</td>\n",
       "      <td>17832.669922</td>\n",
       "      <td>17780.830078</td>\n",
       "    </tr>\n",
       "    <tr>\n",
       "      <th>8</th>\n",
       "      <td>2016-06-21</td>\n",
       "      <td>17827.330078</td>\n",
       "      <td>17829.730469</td>\n",
       "    </tr>\n",
       "    <tr>\n",
       "      <th>9</th>\n",
       "      <td>2016-06-20</td>\n",
       "      <td>17736.869141</td>\n",
       "      <td>17804.869141</td>\n",
       "    </tr>\n",
       "  </tbody>\n",
       "</table>\n",
       "</div>"
      ],
      "text/plain": [
       "         Date          Open         Close\n",
       "0  2016-07-01  17924.240234  17949.369141\n",
       "1  2016-06-30  17712.759766  17929.990234\n",
       "2  2016-06-29  17456.019531  17694.679688\n",
       "3  2016-06-28  17190.509766  17409.720703\n",
       "4  2016-06-27  17355.210938  17140.240234\n",
       "5  2016-06-24  17946.630859  17400.750000\n",
       "6  2016-06-23  17844.109375  18011.070312\n",
       "7  2016-06-22  17832.669922  17780.830078\n",
       "8  2016-06-21  17827.330078  17829.730469\n",
       "9  2016-06-20  17736.869141  17804.869141"
      ]
     },
     "execution_count": 5,
     "metadata": {},
     "output_type": "execute_result"
    }
   ],
   "source": [
    "dow_jones.head(10)"
   ]
  },
  {
   "cell_type": "code",
   "execution_count": 6,
   "metadata": {},
   "outputs": [
    {
     "data": {
      "text/plain": [
       "Date     0\n",
       "Open     0\n",
       "Close    0\n",
       "dtype: int64"
      ]
     },
     "execution_count": 6,
     "metadata": {},
     "output_type": "execute_result"
    }
   ],
   "source": [
    "dow_jones.isna().sum()"
   ]
  },
  {
   "cell_type": "code",
   "execution_count": 7,
   "metadata": {},
   "outputs": [
    {
     "name": "stdout",
     "output_type": "stream",
     "text": [
      "<class 'pandas.core.frame.DataFrame'>\n",
      "RangeIndex: 1989 entries, 0 to 1988\n",
      "Data columns (total 3 columns):\n",
      " #   Column  Non-Null Count  Dtype  \n",
      "---  ------  --------------  -----  \n",
      " 0   Date    1989 non-null   object \n",
      " 1   Open    1989 non-null   float64\n",
      " 2   Close   1989 non-null   float64\n",
      "dtypes: float64(2), object(1)\n",
      "memory usage: 46.7+ KB\n"
     ]
    }
   ],
   "source": [
    "dow_jones.info()"
   ]
  },
  {
   "cell_type": "markdown",
   "metadata": {},
   "source": [
    "The Dow Jones dataset seems consistent. Now let's build a column with a label that express the ground thruth over which we are going to buil our model:\n",
    "- 1 express that the DJIA closed increasing over the opening value or at least remained the same;\n",
    "- 0 express that the DJIA closed decreasing over the opening value."
   ]
  },
  {
   "cell_type": "code",
   "execution_count": 6,
   "metadata": {},
   "outputs": [],
   "source": [
    "ground_truth = []\n",
    "for idx in dow_jones.index:\n",
    "    if dow_jones.iloc[idx].Close >= dow_jones.iloc[idx].Open:\n",
    "        ground_truth.append(1)\n",
    "    else:\n",
    "        ground_truth.append(0)"
   ]
  },
  {
   "cell_type": "code",
   "execution_count": 7,
   "metadata": {},
   "outputs": [],
   "source": [
    "dow_jones['Label'] = ground_truth"
   ]
  },
  {
   "cell_type": "markdown",
   "metadata": {},
   "source": [
    "Now let's plot some charts to have a glimpse at the data visualization. We can look at the distribution of our new feature to discover if it is well balanced and we can have a look to the general trend of the opening-closing pairs. "
   ]
  },
  {
   "cell_type": "code",
   "execution_count": 10,
   "metadata": {},
   "outputs": [
    {
     "data": {
      "image/png": "[encoded data removed]",
      "text/plain": [
       "<Figure size 640x480 with 1 Axes>"
      ]
     },
     "metadata": {},
     "output_type": "display_data"
    }
   ],
   "source": [
    "ax = plt.subplot(111)\n",
    "ax.bar(dow_jones['Label'].unique(), dow_jones['Label'].value_counts(), width=0.1, color=['green','red'])\n",
    "plt.show()"
   ]
  },
  {
   "cell_type": "code",
   "execution_count": 9,
   "metadata": {},
   "outputs": [
    {
     "data": {
      "text/plain": [
       "<matplotlib.collections.PathCollection at 0x24dc3775ff0>"
      ]
     },
     "execution_count": 9,
     "metadata": {},
     "output_type": "execute_result"
    },
    {
     "data": {
      "image/png": "[encoded data removed]",
      "text/plain": [
       "<Figure size 640x480 with 1 Axes>"
      ]
     },
     "metadata": {},
     "output_type": "display_data"
    }
   ],
   "source": [
    "plt.scatter(dow_jones.Open, dow_jones.Close, s = 0.5)"
   ]
  },
  {
   "cell_type": "markdown",
   "metadata": {},
   "source": [
    "We can see that our labels are quiet well balanced and that there's an expected strong linear correlation between opening DJIA and closening DJIA."
   ]
  },
  {
   "cell_type": "markdown",
   "metadata": {},
   "source": [
    "### *Newstitle dataset: explorative data analysis and text preprocessing*"
   ]
  },
  {
   "cell_type": "code",
   "execution_count": 8,
   "metadata": {},
   "outputs": [],
   "source": [
    "news = pd.read_csv('datasets/RedditNews.csv')"
   ]
  },
  {
   "cell_type": "code",
   "execution_count": 9,
   "metadata": {},
   "outputs": [
    {
     "data": {
      "text/html": [
       "<div>\n",
       "<style scoped>\n",
       "    .dataframe tbody tr th:only-of-type {\n",
       "        vertical-align: middle;\n",
       "    }\n",
       "\n",
       "    .dataframe tbody tr th {\n",
       "        vertical-align: top;\n",
       "    }\n",
       "\n",
       "    .dataframe thead th {\n",
       "        text-align: right;\n",
       "    }\n",
       "</style>\n",
       "<table border=\"1\" class=\"dataframe\">\n",
       "  <thead>\n",
       "    <tr style=\"text-align: right;\">\n",
       "      <th></th>\n",
       "      <th>Date</th>\n",
       "      <th>News</th>\n",
       "    </tr>\n",
       "  </thead>\n",
       "  <tbody>\n",
       "    <tr>\n",
       "      <th>0</th>\n",
       "      <td>2016-07-01</td>\n",
       "      <td>A 117-year-old woman in Mexico City finally re...</td>\n",
       "    </tr>\n",
       "    <tr>\n",
       "      <th>1</th>\n",
       "      <td>2016-07-01</td>\n",
       "      <td>IMF chief backs Athens as permanent Olympic host</td>\n",
       "    </tr>\n",
       "    <tr>\n",
       "      <th>2</th>\n",
       "      <td>2016-07-01</td>\n",
       "      <td>The president of France says if Brexit won, so...</td>\n",
       "    </tr>\n",
       "    <tr>\n",
       "      <th>3</th>\n",
       "      <td>2016-07-01</td>\n",
       "      <td>British Man Who Must Give Police 24 Hours' Not...</td>\n",
       "    </tr>\n",
       "    <tr>\n",
       "      <th>4</th>\n",
       "      <td>2016-07-01</td>\n",
       "      <td>100+ Nobel laureates urge Greenpeace to stop o...</td>\n",
       "    </tr>\n",
       "    <tr>\n",
       "      <th>5</th>\n",
       "      <td>2016-07-01</td>\n",
       "      <td>Brazil: Huge spike in number of police killing...</td>\n",
       "    </tr>\n",
       "    <tr>\n",
       "      <th>6</th>\n",
       "      <td>2016-07-01</td>\n",
       "      <td>Austria's highest court annuls presidential el...</td>\n",
       "    </tr>\n",
       "    <tr>\n",
       "      <th>7</th>\n",
       "      <td>2016-07-01</td>\n",
       "      <td>Facebook wins privacy case, can track any Belg...</td>\n",
       "    </tr>\n",
       "    <tr>\n",
       "      <th>8</th>\n",
       "      <td>2016-07-01</td>\n",
       "      <td>Switzerland denies Muslim girls citizenship af...</td>\n",
       "    </tr>\n",
       "    <tr>\n",
       "      <th>9</th>\n",
       "      <td>2016-07-01</td>\n",
       "      <td>China kills millions of innocent meditators fo...</td>\n",
       "    </tr>\n",
       "  </tbody>\n",
       "</table>\n",
       "</div>"
      ],
      "text/plain": [
       "         Date                                               News\n",
       "0  2016-07-01  A 117-year-old woman in Mexico City finally re...\n",
       "1  2016-07-01   IMF chief backs Athens as permanent Olympic host\n",
       "2  2016-07-01  The president of France says if Brexit won, so...\n",
       "3  2016-07-01  British Man Who Must Give Police 24 Hours' Not...\n",
       "4  2016-07-01  100+ Nobel laureates urge Greenpeace to stop o...\n",
       "5  2016-07-01  Brazil: Huge spike in number of police killing...\n",
       "6  2016-07-01  Austria's highest court annuls presidential el...\n",
       "7  2016-07-01  Facebook wins privacy case, can track any Belg...\n",
       "8  2016-07-01  Switzerland denies Muslim girls citizenship af...\n",
       "9  2016-07-01  China kills millions of innocent meditators fo..."
      ]
     },
     "execution_count": 9,
     "metadata": {},
     "output_type": "execute_result"
    }
   ],
   "source": [
    "news.head(10)"
   ]
  },
  {
   "cell_type": "markdown",
   "metadata": {},
   "source": [
    "Now we are just going to check if the dataset is consistent."
   ]
  },
  {
   "cell_type": "code",
   "execution_count": 13,
   "metadata": {},
   "outputs": [
    {
     "data": {
      "text/plain": [
       "Date    0\n",
       "News    0\n",
       "dtype: int64"
      ]
     },
     "execution_count": 13,
     "metadata": {},
     "output_type": "execute_result"
    }
   ],
   "source": [
    "news.isna().sum()"
   ]
  },
  {
   "cell_type": "markdown",
   "metadata": {},
   "source": [
    "So we can proceed to build a view of the dataset where we group by the date and then build a new feature from joining all the preprocessed newstitles. This function leverages NLTK library and do the whole text-preprocessing: punctuation and stop-words removal, tokenization and stemming. "
   ]
  },
  {
   "cell_type": "code",
   "execution_count": 10,
   "metadata": {},
   "outputs": [],
   "source": [
    "def text_preprocesser(text:string)->list:\n",
    "    tokenized = nltk.word_tokenize(''.join([char \n",
    "                                       for char \n",
    "                                       in text.lower() \n",
    "                                       if char not in string.punctuation]))\n",
    "                                       \n",
    "    stop_words = nltk.corpus.stopwords.words('english')\n",
    "    no_stop_words = [word \n",
    "                     for word \n",
    "                     in tokenized \n",
    "                     if word not in stop_words]\n",
    "\n",
    "    stemmer = nltk.stem.porter.PorterStemmer()\n",
    "\n",
    "    return [stemmer.stem(word)\n",
    "            for word \n",
    "            in no_stop_words]"
   ]
  },
  {
   "cell_type": "code",
   "execution_count": 11,
   "metadata": {},
   "outputs": [],
   "source": [
    "documents = {}\n",
    "for date in news.Date.unique():\n",
    "    processed = []\n",
    "    for text in news.News[news.Date == date]:\n",
    "        processed += text_preprocesser(text)\n",
    "    documents[date] = processed"
   ]
  },
  {
   "cell_type": "code",
   "execution_count": 12,
   "metadata": {},
   "outputs": [],
   "source": [
    "newers = pd.DataFrame({'Date':documents.keys(),\n",
    "                      'Preprocessed News':documents.values()})"
   ]
  },
  {
   "cell_type": "code",
   "execution_count": 13,
   "metadata": {},
   "outputs": [
    {
     "data": {
      "text/html": [
       "<div>\n",
       "<style scoped>\n",
       "    .dataframe tbody tr th:only-of-type {\n",
       "        vertical-align: middle;\n",
       "    }\n",
       "\n",
       "    .dataframe tbody tr th {\n",
       "        vertical-align: top;\n",
       "    }\n",
       "\n",
       "    .dataframe thead th {\n",
       "        text-align: right;\n",
       "    }\n",
       "</style>\n",
       "<table border=\"1\" class=\"dataframe\">\n",
       "  <thead>\n",
       "    <tr style=\"text-align: right;\">\n",
       "      <th></th>\n",
       "      <th>Date</th>\n",
       "      <th>Preprocessed News</th>\n",
       "    </tr>\n",
       "  </thead>\n",
       "  <tbody>\n",
       "    <tr>\n",
       "      <th>0</th>\n",
       "      <td>2016-07-01</td>\n",
       "      <td>[117yearold, woman, mexico, citi, final, recei...</td>\n",
       "    </tr>\n",
       "    <tr>\n",
       "      <th>1</th>\n",
       "      <td>2016-06-30</td>\n",
       "      <td>[jamaica, propos, marijuana, dispens, tourist,...</td>\n",
       "    </tr>\n",
       "    <tr>\n",
       "      <th>2</th>\n",
       "      <td>2016-06-29</td>\n",
       "      <td>[explos, airport, istanbul, yemeni, former, pr...</td>\n",
       "    </tr>\n",
       "    <tr>\n",
       "      <th>3</th>\n",
       "      <td>2016-06-28</td>\n",
       "      <td>[2500, scientist, australia, want, save, great...</td>\n",
       "    </tr>\n",
       "    <tr>\n",
       "      <th>4</th>\n",
       "      <td>2016-06-27</td>\n",
       "      <td>[barclay, rb, share, suspend, trade, tank, 8, ...</td>\n",
       "    </tr>\n",
       "    <tr>\n",
       "      <th>5</th>\n",
       "      <td>2016-06-26</td>\n",
       "      <td>[author, raid, 14, scientolog, offic, russia, ...</td>\n",
       "    </tr>\n",
       "    <tr>\n",
       "      <th>6</th>\n",
       "      <td>2016-06-25</td>\n",
       "      <td>[six, week, rio, olymp, lab, handl, drug, test...</td>\n",
       "    </tr>\n",
       "    <tr>\n",
       "      <th>7</th>\n",
       "      <td>2016-06-24</td>\n",
       "      <td>[david, cameron, resign, pm, eu, referendum, b...</td>\n",
       "    </tr>\n",
       "    <tr>\n",
       "      <th>8</th>\n",
       "      <td>2016-06-23</td>\n",
       "      <td>[today, unit, kingdom, decid, whether, remain,...</td>\n",
       "    </tr>\n",
       "    <tr>\n",
       "      <th>9</th>\n",
       "      <td>2016-06-22</td>\n",
       "      <td>[german, govern, agre, ban, frack, indefinit, ...</td>\n",
       "    </tr>\n",
       "  </tbody>\n",
       "</table>\n",
       "</div>"
      ],
      "text/plain": [
       "         Date                                  Preprocessed News\n",
       "0  2016-07-01  [117yearold, woman, mexico, citi, final, recei...\n",
       "1  2016-06-30  [jamaica, propos, marijuana, dispens, tourist,...\n",
       "2  2016-06-29  [explos, airport, istanbul, yemeni, former, pr...\n",
       "3  2016-06-28  [2500, scientist, australia, want, save, great...\n",
       "4  2016-06-27  [barclay, rb, share, suspend, trade, tank, 8, ...\n",
       "5  2016-06-26  [author, raid, 14, scientolog, offic, russia, ...\n",
       "6  2016-06-25  [six, week, rio, olymp, lab, handl, drug, test...\n",
       "7  2016-06-24  [david, cameron, resign, pm, eu, referendum, b...\n",
       "8  2016-06-23  [today, unit, kingdom, decid, whether, remain,...\n",
       "9  2016-06-22  [german, govern, agre, ban, frack, indefinit, ..."
      ]
     },
     "execution_count": 13,
     "metadata": {},
     "output_type": "execute_result"
    }
   ],
   "source": [
    "newers.head(10)"
   ]
  },
  {
   "cell_type": "markdown",
   "metadata": {},
   "source": [
    "### *Our dataset: joining the previous work into a projection of the data of interest*"
   ]
  },
  {
   "cell_type": "code",
   "execution_count": 14,
   "metadata": {},
   "outputs": [],
   "source": [
    "final_dataset = dow_jones.merge(newers)\n",
    "final_dataset = final_dataset.drop(labels=['Open','Close'], axis=1)"
   ]
  },
  {
   "cell_type": "code",
   "execution_count": 19,
   "metadata": {},
   "outputs": [
    {
     "data": {
      "text/html": [
       "<div>\n",
       "<style scoped>\n",
       "    .dataframe tbody tr th:only-of-type {\n",
       "        vertical-align: middle;\n",
       "    }\n",
       "\n",
       "    .dataframe tbody tr th {\n",
       "        vertical-align: top;\n",
       "    }\n",
       "\n",
       "    .dataframe thead th {\n",
       "        text-align: right;\n",
       "    }\n",
       "</style>\n",
       "<table border=\"1\" class=\"dataframe\">\n",
       "  <thead>\n",
       "    <tr style=\"text-align: right;\">\n",
       "      <th></th>\n",
       "      <th>Date</th>\n",
       "      <th>Label</th>\n",
       "      <th>Preprocessed News</th>\n",
       "    </tr>\n",
       "  </thead>\n",
       "  <tbody>\n",
       "    <tr>\n",
       "      <th>0</th>\n",
       "      <td>2016-07-01</td>\n",
       "      <td>1</td>\n",
       "      <td>[117yearold, woman, mexico, citi, final, recei...</td>\n",
       "    </tr>\n",
       "    <tr>\n",
       "      <th>1</th>\n",
       "      <td>2016-06-30</td>\n",
       "      <td>1</td>\n",
       "      <td>[jamaica, propos, marijuana, dispens, tourist,...</td>\n",
       "    </tr>\n",
       "    <tr>\n",
       "      <th>2</th>\n",
       "      <td>2016-06-29</td>\n",
       "      <td>1</td>\n",
       "      <td>[explos, airport, istanbul, yemeni, former, pr...</td>\n",
       "    </tr>\n",
       "    <tr>\n",
       "      <th>3</th>\n",
       "      <td>2016-06-28</td>\n",
       "      <td>1</td>\n",
       "      <td>[2500, scientist, australia, want, save, great...</td>\n",
       "    </tr>\n",
       "    <tr>\n",
       "      <th>4</th>\n",
       "      <td>2016-06-27</td>\n",
       "      <td>0</td>\n",
       "      <td>[barclay, rb, share, suspend, trade, tank, 8, ...</td>\n",
       "    </tr>\n",
       "    <tr>\n",
       "      <th>5</th>\n",
       "      <td>2016-06-24</td>\n",
       "      <td>0</td>\n",
       "      <td>[david, cameron, resign, pm, eu, referendum, b...</td>\n",
       "    </tr>\n",
       "    <tr>\n",
       "      <th>6</th>\n",
       "      <td>2016-06-23</td>\n",
       "      <td>1</td>\n",
       "      <td>[today, unit, kingdom, decid, whether, remain,...</td>\n",
       "    </tr>\n",
       "    <tr>\n",
       "      <th>7</th>\n",
       "      <td>2016-06-22</td>\n",
       "      <td>0</td>\n",
       "      <td>[german, govern, agre, ban, frack, indefinit, ...</td>\n",
       "    </tr>\n",
       "    <tr>\n",
       "      <th>8</th>\n",
       "      <td>2016-06-21</td>\n",
       "      <td>1</td>\n",
       "      <td>[australian, athlet, compet, six, paralymp, ga...</td>\n",
       "    </tr>\n",
       "    <tr>\n",
       "      <th>9</th>\n",
       "      <td>2016-06-20</td>\n",
       "      <td>1</td>\n",
       "      <td>[stagger, 87, percent, venezuelan, say, money,...</td>\n",
       "    </tr>\n",
       "  </tbody>\n",
       "</table>\n",
       "</div>"
      ],
      "text/plain": [
       "         Date  Label                                  Preprocessed News\n",
       "0  2016-07-01      1  [117yearold, woman, mexico, citi, final, recei...\n",
       "1  2016-06-30      1  [jamaica, propos, marijuana, dispens, tourist,...\n",
       "2  2016-06-29      1  [explos, airport, istanbul, yemeni, former, pr...\n",
       "3  2016-06-28      1  [2500, scientist, australia, want, save, great...\n",
       "4  2016-06-27      0  [barclay, rb, share, suspend, trade, tank, 8, ...\n",
       "5  2016-06-24      0  [david, cameron, resign, pm, eu, referendum, b...\n",
       "6  2016-06-23      1  [today, unit, kingdom, decid, whether, remain,...\n",
       "7  2016-06-22      0  [german, govern, agre, ban, frack, indefinit, ...\n",
       "8  2016-06-21      1  [australian, athlet, compet, six, paralymp, ga...\n",
       "9  2016-06-20      1  [stagger, 87, percent, venezuelan, say, money,..."
      ]
     },
     "execution_count": 19,
     "metadata": {},
     "output_type": "execute_result"
    }
   ],
   "source": [
    "final_dataset.head(10)"
   ]
  },
  {
   "cell_type": "markdown",
   "metadata": {},
   "source": [
    "The authour of the dataset suggests a way to split the dataset into the train-set and the test-set respecting the 80/20 proportion:\n",
    "- Training Set: from 2008-08-08 to 2014-12-31\n",
    "- Test Set: from 2015-01-02 to 2016-07-01"
   ]
  },
  {
   "cell_type": "markdown",
   "metadata": {},
   "source": [
    "Before doing this, we need a function that builds datetime-instances from Date column."
   ]
  },
  {
   "cell_type": "code",
   "execution_count": 20,
   "metadata": {},
   "outputs": [],
   "source": [
    "def string_to_datetime(stringed:string):\n",
    "    return datetime.strptime(stringed, '%Y-%m-%d').date()"
   ]
  },
  {
   "cell_type": "code",
   "execution_count": 21,
   "metadata": {},
   "outputs": [],
   "source": [
    "final_dataset['Date'] = final_dataset['Date'].map(lambda text:string_to_datetime(text))"
   ]
  },
  {
   "cell_type": "code",
   "execution_count": 32,
   "metadata": {},
   "outputs": [],
   "source": [
    "train_set = final_dataset[(final_dataset.Date >= string_to_datetime('2008-08-08')) & (final_dataset.Date <= string_to_datetime('2014-12-31'))].reset_index(drop=True)\n",
    "test_set = final_dataset[(final_dataset.Date >= string_to_datetime('2015-01-02')) & (final_dataset.Date <= string_to_datetime('2016-07-01'))].reset_index(drop=True)"
   ]
  },
  {
   "cell_type": "code",
   "execution_count": 36,
   "metadata": {},
   "outputs": [
    {
     "data": {
      "text/html": [
       "<div>\n",
       "<style scoped>\n",
       "    .dataframe tbody tr th:only-of-type {\n",
       "        vertical-align: middle;\n",
       "    }\n",
       "\n",
       "    .dataframe tbody tr th {\n",
       "        vertical-align: top;\n",
       "    }\n",
       "\n",
       "    .dataframe thead th {\n",
       "        text-align: right;\n",
       "    }\n",
       "</style>\n",
       "<table border=\"1\" class=\"dataframe\">\n",
       "  <thead>\n",
       "    <tr style=\"text-align: right;\">\n",
       "      <th></th>\n",
       "      <th>Unnamed: 0</th>\n",
       "      <th>Date</th>\n",
       "      <th>Label</th>\n",
       "      <th>Preprocessed News</th>\n",
       "    </tr>\n",
       "  </thead>\n",
       "  <tbody>\n",
       "    <tr>\n",
       "      <th>0</th>\n",
       "      <td>0</td>\n",
       "      <td>2014-12-31</td>\n",
       "      <td>0</td>\n",
       "      <td>['airasia', 'flight', 'found', 'bottom', 'java...</td>\n",
       "    </tr>\n",
       "    <tr>\n",
       "      <th>1</th>\n",
       "      <td>1</td>\n",
       "      <td>2014-12-30</td>\n",
       "      <td>0</td>\n",
       "      <td>['china', 'businessman', 'jail', '13', 'year',...</td>\n",
       "    </tr>\n",
       "    <tr>\n",
       "      <th>2</th>\n",
       "      <td>2</td>\n",
       "      <td>2014-12-29</td>\n",
       "      <td>0</td>\n",
       "      <td>['solar', 'power', 'storag', 'price', 'drop', ...</td>\n",
       "    </tr>\n",
       "    <tr>\n",
       "      <th>3</th>\n",
       "      <td>3</td>\n",
       "      <td>2014-12-26</td>\n",
       "      <td>1</td>\n",
       "      <td>['saudi', 'eagerli', 'await', 'approv', 'new',...</td>\n",
       "    </tr>\n",
       "    <tr>\n",
       "      <th>4</th>\n",
       "      <td>4</td>\n",
       "      <td>2014-12-24</td>\n",
       "      <td>0</td>\n",
       "      <td>['death', 'toll', 'among', 'qatar', '2022', 'w...</td>\n",
       "    </tr>\n",
       "  </tbody>\n",
       "</table>\n",
       "</div>"
      ],
      "text/plain": [
       "   Unnamed: 0        Date  Label  \\\n",
       "0           0  2014-12-31      0   \n",
       "1           1  2014-12-30      0   \n",
       "2           2  2014-12-29      0   \n",
       "3           3  2014-12-26      1   \n",
       "4           4  2014-12-24      0   \n",
       "\n",
       "                                   Preprocessed News  \n",
       "0  ['airasia', 'flight', 'found', 'bottom', 'java...  \n",
       "1  ['china', 'businessman', 'jail', '13', 'year',...  \n",
       "2  ['solar', 'power', 'storag', 'price', 'drop', ...  \n",
       "3  ['saudi', 'eagerli', 'await', 'approv', 'new',...  \n",
       "4  ['death', 'toll', 'among', 'qatar', '2022', 'w...  "
      ]
     },
     "execution_count": 36,
     "metadata": {},
     "output_type": "execute_result"
    }
   ],
   "source": [
    "train_set.head()"
   ]
  },
  {
   "cell_type": "code",
   "execution_count": 33,
   "metadata": {},
   "outputs": [],
   "source": [
    "train_set.to_csv('engineered_datasets/train_set.csv')\n",
    "test_set.to_csv('engineered_datasets/test_set.csv')"
   ]
  },
  {
   "cell_type": "markdown",
   "metadata": {},
   "source": [
    "__________________________"
   ]
  },
  {
   "cell_type": "markdown",
   "metadata": {},
   "source": [
    "### *Some more feature engineering: feature extraction from preprocessed text*"
   ]
  },
  {
   "cell_type": "markdown",
   "metadata": {},
   "source": [
    "First of all let's import the two dataset we previously defined. "
   ]
  },
  {
   "cell_type": "code",
   "execution_count": 39,
   "metadata": {},
   "outputs": [],
   "source": [
    "train_set = pd.read_csv('engineered_datasets/train_set.csv', index_col = 'Unnamed: 0')\n",
    "test_set = pd.read_csv('engineered_datasets/test_set.csv', index_col = 'Unnamed: 0')"
   ]
  },
  {
   "cell_type": "code",
   "execution_count": 40,
   "metadata": {},
   "outputs": [
    {
     "data": {
      "text/html": [
       "<div>\n",
       "<style scoped>\n",
       "    .dataframe tbody tr th:only-of-type {\n",
       "        vertical-align: middle;\n",
       "    }\n",
       "\n",
       "    .dataframe tbody tr th {\n",
       "        vertical-align: top;\n",
       "    }\n",
       "\n",
       "    .dataframe thead th {\n",
       "        text-align: right;\n",
       "    }\n",
       "</style>\n",
       "<table border=\"1\" class=\"dataframe\">\n",
       "  <thead>\n",
       "    <tr style=\"text-align: right;\">\n",
       "      <th></th>\n",
       "      <th>Date</th>\n",
       "      <th>Label</th>\n",
       "      <th>Preprocessed News</th>\n",
       "    </tr>\n",
       "  </thead>\n",
       "  <tbody>\n",
       "    <tr>\n",
       "      <th>0</th>\n",
       "      <td>2016-07-01</td>\n",
       "      <td>1</td>\n",
       "      <td>['117yearold', 'woman', 'mexico', 'citi', 'fin...</td>\n",
       "    </tr>\n",
       "    <tr>\n",
       "      <th>1</th>\n",
       "      <td>2016-06-30</td>\n",
       "      <td>1</td>\n",
       "      <td>['jamaica', 'propos', 'marijuana', 'dispens', ...</td>\n",
       "    </tr>\n",
       "    <tr>\n",
       "      <th>2</th>\n",
       "      <td>2016-06-29</td>\n",
       "      <td>1</td>\n",
       "      <td>['explos', 'airport', 'istanbul', 'yemeni', 'f...</td>\n",
       "    </tr>\n",
       "    <tr>\n",
       "      <th>3</th>\n",
       "      <td>2016-06-28</td>\n",
       "      <td>1</td>\n",
       "      <td>['2500', 'scientist', 'australia', 'want', 'sa...</td>\n",
       "    </tr>\n",
       "    <tr>\n",
       "      <th>4</th>\n",
       "      <td>2016-06-27</td>\n",
       "      <td>0</td>\n",
       "      <td>['barclay', 'rb', 'share', 'suspend', 'trade',...</td>\n",
       "    </tr>\n",
       "  </tbody>\n",
       "</table>\n",
       "</div>"
      ],
      "text/plain": [
       "         Date  Label                                  Preprocessed News\n",
       "0  2016-07-01      1  ['117yearold', 'woman', 'mexico', 'citi', 'fin...\n",
       "1  2016-06-30      1  ['jamaica', 'propos', 'marijuana', 'dispens', ...\n",
       "2  2016-06-29      1  ['explos', 'airport', 'istanbul', 'yemeni', 'f...\n",
       "3  2016-06-28      1  ['2500', 'scientist', 'australia', 'want', 'sa...\n",
       "4  2016-06-27      0  ['barclay', 'rb', 'share', 'suspend', 'trade',..."
      ]
     },
     "execution_count": 40,
     "metadata": {},
     "output_type": "execute_result"
    }
   ],
   "source": [
    "test_set.head()"
   ]
  },
  {
   "cell_type": "markdown",
   "metadata": {},
   "source": [
    "The next step is to define a proper feature extraction for the preprocessed text. Good ideas for this are two basic procedures in text mining:\n",
    "\n",
    "- *TFIDF* -> sintactically vectorization of the documents;\n",
    "\n",
    "- *Word2vec* -> more semantically sensitive procedure to vectorize documents. \n",
    "\n",
    "The approach will be to test on these two feature extraction to eventually retrieve more specifically features. Then we are going to test both on different types of binary classifiers, and we will choose the one with the best performances with respect to accuracy and auroc metrics. "
   ]
  },
  {
   "cell_type": "markdown",
   "metadata": {},
   "source": [
    "#### *TFIDF vectorization from scratch*"
   ]
  },
  {
   "cell_type": "markdown",
   "metadata": {},
   "source": [
    "We need to define some partial outputs:\n",
    "- Vocabulary -> it contains all the words in the corpus mapped to progressive integers;\n",
    "- IDF -> it is a vector where each of the words is weighted with respect to its frequency $n_i$ in the corpus of $n$ documents: IDF for the i-th word is $IDF_i = log_{10} \\frac{n}{n_i}$\n",
    "- TFIDF -> we are going to vectorize each word with normalized frequency weighted with respect to the linked IDF."
   ]
  },
  {
   "cell_type": "code",
   "execution_count": 22,
   "metadata": {},
   "outputs": [],
   "source": [
    "listOfWords = []\n",
    "for index in final_dataset.index:\n",
    "    listOfWords += final_dataset['Preprocessed News'][index]\n",
    "\n",
    "vocabulary = {}\n",
    "term_id = 1\n",
    "for word in sorted(list(set(listOfWords))):\n",
    "    vocabulary[word] = term_id\n",
    "    term_id += 1"
   ]
  },
  {
   "cell_type": "code",
   "execution_count": 31,
   "metadata": {},
   "outputs": [],
   "source": [
    "from collections import Counter\n",
    "from functools import reduce\n",
    "import math"
   ]
  },
  {
   "cell_type": "code",
   "execution_count": 32,
   "metadata": {},
   "outputs": [],
   "source": [
    "word_occ = Counter(reduce(lambda x,y:x+y, final_dataset['Preprocessed News']))\n",
    "idf = {}\n",
    "L = len(final_dataset['Preprocessed News'])\n",
    "for word in word_occ.keys():\n",
    "    idf[word] = math.log10(L/word_occ[word])"
   ]
  },
  {
   "cell_type": "code",
   "execution_count": 33,
   "metadata": {},
   "outputs": [],
   "source": [
    "tfidf_inverted_index = {}\n",
    "\n",
    "for index, list_ in final_dataset['Preprocessed News'].iteritems():\n",
    "    counter = Counter(list_)\n",
    "    for word in set(list_):\n",
    "        tf_idf = counter[word]*idf[word]/len(list_)\n",
    "        if vocabulary[word] in tfidf_inverted_index:\n",
    "            tfidf_inverted_index[vocabulary[word]].append((index, tf_idf))\n",
    "        else:\n",
    "            tfidf_inverted_index[vocabulary[word]] = [(index, tf_idf)]"
   ]
  },
  {
   "cell_type": "markdown",
   "metadata": {},
   "source": [
    "### Future works"
   ]
  },
  {
   "cell_type": "markdown",
   "metadata": {},
   "source": [
    "1) Multinomial classification defining more complex labels, with respect to the range of the variation. 0-class is no change, 1-class is small negative change, 2-class is meltdown, 3-class is small positive change, 4-class is a glorious day for stock market. We can define this new labels with respect to the distribution of the variations between closing and opening index. "
   ]
  },
  {
   "cell_type": "markdown",
   "metadata": {},
   "source": []
  }
 ],
 "metadata": {
  "kernelspec": {
   "display_name": "Python 3.10.7 64-bit",
   "language": "python",
   "name": "python3"
  },
  "language_info": {
   "codemirror_mode": {
    "name": "ipython",
    "version": 3
   },
   "file_extension": ".py",
   "mimetype": "text/x-python",
   "name": "python",
   "nbconvert_exporter": "python",
   "pygments_lexer": "ipython3",
   "version": "3.10.7"
  },
  "orig_nbformat": 4,
  "vscode": {
   "interpreter": {
    "hash": "38cdd751ff1a78921eff5cc54f687db2b577836ff9e523662c7eedaeda872ff5"
   }
  }
 },
 "nbformat": 4,
 "nbformat_minor": 2
}
